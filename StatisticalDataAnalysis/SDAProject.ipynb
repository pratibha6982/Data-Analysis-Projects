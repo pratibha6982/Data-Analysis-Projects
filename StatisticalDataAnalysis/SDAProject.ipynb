{
 "cells": [
  {
   "cell_type": "markdown",
   "metadata": {},
   "source": [
    "# Analyzing plan for telecom operator Megaline\n",
    "\n",
    "The company offers its clients two prepaid plans, Surf and Ultimate. The commercial department wants to know which of the plans brings in more revenue in order to adjust the advertising budget.\n",
    "\n",
    "For analyzing, We have the data of 500 small Megaline client. The data includes who the clients are, where they're from, which plan they use, and the number of calls they made and text messages they sent in 2018. Our job is to analyze clients' behavior and determine which prepaid plan brings in more revenue."
   ]
  },
  {
   "cell_type": "markdown",
   "metadata": {},
   "source": [
    "## Step 1. Open the data file and study the general information. "
   ]
  },
  {
   "cell_type": "code",
   "execution_count": 4,
   "metadata": {
    "scrolled": false
   },
   "outputs": [
    {
     "name": "stdout",
     "output_type": "stream",
     "text": [
      "<class 'pandas.core.frame.DataFrame'>\n",
      "RangeIndex: 137735 entries, 0 to 137734\n",
      "Data columns (total 4 columns):\n",
      " #   Column     Non-Null Count   Dtype  \n",
      "---  ------     --------------   -----  \n",
      " 0   id         137735 non-null  object \n",
      " 1   user_id    137735 non-null  int64  \n",
      " 2   call_date  137735 non-null  object \n",
      " 3   duration   137735 non-null  float64\n",
      "dtypes: float64(1), int64(1), object(2)\n",
      "memory usage: 4.2+ MB\n",
      "<class 'pandas.core.frame.DataFrame'>\n",
      "RangeIndex: 104825 entries, 0 to 104824\n",
      "Data columns (total 4 columns):\n",
      " #   Column        Non-Null Count   Dtype  \n",
      "---  ------        --------------   -----  \n",
      " 0   id            104825 non-null  object \n",
      " 1   user_id       104825 non-null  int64  \n",
      " 2   session_date  104825 non-null  object \n",
      " 3   mb_used       104825 non-null  float64\n",
      "dtypes: float64(1), int64(1), object(2)\n",
      "memory usage: 3.2+ MB\n",
      "<class 'pandas.core.frame.DataFrame'>\n",
      "RangeIndex: 76051 entries, 0 to 76050\n",
      "Data columns (total 3 columns):\n",
      " #   Column        Non-Null Count  Dtype \n",
      "---  ------        --------------  ----- \n",
      " 0   id            76051 non-null  object\n",
      " 1   user_id       76051 non-null  int64 \n",
      " 2   message_date  76051 non-null  object\n",
      "dtypes: int64(1), object(2)\n",
      "memory usage: 1.7+ MB\n",
      "<class 'pandas.core.frame.DataFrame'>\n",
      "RangeIndex: 2 entries, 0 to 1\n",
      "Data columns (total 8 columns):\n",
      " #   Column                 Non-Null Count  Dtype  \n",
      "---  ------                 --------------  -----  \n",
      " 0   messages_included      2 non-null      int64  \n",
      " 1   mb_per_month_included  2 non-null      int64  \n",
      " 2   minutes_included       2 non-null      int64  \n",
      " 3   usd_monthly_pay        2 non-null      int64  \n",
      " 4   usd_per_gb             2 non-null      int64  \n",
      " 5   usd_per_message        2 non-null      float64\n",
      " 6   usd_per_minute         2 non-null      float64\n",
      " 7   plan_name              2 non-null      object \n",
      "dtypes: float64(2), int64(5), object(1)\n",
      "memory usage: 256.0+ bytes\n",
      "<class 'pandas.core.frame.DataFrame'>\n",
      "RangeIndex: 500 entries, 0 to 499\n",
      "Data columns (total 8 columns):\n",
      " #   Column      Non-Null Count  Dtype \n",
      "---  ------      --------------  ----- \n",
      " 0   user_id     500 non-null    int64 \n",
      " 1   first_name  500 non-null    object\n",
      " 2   last_name   500 non-null    object\n",
      " 3   age         500 non-null    int64 \n",
      " 4   city        500 non-null    object\n",
      " 5   reg_date    500 non-null    object\n",
      " 6   plan        500 non-null    object\n",
      " 7   churn_date  34 non-null     object\n",
      "dtypes: int64(2), object(6)\n",
      "memory usage: 31.4+ KB\n"
     ]
    },
    {
     "data": {
      "text/html": [
       "<div>\n",
       "<style scoped>\n",
       "    .dataframe tbody tr th:only-of-type {\n",
       "        vertical-align: middle;\n",
       "    }\n",
       "\n",
       "    .dataframe tbody tr th {\n",
       "        vertical-align: top;\n",
       "    }\n",
       "\n",
       "    .dataframe thead th {\n",
       "        text-align: right;\n",
       "    }\n",
       "</style>\n",
       "<table border=\"1\" class=\"dataframe\">\n",
       "  <thead>\n",
       "    <tr style=\"text-align: right;\">\n",
       "      <th></th>\n",
       "      <th>id</th>\n",
       "      <th>user_id</th>\n",
       "      <th>call_date</th>\n",
       "      <th>duration</th>\n",
       "    </tr>\n",
       "  </thead>\n",
       "  <tbody>\n",
       "    <tr>\n",
       "      <th>0</th>\n",
       "      <td>1000_93</td>\n",
       "      <td>1000</td>\n",
       "      <td>2018-12-27</td>\n",
       "      <td>8.52</td>\n",
       "    </tr>\n",
       "    <tr>\n",
       "      <th>1</th>\n",
       "      <td>1000_145</td>\n",
       "      <td>1000</td>\n",
       "      <td>2018-12-27</td>\n",
       "      <td>13.66</td>\n",
       "    </tr>\n",
       "    <tr>\n",
       "      <th>2</th>\n",
       "      <td>1000_247</td>\n",
       "      <td>1000</td>\n",
       "      <td>2018-12-27</td>\n",
       "      <td>14.48</td>\n",
       "    </tr>\n",
       "    <tr>\n",
       "      <th>3</th>\n",
       "      <td>1000_309</td>\n",
       "      <td>1000</td>\n",
       "      <td>2018-12-28</td>\n",
       "      <td>5.76</td>\n",
       "    </tr>\n",
       "    <tr>\n",
       "      <th>4</th>\n",
       "      <td>1000_380</td>\n",
       "      <td>1000</td>\n",
       "      <td>2018-12-30</td>\n",
       "      <td>4.22</td>\n",
       "    </tr>\n",
       "  </tbody>\n",
       "</table>\n",
       "</div>"
      ],
      "text/plain": [
       "         id  user_id   call_date  duration\n",
       "0   1000_93     1000  2018-12-27      8.52\n",
       "1  1000_145     1000  2018-12-27     13.66\n",
       "2  1000_247     1000  2018-12-27     14.48\n",
       "3  1000_309     1000  2018-12-28      5.76\n",
       "4  1000_380     1000  2018-12-30      4.22"
      ]
     },
     "metadata": {},
     "output_type": "display_data"
    },
    {
     "data": {
      "text/html": [
       "<div>\n",
       "<style scoped>\n",
       "    .dataframe tbody tr th:only-of-type {\n",
       "        vertical-align: middle;\n",
       "    }\n",
       "\n",
       "    .dataframe tbody tr th {\n",
       "        vertical-align: top;\n",
       "    }\n",
       "\n",
       "    .dataframe thead th {\n",
       "        text-align: right;\n",
       "    }\n",
       "</style>\n",
       "<table border=\"1\" class=\"dataframe\">\n",
       "  <thead>\n",
       "    <tr style=\"text-align: right;\">\n",
       "      <th></th>\n",
       "      <th>id</th>\n",
       "      <th>user_id</th>\n",
       "      <th>session_date</th>\n",
       "      <th>mb_used</th>\n",
       "    </tr>\n",
       "  </thead>\n",
       "  <tbody>\n",
       "    <tr>\n",
       "      <th>0</th>\n",
       "      <td>1000_13</td>\n",
       "      <td>1000</td>\n",
       "      <td>2018-12-29</td>\n",
       "      <td>89.86</td>\n",
       "    </tr>\n",
       "    <tr>\n",
       "      <th>1</th>\n",
       "      <td>1000_204</td>\n",
       "      <td>1000</td>\n",
       "      <td>2018-12-31</td>\n",
       "      <td>0.00</td>\n",
       "    </tr>\n",
       "    <tr>\n",
       "      <th>2</th>\n",
       "      <td>1000_379</td>\n",
       "      <td>1000</td>\n",
       "      <td>2018-12-28</td>\n",
       "      <td>660.40</td>\n",
       "    </tr>\n",
       "    <tr>\n",
       "      <th>3</th>\n",
       "      <td>1000_413</td>\n",
       "      <td>1000</td>\n",
       "      <td>2018-12-26</td>\n",
       "      <td>270.99</td>\n",
       "    </tr>\n",
       "    <tr>\n",
       "      <th>4</th>\n",
       "      <td>1000_442</td>\n",
       "      <td>1000</td>\n",
       "      <td>2018-12-27</td>\n",
       "      <td>880.22</td>\n",
       "    </tr>\n",
       "  </tbody>\n",
       "</table>\n",
       "</div>"
      ],
      "text/plain": [
       "         id  user_id session_date  mb_used\n",
       "0   1000_13     1000   2018-12-29    89.86\n",
       "1  1000_204     1000   2018-12-31     0.00\n",
       "2  1000_379     1000   2018-12-28   660.40\n",
       "3  1000_413     1000   2018-12-26   270.99\n",
       "4  1000_442     1000   2018-12-27   880.22"
      ]
     },
     "metadata": {},
     "output_type": "display_data"
    },
    {
     "data": {
      "text/html": [
       "<div>\n",
       "<style scoped>\n",
       "    .dataframe tbody tr th:only-of-type {\n",
       "        vertical-align: middle;\n",
       "    }\n",
       "\n",
       "    .dataframe tbody tr th {\n",
       "        vertical-align: top;\n",
       "    }\n",
       "\n",
       "    .dataframe thead th {\n",
       "        text-align: right;\n",
       "    }\n",
       "</style>\n",
       "<table border=\"1\" class=\"dataframe\">\n",
       "  <thead>\n",
       "    <tr style=\"text-align: right;\">\n",
       "      <th></th>\n",
       "      <th>id</th>\n",
       "      <th>user_id</th>\n",
       "      <th>message_date</th>\n",
       "    </tr>\n",
       "  </thead>\n",
       "  <tbody>\n",
       "    <tr>\n",
       "      <th>0</th>\n",
       "      <td>1000_125</td>\n",
       "      <td>1000</td>\n",
       "      <td>2018-12-27</td>\n",
       "    </tr>\n",
       "    <tr>\n",
       "      <th>1</th>\n",
       "      <td>1000_160</td>\n",
       "      <td>1000</td>\n",
       "      <td>2018-12-31</td>\n",
       "    </tr>\n",
       "    <tr>\n",
       "      <th>2</th>\n",
       "      <td>1000_223</td>\n",
       "      <td>1000</td>\n",
       "      <td>2018-12-31</td>\n",
       "    </tr>\n",
       "    <tr>\n",
       "      <th>3</th>\n",
       "      <td>1000_251</td>\n",
       "      <td>1000</td>\n",
       "      <td>2018-12-27</td>\n",
       "    </tr>\n",
       "    <tr>\n",
       "      <th>4</th>\n",
       "      <td>1000_255</td>\n",
       "      <td>1000</td>\n",
       "      <td>2018-12-26</td>\n",
       "    </tr>\n",
       "  </tbody>\n",
       "</table>\n",
       "</div>"
      ],
      "text/plain": [
       "         id  user_id message_date\n",
       "0  1000_125     1000   2018-12-27\n",
       "1  1000_160     1000   2018-12-31\n",
       "2  1000_223     1000   2018-12-31\n",
       "3  1000_251     1000   2018-12-27\n",
       "4  1000_255     1000   2018-12-26"
      ]
     },
     "metadata": {},
     "output_type": "display_data"
    },
    {
     "data": {
      "text/html": [
       "<div>\n",
       "<style scoped>\n",
       "    .dataframe tbody tr th:only-of-type {\n",
       "        vertical-align: middle;\n",
       "    }\n",
       "\n",
       "    .dataframe tbody tr th {\n",
       "        vertical-align: top;\n",
       "    }\n",
       "\n",
       "    .dataframe thead th {\n",
       "        text-align: right;\n",
       "    }\n",
       "</style>\n",
       "<table border=\"1\" class=\"dataframe\">\n",
       "  <thead>\n",
       "    <tr style=\"text-align: right;\">\n",
       "      <th></th>\n",
       "      <th>messages_included</th>\n",
       "      <th>mb_per_month_included</th>\n",
       "      <th>minutes_included</th>\n",
       "      <th>usd_monthly_pay</th>\n",
       "      <th>usd_per_gb</th>\n",
       "      <th>usd_per_message</th>\n",
       "      <th>usd_per_minute</th>\n",
       "      <th>plan_name</th>\n",
       "    </tr>\n",
       "  </thead>\n",
       "  <tbody>\n",
       "    <tr>\n",
       "      <th>0</th>\n",
       "      <td>50</td>\n",
       "      <td>15360</td>\n",
       "      <td>500</td>\n",
       "      <td>20</td>\n",
       "      <td>10</td>\n",
       "      <td>0.03</td>\n",
       "      <td>0.03</td>\n",
       "      <td>surf</td>\n",
       "    </tr>\n",
       "    <tr>\n",
       "      <th>1</th>\n",
       "      <td>1000</td>\n",
       "      <td>30720</td>\n",
       "      <td>3000</td>\n",
       "      <td>70</td>\n",
       "      <td>7</td>\n",
       "      <td>0.01</td>\n",
       "      <td>0.01</td>\n",
       "      <td>ultimate</td>\n",
       "    </tr>\n",
       "  </tbody>\n",
       "</table>\n",
       "</div>"
      ],
      "text/plain": [
       "   messages_included  mb_per_month_included  minutes_included  \\\n",
       "0                 50                  15360               500   \n",
       "1               1000                  30720              3000   \n",
       "\n",
       "   usd_monthly_pay  usd_per_gb  usd_per_message  usd_per_minute plan_name  \n",
       "0               20          10             0.03            0.03      surf  \n",
       "1               70           7             0.01            0.01  ultimate  "
      ]
     },
     "metadata": {},
     "output_type": "display_data"
    },
    {
     "data": {
      "text/html": [
       "<div>\n",
       "<style scoped>\n",
       "    .dataframe tbody tr th:only-of-type {\n",
       "        vertical-align: middle;\n",
       "    }\n",
       "\n",
       "    .dataframe tbody tr th {\n",
       "        vertical-align: top;\n",
       "    }\n",
       "\n",
       "    .dataframe thead th {\n",
       "        text-align: right;\n",
       "    }\n",
       "</style>\n",
       "<table border=\"1\" class=\"dataframe\">\n",
       "  <thead>\n",
       "    <tr style=\"text-align: right;\">\n",
       "      <th></th>\n",
       "      <th>user_id</th>\n",
       "      <th>first_name</th>\n",
       "      <th>last_name</th>\n",
       "      <th>age</th>\n",
       "      <th>city</th>\n",
       "      <th>reg_date</th>\n",
       "      <th>plan</th>\n",
       "      <th>churn_date</th>\n",
       "    </tr>\n",
       "  </thead>\n",
       "  <tbody>\n",
       "    <tr>\n",
       "      <th>0</th>\n",
       "      <td>1000</td>\n",
       "      <td>Anamaria</td>\n",
       "      <td>Bauer</td>\n",
       "      <td>45</td>\n",
       "      <td>Atlanta-Sandy Springs-Roswell, GA MSA</td>\n",
       "      <td>2018-12-24</td>\n",
       "      <td>ultimate</td>\n",
       "      <td>NaN</td>\n",
       "    </tr>\n",
       "    <tr>\n",
       "      <th>1</th>\n",
       "      <td>1001</td>\n",
       "      <td>Mickey</td>\n",
       "      <td>Wilkerson</td>\n",
       "      <td>28</td>\n",
       "      <td>Seattle-Tacoma-Bellevue, WA MSA</td>\n",
       "      <td>2018-08-13</td>\n",
       "      <td>surf</td>\n",
       "      <td>NaN</td>\n",
       "    </tr>\n",
       "    <tr>\n",
       "      <th>2</th>\n",
       "      <td>1002</td>\n",
       "      <td>Carlee</td>\n",
       "      <td>Hoffman</td>\n",
       "      <td>36</td>\n",
       "      <td>Las Vegas-Henderson-Paradise, NV MSA</td>\n",
       "      <td>2018-10-21</td>\n",
       "      <td>surf</td>\n",
       "      <td>NaN</td>\n",
       "    </tr>\n",
       "    <tr>\n",
       "      <th>3</th>\n",
       "      <td>1003</td>\n",
       "      <td>Reynaldo</td>\n",
       "      <td>Jenkins</td>\n",
       "      <td>52</td>\n",
       "      <td>Tulsa, OK MSA</td>\n",
       "      <td>2018-01-28</td>\n",
       "      <td>surf</td>\n",
       "      <td>NaN</td>\n",
       "    </tr>\n",
       "    <tr>\n",
       "      <th>4</th>\n",
       "      <td>1004</td>\n",
       "      <td>Leonila</td>\n",
       "      <td>Thompson</td>\n",
       "      <td>40</td>\n",
       "      <td>Seattle-Tacoma-Bellevue, WA MSA</td>\n",
       "      <td>2018-05-23</td>\n",
       "      <td>surf</td>\n",
       "      <td>NaN</td>\n",
       "    </tr>\n",
       "  </tbody>\n",
       "</table>\n",
       "</div>"
      ],
      "text/plain": [
       "   user_id first_name  last_name  age                                   city  \\\n",
       "0     1000   Anamaria      Bauer   45  Atlanta-Sandy Springs-Roswell, GA MSA   \n",
       "1     1001     Mickey  Wilkerson   28        Seattle-Tacoma-Bellevue, WA MSA   \n",
       "2     1002     Carlee    Hoffman   36   Las Vegas-Henderson-Paradise, NV MSA   \n",
       "3     1003   Reynaldo    Jenkins   52                          Tulsa, OK MSA   \n",
       "4     1004    Leonila   Thompson   40        Seattle-Tacoma-Bellevue, WA MSA   \n",
       "\n",
       "     reg_date      plan churn_date  \n",
       "0  2018-12-24  ultimate        NaN  \n",
       "1  2018-08-13      surf        NaN  \n",
       "2  2018-10-21      surf        NaN  \n",
       "3  2018-01-28      surf        NaN  \n",
       "4  2018-05-23      surf        NaN  "
      ]
     },
     "metadata": {},
     "output_type": "display_data"
    }
   ],
   "source": [
    "# Load packages\n",
    "import pandas as pd\n",
    "import numpy as np\n",
    "import matplotlib.pyplot as plt\n",
    "import warnings\n",
    "import math\n",
    "import seaborn as sns\n",
    "\n",
    "#open files\n",
    "df_calls=pd.read_csv('datasets/megaline_calls.csv')\n",
    "df_internet=pd.read_csv('datasets/megaline_internet.csv')\n",
    "df_messages=pd.read_csv('datasets/megaline_messages.csv')\n",
    "df_plans=pd.read_csv('datasets/megaline_plans.csv')\n",
    "df_users=pd.read_csv('datasets/megaline_users.csv')\n",
    "\n",
    "#print general information of the dataframe\n",
    "df_calls.info()\n",
    "df_internet.info()\n",
    "df_messages.info()\n",
    "df_plans.info()\n",
    "df_users.info()\n",
    "\n",
    "#Print some data of each table.\n",
    "display(df_calls.head())\n",
    "display(df_internet.head())\n",
    "display(df_messages.head())\n",
    "display(df_plans.head())\n",
    "display(df_users.head())\n"
   ]
  },
  {
   "cell_type": "markdown",
   "metadata": {},
   "source": [
    "### Conclusion"
   ]
  },
  {
   "cell_type": "markdown",
   "metadata": {},
   "source": [
    "1. By using info() method, we checked the general table information like columns name, their datatype and count of null values etc. \n",
    "2. All the calls data are loaded in df_calls table, similarly message data in df_messages , internet usage related data in df_internet, plan detail in df_plan and finally user detail in df_users. After excuting info() method, found that all the columns except chrun_date does not contain null values.\n",
    "3. As shown above data is scatter in multiple tables so after analysing individual table we will first join the required data in one table and then analyze further."
   ]
  },
  {
   "cell_type": "markdown",
   "metadata": {},
   "source": [
    "## Step 2. Prepare the data"
   ]
  },
  {
   "cell_type": "markdown",
   "metadata": {},
   "source": [
    "Before merging all the tables, will identify if there is any invalid data in the individual tables.\n",
    "<br>\n",
    "We will check data for null or 0 values in  all the tables as there is no point to include 0 calls or gb used etc. as it will brings no or mininal revenue to the company. "
   ]
  },
  {
   "cell_type": "code",
   "execution_count": 5,
   "metadata": {},
   "outputs": [
    {
     "name": "stdout",
     "output_type": "stream",
     "text": [
      "###############################Call Duration Table#######################################################\n",
      "Count of null values data 0\n",
      "Count of 0 values data 26834\n",
      "After deleting count of data 110901\n"
     ]
    }
   ],
   "source": [
    "#checking for null or 0 values in Call_duration table.\n",
    "print('###############################Call Duration Table#######################################################')\n",
    "print('Count of null values data',len(df_calls[(df_calls['duration'].isnull())]))\n",
    "print('Count of 0 values data',len(df_calls[(df_calls['duration']==0)]))\n",
    "#delete all rows for 0 value data.\n",
    "df_calls=df_calls[(df_calls['duration']!=0)]\n",
    "print('After deleting count of data', len(df_calls))\n"
   ]
  },
  {
   "cell_type": "code",
   "execution_count": 6,
   "metadata": {},
   "outputs": [
    {
     "name": "stdout",
     "output_type": "stream",
     "text": [
      "###############################Internet Table#######################################################\n",
      "Count of null values data 0\n",
      "Count of null values data 13747\n",
      "After deleting count of data 91078\n"
     ]
    }
   ],
   "source": [
    "#checking for null or 0 values in Internet table.\n",
    "print('###############################Internet Table#######################################################')\n",
    "print('Count of null values data',len(df_internet[(df_internet['mb_used'].isnull())]))\n",
    "print('Count of null values data',len(df_internet[(df_internet['mb_used']==0)]))\n",
    "#delete all 0 values data.\n",
    "df_internet=df_internet[(df_internet['mb_used']!=0)]\n",
    "print('After deleting count of data', len(df_internet))"
   ]
  },
  {
   "cell_type": "code",
   "execution_count": 7,
   "metadata": {},
   "outputs": [
    {
     "name": "stdout",
     "output_type": "stream",
     "text": [
      "###############################Message Table#######################################################\n",
      "0\n",
      "0\n"
     ]
    }
   ],
   "source": [
    "#checking for null or 0 values in Message table.\n",
    "print('###############################Message Table#######################################################')\n",
    "print(len(df_messages[(df_messages['message_date'].isnull())]))\n",
    "print(len(df_messages[(df_messages['message_date']==0)]))\n"
   ]
  },
  {
   "cell_type": "markdown",
   "metadata": {},
   "source": [
    "Now check for users table."
   ]
  },
  {
   "cell_type": "code",
   "execution_count": 8,
   "metadata": {},
   "outputs": [
    {
     "name": "stdout",
     "output_type": "stream",
     "text": [
      "###############################Users Table#######################################################\n"
     ]
    },
    {
     "data": {
      "text/html": [
       "<div>\n",
       "<style scoped>\n",
       "    .dataframe tbody tr th:only-of-type {\n",
       "        vertical-align: middle;\n",
       "    }\n",
       "\n",
       "    .dataframe tbody tr th {\n",
       "        vertical-align: top;\n",
       "    }\n",
       "\n",
       "    .dataframe thead th {\n",
       "        text-align: right;\n",
       "    }\n",
       "</style>\n",
       "<table border=\"1\" class=\"dataframe\">\n",
       "  <thead>\n",
       "    <tr style=\"text-align: right;\">\n",
       "      <th></th>\n",
       "      <th>user_id</th>\n",
       "      <th>first_name</th>\n",
       "      <th>last_name</th>\n",
       "      <th>age</th>\n",
       "      <th>city</th>\n",
       "      <th>reg_date</th>\n",
       "      <th>plan</th>\n",
       "      <th>churn_date</th>\n",
       "    </tr>\n",
       "  </thead>\n",
       "  <tbody>\n",
       "  </tbody>\n",
       "</table>\n",
       "</div>"
      ],
      "text/plain": [
       "Empty DataFrame\n",
       "Columns: [user_id, first_name, last_name, age, city, reg_date, plan, churn_date]\n",
       "Index: []"
      ]
     },
     "metadata": {},
     "output_type": "display_data"
    },
    {
     "data": {
      "text/html": [
       "<div>\n",
       "<style scoped>\n",
       "    .dataframe tbody tr th:only-of-type {\n",
       "        vertical-align: middle;\n",
       "    }\n",
       "\n",
       "    .dataframe tbody tr th {\n",
       "        vertical-align: top;\n",
       "    }\n",
       "\n",
       "    .dataframe thead th {\n",
       "        text-align: right;\n",
       "    }\n",
       "</style>\n",
       "<table border=\"1\" class=\"dataframe\">\n",
       "  <thead>\n",
       "    <tr style=\"text-align: right;\">\n",
       "      <th></th>\n",
       "      <th>user_id</th>\n",
       "      <th>first_name</th>\n",
       "      <th>last_name</th>\n",
       "      <th>age</th>\n",
       "      <th>city</th>\n",
       "      <th>reg_date</th>\n",
       "      <th>plan</th>\n",
       "      <th>churn_date</th>\n",
       "    </tr>\n",
       "  </thead>\n",
       "  <tbody>\n",
       "  </tbody>\n",
       "</table>\n",
       "</div>"
      ],
      "text/plain": [
       "Empty DataFrame\n",
       "Columns: [user_id, first_name, last_name, age, city, reg_date, plan, churn_date]\n",
       "Index: []"
      ]
     },
     "metadata": {},
     "output_type": "display_data"
    },
    {
     "data": {
      "text/html": [
       "<div>\n",
       "<style scoped>\n",
       "    .dataframe tbody tr th:only-of-type {\n",
       "        vertical-align: middle;\n",
       "    }\n",
       "\n",
       "    .dataframe tbody tr th {\n",
       "        vertical-align: top;\n",
       "    }\n",
       "\n",
       "    .dataframe thead th {\n",
       "        text-align: right;\n",
       "    }\n",
       "</style>\n",
       "<table border=\"1\" class=\"dataframe\">\n",
       "  <thead>\n",
       "    <tr style=\"text-align: right;\">\n",
       "      <th></th>\n",
       "      <th>user_id</th>\n",
       "      <th>first_name</th>\n",
       "      <th>last_name</th>\n",
       "      <th>age</th>\n",
       "      <th>city</th>\n",
       "      <th>reg_date</th>\n",
       "      <th>plan</th>\n",
       "      <th>churn_date</th>\n",
       "    </tr>\n",
       "  </thead>\n",
       "  <tbody>\n",
       "  </tbody>\n",
       "</table>\n",
       "</div>"
      ],
      "text/plain": [
       "Empty DataFrame\n",
       "Columns: [user_id, first_name, last_name, age, city, reg_date, plan, churn_date]\n",
       "Index: []"
      ]
     },
     "metadata": {},
     "output_type": "display_data"
    },
    {
     "data": {
      "text/html": [
       "<div>\n",
       "<style scoped>\n",
       "    .dataframe tbody tr th:only-of-type {\n",
       "        vertical-align: middle;\n",
       "    }\n",
       "\n",
       "    .dataframe tbody tr th {\n",
       "        vertical-align: top;\n",
       "    }\n",
       "\n",
       "    .dataframe thead th {\n",
       "        text-align: right;\n",
       "    }\n",
       "</style>\n",
       "<table border=\"1\" class=\"dataframe\">\n",
       "  <thead>\n",
       "    <tr style=\"text-align: right;\">\n",
       "      <th></th>\n",
       "      <th>user_id</th>\n",
       "      <th>first_name</th>\n",
       "      <th>last_name</th>\n",
       "      <th>age</th>\n",
       "      <th>city</th>\n",
       "      <th>reg_date</th>\n",
       "      <th>plan</th>\n",
       "      <th>churn_date</th>\n",
       "    </tr>\n",
       "  </thead>\n",
       "  <tbody>\n",
       "  </tbody>\n",
       "</table>\n",
       "</div>"
      ],
      "text/plain": [
       "Empty DataFrame\n",
       "Columns: [user_id, first_name, last_name, age, city, reg_date, plan, churn_date]\n",
       "Index: []"
      ]
     },
     "metadata": {},
     "output_type": "display_data"
    },
    {
     "data": {
      "text/html": [
       "<div>\n",
       "<style scoped>\n",
       "    .dataframe tbody tr th:only-of-type {\n",
       "        vertical-align: middle;\n",
       "    }\n",
       "\n",
       "    .dataframe tbody tr th {\n",
       "        vertical-align: top;\n",
       "    }\n",
       "\n",
       "    .dataframe thead th {\n",
       "        text-align: right;\n",
       "    }\n",
       "</style>\n",
       "<table border=\"1\" class=\"dataframe\">\n",
       "  <thead>\n",
       "    <tr style=\"text-align: right;\">\n",
       "      <th></th>\n",
       "      <th>user_id</th>\n",
       "      <th>first_name</th>\n",
       "      <th>last_name</th>\n",
       "      <th>age</th>\n",
       "      <th>city</th>\n",
       "      <th>reg_date</th>\n",
       "      <th>plan</th>\n",
       "      <th>churn_date</th>\n",
       "    </tr>\n",
       "  </thead>\n",
       "  <tbody>\n",
       "  </tbody>\n",
       "</table>\n",
       "</div>"
      ],
      "text/plain": [
       "Empty DataFrame\n",
       "Columns: [user_id, first_name, last_name, age, city, reg_date, plan, churn_date]\n",
       "Index: []"
      ]
     },
     "metadata": {},
     "output_type": "display_data"
    },
    {
     "data": {
      "text/html": [
       "<div>\n",
       "<style scoped>\n",
       "    .dataframe tbody tr th:only-of-type {\n",
       "        vertical-align: middle;\n",
       "    }\n",
       "\n",
       "    .dataframe tbody tr th {\n",
       "        vertical-align: top;\n",
       "    }\n",
       "\n",
       "    .dataframe thead th {\n",
       "        text-align: right;\n",
       "    }\n",
       "</style>\n",
       "<table border=\"1\" class=\"dataframe\">\n",
       "  <thead>\n",
       "    <tr style=\"text-align: right;\">\n",
       "      <th></th>\n",
       "      <th>user_id</th>\n",
       "      <th>first_name</th>\n",
       "      <th>last_name</th>\n",
       "      <th>age</th>\n",
       "      <th>city</th>\n",
       "      <th>reg_date</th>\n",
       "      <th>plan</th>\n",
       "      <th>churn_date</th>\n",
       "    </tr>\n",
       "  </thead>\n",
       "  <tbody>\n",
       "  </tbody>\n",
       "</table>\n",
       "</div>"
      ],
      "text/plain": [
       "Empty DataFrame\n",
       "Columns: [user_id, first_name, last_name, age, city, reg_date, plan, churn_date]\n",
       "Index: []"
      ]
     },
     "metadata": {},
     "output_type": "display_data"
    },
    {
     "data": {
      "text/html": [
       "<div>\n",
       "<style scoped>\n",
       "    .dataframe tbody tr th:only-of-type {\n",
       "        vertical-align: middle;\n",
       "    }\n",
       "\n",
       "    .dataframe tbody tr th {\n",
       "        vertical-align: top;\n",
       "    }\n",
       "\n",
       "    .dataframe thead th {\n",
       "        text-align: right;\n",
       "    }\n",
       "</style>\n",
       "<table border=\"1\" class=\"dataframe\">\n",
       "  <thead>\n",
       "    <tr style=\"text-align: right;\">\n",
       "      <th></th>\n",
       "      <th>user_id</th>\n",
       "      <th>first_name</th>\n",
       "      <th>last_name</th>\n",
       "      <th>age</th>\n",
       "      <th>city</th>\n",
       "      <th>reg_date</th>\n",
       "      <th>plan</th>\n",
       "      <th>churn_date</th>\n",
       "    </tr>\n",
       "  </thead>\n",
       "  <tbody>\n",
       "  </tbody>\n",
       "</table>\n",
       "</div>"
      ],
      "text/plain": [
       "Empty DataFrame\n",
       "Columns: [user_id, first_name, last_name, age, city, reg_date, plan, churn_date]\n",
       "Index: []"
      ]
     },
     "metadata": {},
     "output_type": "display_data"
    },
    {
     "data": {
      "text/html": [
       "<div>\n",
       "<style scoped>\n",
       "    .dataframe tbody tr th:only-of-type {\n",
       "        vertical-align: middle;\n",
       "    }\n",
       "\n",
       "    .dataframe tbody tr th {\n",
       "        vertical-align: top;\n",
       "    }\n",
       "\n",
       "    .dataframe thead th {\n",
       "        text-align: right;\n",
       "    }\n",
       "</style>\n",
       "<table border=\"1\" class=\"dataframe\">\n",
       "  <thead>\n",
       "    <tr style=\"text-align: right;\">\n",
       "      <th></th>\n",
       "      <th>user_id</th>\n",
       "      <th>first_name</th>\n",
       "      <th>last_name</th>\n",
       "      <th>age</th>\n",
       "      <th>city</th>\n",
       "      <th>reg_date</th>\n",
       "      <th>plan</th>\n",
       "      <th>churn_date</th>\n",
       "    </tr>\n",
       "  </thead>\n",
       "  <tbody>\n",
       "    <tr>\n",
       "      <th>0</th>\n",
       "      <td>1000</td>\n",
       "      <td>Anamaria</td>\n",
       "      <td>Bauer</td>\n",
       "      <td>45</td>\n",
       "      <td>Atlanta-Sandy Springs-Roswell, GA MSA</td>\n",
       "      <td>2018-12-24</td>\n",
       "      <td>ultimate</td>\n",
       "      <td>NaN</td>\n",
       "    </tr>\n",
       "    <tr>\n",
       "      <th>1</th>\n",
       "      <td>1001</td>\n",
       "      <td>Mickey</td>\n",
       "      <td>Wilkerson</td>\n",
       "      <td>28</td>\n",
       "      <td>Seattle-Tacoma-Bellevue, WA MSA</td>\n",
       "      <td>2018-08-13</td>\n",
       "      <td>surf</td>\n",
       "      <td>NaN</td>\n",
       "    </tr>\n",
       "    <tr>\n",
       "      <th>2</th>\n",
       "      <td>1002</td>\n",
       "      <td>Carlee</td>\n",
       "      <td>Hoffman</td>\n",
       "      <td>36</td>\n",
       "      <td>Las Vegas-Henderson-Paradise, NV MSA</td>\n",
       "      <td>2018-10-21</td>\n",
       "      <td>surf</td>\n",
       "      <td>NaN</td>\n",
       "    </tr>\n",
       "    <tr>\n",
       "      <th>3</th>\n",
       "      <td>1003</td>\n",
       "      <td>Reynaldo</td>\n",
       "      <td>Jenkins</td>\n",
       "      <td>52</td>\n",
       "      <td>Tulsa, OK MSA</td>\n",
       "      <td>2018-01-28</td>\n",
       "      <td>surf</td>\n",
       "      <td>NaN</td>\n",
       "    </tr>\n",
       "    <tr>\n",
       "      <th>4</th>\n",
       "      <td>1004</td>\n",
       "      <td>Leonila</td>\n",
       "      <td>Thompson</td>\n",
       "      <td>40</td>\n",
       "      <td>Seattle-Tacoma-Bellevue, WA MSA</td>\n",
       "      <td>2018-05-23</td>\n",
       "      <td>surf</td>\n",
       "      <td>NaN</td>\n",
       "    </tr>\n",
       "    <tr>\n",
       "      <th>...</th>\n",
       "      <td>...</td>\n",
       "      <td>...</td>\n",
       "      <td>...</td>\n",
       "      <td>...</td>\n",
       "      <td>...</td>\n",
       "      <td>...</td>\n",
       "      <td>...</td>\n",
       "      <td>...</td>\n",
       "    </tr>\n",
       "    <tr>\n",
       "      <th>495</th>\n",
       "      <td>1495</td>\n",
       "      <td>Fidel</td>\n",
       "      <td>Sharpe</td>\n",
       "      <td>67</td>\n",
       "      <td>New York-Newark-Jersey City, NY-NJ-PA MSA</td>\n",
       "      <td>2018-09-04</td>\n",
       "      <td>surf</td>\n",
       "      <td>NaN</td>\n",
       "    </tr>\n",
       "    <tr>\n",
       "      <th>496</th>\n",
       "      <td>1496</td>\n",
       "      <td>Ariel</td>\n",
       "      <td>Shepherd</td>\n",
       "      <td>49</td>\n",
       "      <td>New Orleans-Metairie, LA MSA</td>\n",
       "      <td>2018-02-20</td>\n",
       "      <td>surf</td>\n",
       "      <td>NaN</td>\n",
       "    </tr>\n",
       "    <tr>\n",
       "      <th>497</th>\n",
       "      <td>1497</td>\n",
       "      <td>Donte</td>\n",
       "      <td>Barrera</td>\n",
       "      <td>49</td>\n",
       "      <td>Los Angeles-Long Beach-Anaheim, CA MSA</td>\n",
       "      <td>2018-12-10</td>\n",
       "      <td>ultimate</td>\n",
       "      <td>NaN</td>\n",
       "    </tr>\n",
       "    <tr>\n",
       "      <th>498</th>\n",
       "      <td>1498</td>\n",
       "      <td>Scot</td>\n",
       "      <td>Williamson</td>\n",
       "      <td>51</td>\n",
       "      <td>New York-Newark-Jersey City, NY-NJ-PA MSA</td>\n",
       "      <td>2018-02-04</td>\n",
       "      <td>surf</td>\n",
       "      <td>NaN</td>\n",
       "    </tr>\n",
       "    <tr>\n",
       "      <th>499</th>\n",
       "      <td>1499</td>\n",
       "      <td>Shena</td>\n",
       "      <td>Dickson</td>\n",
       "      <td>37</td>\n",
       "      <td>Orlando-Kissimmee-Sanford, FL MSA</td>\n",
       "      <td>2018-05-06</td>\n",
       "      <td>surf</td>\n",
       "      <td>NaN</td>\n",
       "    </tr>\n",
       "  </tbody>\n",
       "</table>\n",
       "<p>466 rows × 8 columns</p>\n",
       "</div>"
      ],
      "text/plain": [
       "     user_id first_name   last_name  age  \\\n",
       "0       1000   Anamaria       Bauer   45   \n",
       "1       1001     Mickey   Wilkerson   28   \n",
       "2       1002     Carlee     Hoffman   36   \n",
       "3       1003   Reynaldo     Jenkins   52   \n",
       "4       1004    Leonila    Thompson   40   \n",
       "..       ...        ...         ...  ...   \n",
       "495     1495      Fidel      Sharpe   67   \n",
       "496     1496      Ariel    Shepherd   49   \n",
       "497     1497      Donte     Barrera   49   \n",
       "498     1498       Scot  Williamson   51   \n",
       "499     1499      Shena     Dickson   37   \n",
       "\n",
       "                                          city    reg_date      plan  \\\n",
       "0        Atlanta-Sandy Springs-Roswell, GA MSA  2018-12-24  ultimate   \n",
       "1              Seattle-Tacoma-Bellevue, WA MSA  2018-08-13      surf   \n",
       "2         Las Vegas-Henderson-Paradise, NV MSA  2018-10-21      surf   \n",
       "3                                Tulsa, OK MSA  2018-01-28      surf   \n",
       "4              Seattle-Tacoma-Bellevue, WA MSA  2018-05-23      surf   \n",
       "..                                         ...         ...       ...   \n",
       "495  New York-Newark-Jersey City, NY-NJ-PA MSA  2018-09-04      surf   \n",
       "496               New Orleans-Metairie, LA MSA  2018-02-20      surf   \n",
       "497     Los Angeles-Long Beach-Anaheim, CA MSA  2018-12-10  ultimate   \n",
       "498  New York-Newark-Jersey City, NY-NJ-PA MSA  2018-02-04      surf   \n",
       "499          Orlando-Kissimmee-Sanford, FL MSA  2018-05-06      surf   \n",
       "\n",
       "    churn_date  \n",
       "0          NaN  \n",
       "1          NaN  \n",
       "2          NaN  \n",
       "3          NaN  \n",
       "4          NaN  \n",
       "..         ...  \n",
       "495        NaN  \n",
       "496        NaN  \n",
       "497        NaN  \n",
       "498        NaN  \n",
       "499        NaN  \n",
       "\n",
       "[466 rows x 8 columns]"
      ]
     },
     "metadata": {},
     "output_type": "display_data"
    }
   ],
   "source": [
    "#checking for null or 0 values in Users table.\n",
    "print('###############################Users Table#######################################################')\n",
    "display(df_users[df_users['user_id'].isnull()])\n",
    "display(df_users[df_users['first_name'].isnull()])\n",
    "display(df_users[df_users['last_name'].isnull()])\n",
    "display(df_users[df_users['age'].isnull()])\n",
    "display(df_users[df_users['city'].isnull()])\n",
    "display(df_users[df_users['reg_date'].isnull()])\n",
    "display(df_users[df_users['plan'].isnull()])\n",
    "display(df_users[df_users['churn_date'].isnull()])"
   ]
  },
  {
   "cell_type": "markdown",
   "metadata": {},
   "source": [
    "Found null values only in churn_date column but this is already mention in the requirement that if the value is missing, the calling plan was being used when this data was retrieved so it will stay as it is.\n",
    "<br>\n",
    "<br>\n",
    "Now we will also verify other columns for any invalid data."
   ]
  },
  {
   "cell_type": "code",
   "execution_count": 9,
   "metadata": {},
   "outputs": [
    {
     "name": "stdout",
     "output_type": "stream",
     "text": [
      "Min. and Max. age are: 18 and 75\n"
     ]
    }
   ],
   "source": [
    "print('Min. and Max. age are: {0} and {1}'.format(df_users['age'].min(), df_users['age'].max()))"
   ]
  },
  {
   "cell_type": "code",
   "execution_count": 10,
   "metadata": {},
   "outputs": [
    {
     "name": "stdout",
     "output_type": "stream",
     "text": [
      "Min. and Max. reg_date are: 2018-01-01 and 2018-12-31\n"
     ]
    }
   ],
   "source": [
    "print('Min. and Max. reg_date are: {0} and {1}'.format(df_users['reg_date'].min(), df_users['reg_date'].max()))"
   ]
  },
  {
   "cell_type": "code",
   "execution_count": 11,
   "metadata": {},
   "outputs": [
    {
     "data": {
      "text/plain": [
       "surf        339\n",
       "ultimate    161\n",
       "Name: plan, dtype: int64"
      ]
     },
     "execution_count": 11,
     "metadata": {},
     "output_type": "execute_result"
    }
   ],
   "source": [
    "df_users['plan'].value_counts()"
   ]
  },
  {
   "cell_type": "markdown",
   "metadata": {},
   "source": [
    "We have to also delete the data from calls, Internet and Message table where records in these table exists before the\n",
    "reg_date and after the churn_date w.r.t to each user. As these records are considered to be invalid because before registration user can't use the service and same after the deregistration."
   ]
  },
  {
   "cell_type": "code",
   "execution_count": 12,
   "metadata": {},
   "outputs": [],
   "source": [
    "#display(df_users)"
   ]
  },
  {
   "cell_type": "code",
   "execution_count": 13,
   "metadata": {
    "scrolled": false
   },
   "outputs": [
    {
     "name": "stdout",
     "output_type": "stream",
     "text": [
      "Total count before removing invalid calls data:  110901\n",
      "Total count before removing invalid messages data:  76051\n",
      "Total count before removing invalid gb_used data:  91078\n",
      "Total count after removing invalid calls data:  108511\n",
      "Total count after removing invalid messages data:  74460\n",
      "Total count after removing invalid gb_used data:  88980\n"
     ]
    }
   ],
   "source": [
    "print('Total count before removing invalid calls data: ', len(df_calls))\n",
    "print('Total count before removing invalid messages data: ', len(df_messages))\n",
    "print('Total count before removing invalid gb_used data: ', len(df_internet))\n",
    "for index, row in df_users.iterrows():\n",
    "    user_id = row['user_id']\n",
    "    churn_date = row['churn_date']\n",
    "    reg_date = row['reg_date']\n",
    "    invalid_calls=df_calls[(df_calls['user_id']==user_id) & ((df_calls['call_date']<reg_date)|(\n",
    "        df_calls['call_date']>(churn_date if churn_date else df_calls['call_date'])))  \n",
    "             ]\n",
    "    invalid_messages=df_messages[(df_messages['user_id']==user_id) & ((df_messages['message_date']<reg_date)|(\n",
    "        df_messages['message_date']>(churn_date if churn_date else df_messages['message_date'])))  \n",
    "             ] \n",
    "    invalid_gb_used=df_internet[(df_internet['user_id']==user_id) & ((df_internet['session_date']<reg_date)|(\n",
    "        df_internet['session_date']>(churn_date if churn_date else df_internet['session_date'])))  \n",
    "             ] \n",
    "    \n",
    "    if (len(invalid_calls)>0):\n",
    "        #print(str(user_id)+'--'+str(churn_date)+'---'+str(reg_date))\n",
    "        df_calls.drop(invalid_calls.index,inplace=True)\n",
    "    if (len(invalid_messages)>0):\n",
    "        df_messages.drop(invalid_messages.index,inplace=True)\n",
    "    if (len(invalid_gb_used)>0):\n",
    "        df_internet.drop(invalid_gb_used.index,inplace=True)\n",
    "\n",
    "print('Total count after removing invalid calls data: ', len(df_calls))\n",
    "print('Total count after removing invalid messages data: ', len(df_messages))\n",
    "print('Total count after removing invalid gb_used data: ', len(df_internet))\n"
   ]
  },
  {
   "cell_type": "markdown",
   "metadata": {},
   "source": [
    "We have removed invalid data from calls, messages and internet table. We calculated the invalid data on basis of chur_date. One think I have noticed here that there are lots of invalid data available in these tables for which duration is also greater than 0 so we need to check with the team how users are able to call after deregistration and who will pay for that?"
   ]
  },
  {
   "cell_type": "markdown",
   "metadata": {},
   "source": [
    "So far we deleted all invalid data found in the tables. \n",
    "<br>\n",
    "Now we will also incorporate some conditions given so that we can easily make our analysis as per the project requirement.\n",
    "1. First all individual call duration should be round up to minutes.\n",
    "2. Also internet usage should be round up from mb to gb. It should be done considering the total for the month not the individual web sessions.\n",
    "3. For all these tables we also need month column to calculate total revenue monthly.\n",
    "\n"
   ]
  },
  {
   "cell_type": "code",
   "execution_count": 14,
   "metadata": {},
   "outputs": [],
   "source": [
    "df_calls['month']=pd.DatetimeIndex(df_calls['call_date']).month#adding month column in the calls table.\n",
    "df_calls['duration']=df_calls['duration'].apply(np.ceil).astype(int)# all call's seconds are rounded up to minute.\n",
    "\n",
    "df_internet['month']=pd.DatetimeIndex(df_internet['session_date']).month#adding month column in the internet table.\n",
    "df_messages['month']=pd.DatetimeIndex(df_messages['message_date']).month#adding month column in the message table.\n"
   ]
  },
  {
   "cell_type": "markdown",
   "metadata": {},
   "source": [
    "**Now grouping the data by user_id and month so that we can calculate total call_dutaion, messages and mb used for each month by each user.**"
   ]
  },
  {
   "cell_type": "code",
   "execution_count": 15,
   "metadata": {},
   "outputs": [
    {
     "data": {
      "text/html": [
       "<div>\n",
       "<style scoped>\n",
       "    .dataframe tbody tr th:only-of-type {\n",
       "        vertical-align: middle;\n",
       "    }\n",
       "\n",
       "    .dataframe tbody tr th {\n",
       "        vertical-align: top;\n",
       "    }\n",
       "\n",
       "    .dataframe thead th {\n",
       "        text-align: right;\n",
       "    }\n",
       "</style>\n",
       "<table border=\"1\" class=\"dataframe\">\n",
       "  <thead>\n",
       "    <tr style=\"text-align: right;\">\n",
       "      <th></th>\n",
       "      <th></th>\n",
       "      <th>Call_duration</th>\n",
       "      <th>Call_count</th>\n",
       "    </tr>\n",
       "    <tr>\n",
       "      <th>user_id</th>\n",
       "      <th>month</th>\n",
       "      <th></th>\n",
       "      <th></th>\n",
       "    </tr>\n",
       "  </thead>\n",
       "  <tbody>\n",
       "    <tr>\n",
       "      <th>1000</th>\n",
       "      <th>12</th>\n",
       "      <td>124</td>\n",
       "      <td>16</td>\n",
       "    </tr>\n",
       "    <tr>\n",
       "      <th rowspan=\"4\" valign=\"top\">1001</th>\n",
       "      <th>8</th>\n",
       "      <td>182</td>\n",
       "      <td>22</td>\n",
       "    </tr>\n",
       "    <tr>\n",
       "      <th>9</th>\n",
       "      <td>315</td>\n",
       "      <td>38</td>\n",
       "    </tr>\n",
       "    <tr>\n",
       "      <th>10</th>\n",
       "      <td>393</td>\n",
       "      <td>47</td>\n",
       "    </tr>\n",
       "    <tr>\n",
       "      <th>11</th>\n",
       "      <td>426</td>\n",
       "      <td>49</td>\n",
       "    </tr>\n",
       "  </tbody>\n",
       "</table>\n",
       "</div>"
      ],
      "text/plain": [
       "               Call_duration  Call_count\n",
       "user_id month                           \n",
       "1000    12               124          16\n",
       "1001    8                182          22\n",
       "        9                315          38\n",
       "        10               393          47\n",
       "        11               426          49"
      ]
     },
     "metadata": {},
     "output_type": "display_data"
    },
    {
     "data": {
      "text/html": [
       "<div>\n",
       "<style scoped>\n",
       "    .dataframe tbody tr th:only-of-type {\n",
       "        vertical-align: middle;\n",
       "    }\n",
       "\n",
       "    .dataframe tbody tr th {\n",
       "        vertical-align: top;\n",
       "    }\n",
       "\n",
       "    .dataframe thead th {\n",
       "        text-align: right;\n",
       "    }\n",
       "</style>\n",
       "<table border=\"1\" class=\"dataframe\">\n",
       "  <thead>\n",
       "    <tr style=\"text-align: right;\">\n",
       "      <th></th>\n",
       "      <th></th>\n",
       "      <th>mb_used</th>\n",
       "      <th>gb_used</th>\n",
       "    </tr>\n",
       "    <tr>\n",
       "      <th>user_id</th>\n",
       "      <th>month</th>\n",
       "      <th></th>\n",
       "      <th></th>\n",
       "    </tr>\n",
       "  </thead>\n",
       "  <tbody>\n",
       "    <tr>\n",
       "      <th>1000</th>\n",
       "      <th>12</th>\n",
       "      <td>1901.47</td>\n",
       "      <td>2</td>\n",
       "    </tr>\n",
       "    <tr>\n",
       "      <th rowspan=\"4\" valign=\"top\">1001</th>\n",
       "      <th>8</th>\n",
       "      <td>6919.15</td>\n",
       "      <td>7</td>\n",
       "    </tr>\n",
       "    <tr>\n",
       "      <th>9</th>\n",
       "      <td>13314.82</td>\n",
       "      <td>14</td>\n",
       "    </tr>\n",
       "    <tr>\n",
       "      <th>10</th>\n",
       "      <td>22330.49</td>\n",
       "      <td>22</td>\n",
       "    </tr>\n",
       "    <tr>\n",
       "      <th>11</th>\n",
       "      <td>18504.30</td>\n",
       "      <td>19</td>\n",
       "    </tr>\n",
       "  </tbody>\n",
       "</table>\n",
       "</div>"
      ],
      "text/plain": [
       "                mb_used  gb_used\n",
       "user_id month                   \n",
       "1000    12      1901.47        2\n",
       "1001    8       6919.15        7\n",
       "        9      13314.82       14\n",
       "        10     22330.49       22\n",
       "        11     18504.30       19"
      ]
     },
     "metadata": {},
     "output_type": "display_data"
    },
    {
     "data": {
      "text/html": [
       "<div>\n",
       "<style scoped>\n",
       "    .dataframe tbody tr th:only-of-type {\n",
       "        vertical-align: middle;\n",
       "    }\n",
       "\n",
       "    .dataframe tbody tr th {\n",
       "        vertical-align: top;\n",
       "    }\n",
       "\n",
       "    .dataframe thead th {\n",
       "        text-align: right;\n",
       "    }\n",
       "</style>\n",
       "<table border=\"1\" class=\"dataframe\">\n",
       "  <thead>\n",
       "    <tr style=\"text-align: right;\">\n",
       "      <th></th>\n",
       "      <th></th>\n",
       "      <th>message_count</th>\n",
       "    </tr>\n",
       "    <tr>\n",
       "      <th>user_id</th>\n",
       "      <th>month</th>\n",
       "      <th></th>\n",
       "    </tr>\n",
       "  </thead>\n",
       "  <tbody>\n",
       "    <tr>\n",
       "      <th>1000</th>\n",
       "      <th>12</th>\n",
       "      <td>11</td>\n",
       "    </tr>\n",
       "    <tr>\n",
       "      <th rowspan=\"4\" valign=\"top\">1001</th>\n",
       "      <th>8</th>\n",
       "      <td>30</td>\n",
       "    </tr>\n",
       "    <tr>\n",
       "      <th>9</th>\n",
       "      <td>44</td>\n",
       "    </tr>\n",
       "    <tr>\n",
       "      <th>10</th>\n",
       "      <td>53</td>\n",
       "    </tr>\n",
       "    <tr>\n",
       "      <th>11</th>\n",
       "      <td>36</td>\n",
       "    </tr>\n",
       "  </tbody>\n",
       "</table>\n",
       "</div>"
      ],
      "text/plain": [
       "               message_count\n",
       "user_id month               \n",
       "1000    12                11\n",
       "1001    8                 30\n",
       "        9                 44\n",
       "        10                53\n",
       "        11                36"
      ]
     },
     "metadata": {},
     "output_type": "display_data"
    },
    {
     "name": "stdout",
     "output_type": "stream",
     "text": [
      "Total count of calls, internet and messages table are:  2218,2240,1777\n"
     ]
    }
   ],
   "source": [
    "#Create grouped data by users and months.\n",
    "df_calls_group=df_calls.groupby(['user_id','month']).agg({'duration':['sum'], 'call_date':'count'})\n",
    "df_internet_group=df_internet.groupby(['user_id','month']).agg({'mb_used':['sum']})\n",
    "df_messages_group=df_messages.groupby(['user_id','month']).agg({'message_date':['count']})\n",
    "\n",
    "df_calls_group.columns=['Call_duration','Call_count']\n",
    "df_internet_group.columns=['mb_used']\n",
    "df_messages_group.columns=['message_count']\n",
    "\n",
    "# megabytes rounded up to gigabytes\n",
    "df_internet_group['gb_used']=df_internet_group['mb_used'].apply(lambda x: math.ceil(x/1024))\n",
    "\n",
    "display(df_calls_group.head())\n",
    "display(df_internet_group.head())\n",
    "display(df_messages_group.head())\n",
    "print('Total count of calls, internet and messages table are: ',str(len(df_calls_group))+','+str(len(df_internet_group))+','+str(len(df_messages_group)))\n",
    "\n"
   ]
  },
  {
   "cell_type": "markdown",
   "metadata": {},
   "source": [
    "**Now merge all tables.**\n",
    "<br/>"
   ]
  },
  {
   "cell_type": "code",
   "execution_count": 16,
   "metadata": {},
   "outputs": [],
   "source": [
    "#merging\n",
    "df_temp= pd.merge(left = df_calls_group , \n",
    "                right = df_internet_group, how='outer',on=['user_id', 'month']).fillna(0)\n",
    "df_merged=pd.merge(left = df_temp , \n",
    "                right = df_messages_group, how='outer',on=['user_id', 'month']).fillna(0)\n"
   ]
  },
  {
   "cell_type": "code",
   "execution_count": 17,
   "metadata": {},
   "outputs": [
    {
     "name": "stdout",
     "output_type": "stream",
     "text": [
      "Total of rows count after merging:  2256\n"
     ]
    },
    {
     "data": {
      "text/html": [
       "<div>\n",
       "<style scoped>\n",
       "    .dataframe tbody tr th:only-of-type {\n",
       "        vertical-align: middle;\n",
       "    }\n",
       "\n",
       "    .dataframe tbody tr th {\n",
       "        vertical-align: top;\n",
       "    }\n",
       "\n",
       "    .dataframe thead th {\n",
       "        text-align: right;\n",
       "    }\n",
       "</style>\n",
       "<table border=\"1\" class=\"dataframe\">\n",
       "  <thead>\n",
       "    <tr style=\"text-align: right;\">\n",
       "      <th></th>\n",
       "      <th>user_id</th>\n",
       "      <th>month</th>\n",
       "      <th>Call_duration</th>\n",
       "      <th>Call_count</th>\n",
       "      <th>mb_used</th>\n",
       "      <th>gb_used</th>\n",
       "      <th>message_count</th>\n",
       "    </tr>\n",
       "  </thead>\n",
       "  <tbody>\n",
       "    <tr>\n",
       "      <th>0</th>\n",
       "      <td>1000</td>\n",
       "      <td>12</td>\n",
       "      <td>124.0</td>\n",
       "      <td>16.0</td>\n",
       "      <td>1901.47</td>\n",
       "      <td>2.0</td>\n",
       "      <td>11.0</td>\n",
       "    </tr>\n",
       "    <tr>\n",
       "      <th>1</th>\n",
       "      <td>1001</td>\n",
       "      <td>8</td>\n",
       "      <td>182.0</td>\n",
       "      <td>22.0</td>\n",
       "      <td>6919.15</td>\n",
       "      <td>7.0</td>\n",
       "      <td>30.0</td>\n",
       "    </tr>\n",
       "    <tr>\n",
       "      <th>2</th>\n",
       "      <td>1001</td>\n",
       "      <td>9</td>\n",
       "      <td>315.0</td>\n",
       "      <td>38.0</td>\n",
       "      <td>13314.82</td>\n",
       "      <td>14.0</td>\n",
       "      <td>44.0</td>\n",
       "    </tr>\n",
       "    <tr>\n",
       "      <th>3</th>\n",
       "      <td>1001</td>\n",
       "      <td>10</td>\n",
       "      <td>393.0</td>\n",
       "      <td>47.0</td>\n",
       "      <td>22330.49</td>\n",
       "      <td>22.0</td>\n",
       "      <td>53.0</td>\n",
       "    </tr>\n",
       "    <tr>\n",
       "      <th>4</th>\n",
       "      <td>1001</td>\n",
       "      <td>11</td>\n",
       "      <td>426.0</td>\n",
       "      <td>49.0</td>\n",
       "      <td>18504.30</td>\n",
       "      <td>19.0</td>\n",
       "      <td>36.0</td>\n",
       "    </tr>\n",
       "  </tbody>\n",
       "</table>\n",
       "</div>"
      ],
      "text/plain": [
       "   user_id  month  Call_duration  Call_count   mb_used  gb_used  message_count\n",
       "0     1000     12          124.0        16.0   1901.47      2.0           11.0\n",
       "1     1001      8          182.0        22.0   6919.15      7.0           30.0\n",
       "2     1001      9          315.0        38.0  13314.82     14.0           44.0\n",
       "3     1001     10          393.0        47.0  22330.49     22.0           53.0\n",
       "4     1001     11          426.0        49.0  18504.30     19.0           36.0"
      ]
     },
     "metadata": {},
     "output_type": "display_data"
    }
   ],
   "source": [
    "print('Total of rows count after merging: ',len(df_merged))\n",
    "#print(df_merged.sort_values(by=['user_id','month']))\n",
    "df_merged=df_merged.sort_values(by=['user_id','month']).reset_index()\n",
    "display(df_merged.head())"
   ]
  },
  {
   "cell_type": "code",
   "execution_count": 18,
   "metadata": {},
   "outputs": [
    {
     "data": {
      "text/html": [
       "<div>\n",
       "<style scoped>\n",
       "    .dataframe tbody tr th:only-of-type {\n",
       "        vertical-align: middle;\n",
       "    }\n",
       "\n",
       "    .dataframe tbody tr th {\n",
       "        vertical-align: top;\n",
       "    }\n",
       "\n",
       "    .dataframe thead th {\n",
       "        text-align: right;\n",
       "    }\n",
       "</style>\n",
       "<table border=\"1\" class=\"dataframe\">\n",
       "  <thead>\n",
       "    <tr style=\"text-align: right;\">\n",
       "      <th></th>\n",
       "      <th>user_id</th>\n",
       "      <th>month</th>\n",
       "      <th>Call_duration</th>\n",
       "      <th>Call_count</th>\n",
       "      <th>mb_used</th>\n",
       "      <th>gb_used</th>\n",
       "      <th>message_count</th>\n",
       "      <th>plan</th>\n",
       "    </tr>\n",
       "  </thead>\n",
       "  <tbody>\n",
       "    <tr>\n",
       "      <th>0</th>\n",
       "      <td>1000</td>\n",
       "      <td>12.0</td>\n",
       "      <td>124.0</td>\n",
       "      <td>16.0</td>\n",
       "      <td>1901.47</td>\n",
       "      <td>2.0</td>\n",
       "      <td>11.0</td>\n",
       "      <td>ultimate</td>\n",
       "    </tr>\n",
       "    <tr>\n",
       "      <th>1</th>\n",
       "      <td>1001</td>\n",
       "      <td>8.0</td>\n",
       "      <td>182.0</td>\n",
       "      <td>22.0</td>\n",
       "      <td>6919.15</td>\n",
       "      <td>7.0</td>\n",
       "      <td>30.0</td>\n",
       "      <td>surf</td>\n",
       "    </tr>\n",
       "    <tr>\n",
       "      <th>2</th>\n",
       "      <td>1001</td>\n",
       "      <td>9.0</td>\n",
       "      <td>315.0</td>\n",
       "      <td>38.0</td>\n",
       "      <td>13314.82</td>\n",
       "      <td>14.0</td>\n",
       "      <td>44.0</td>\n",
       "      <td>surf</td>\n",
       "    </tr>\n",
       "    <tr>\n",
       "      <th>3</th>\n",
       "      <td>1001</td>\n",
       "      <td>10.0</td>\n",
       "      <td>393.0</td>\n",
       "      <td>47.0</td>\n",
       "      <td>22330.49</td>\n",
       "      <td>22.0</td>\n",
       "      <td>53.0</td>\n",
       "      <td>surf</td>\n",
       "    </tr>\n",
       "    <tr>\n",
       "      <th>4</th>\n",
       "      <td>1001</td>\n",
       "      <td>11.0</td>\n",
       "      <td>426.0</td>\n",
       "      <td>49.0</td>\n",
       "      <td>18504.30</td>\n",
       "      <td>19.0</td>\n",
       "      <td>36.0</td>\n",
       "      <td>surf</td>\n",
       "    </tr>\n",
       "  </tbody>\n",
       "</table>\n",
       "</div>"
      ],
      "text/plain": [
       "   user_id  month  Call_duration  Call_count   mb_used  gb_used  \\\n",
       "0     1000   12.0          124.0        16.0   1901.47      2.0   \n",
       "1     1001    8.0          182.0        22.0   6919.15      7.0   \n",
       "2     1001    9.0          315.0        38.0  13314.82     14.0   \n",
       "3     1001   10.0          393.0        47.0  22330.49     22.0   \n",
       "4     1001   11.0          426.0        49.0  18504.30     19.0   \n",
       "\n",
       "   message_count      plan  \n",
       "0           11.0  ultimate  \n",
       "1           30.0      surf  \n",
       "2           44.0      surf  \n",
       "3           53.0      surf  \n",
       "4           36.0      surf  "
      ]
     },
     "metadata": {},
     "output_type": "display_data"
    },
    {
     "name": "stdout",
     "output_type": "stream",
     "text": [
      "Total of rows count after merging with plan table:  2269\n"
     ]
    }
   ],
   "source": [
    "df_merged_plan= pd.merge(left = df_merged , \n",
    "               right = df_users[['user_id','plan']], how='outer',on=['user_id']).fillna(0)\n",
    "display(df_merged_plan.head())\n",
    "print('Total of rows count after merging with plan table: ',len(df_merged_plan))"
   ]
  },
  {
   "cell_type": "markdown",
   "metadata": {},
   "source": [
    "Checking basic information of new merged table."
   ]
  },
  {
   "cell_type": "code",
   "execution_count": 19,
   "metadata": {},
   "outputs": [
    {
     "name": "stdout",
     "output_type": "stream",
     "text": [
      "<class 'pandas.core.frame.DataFrame'>\n",
      "Int64Index: 2269 entries, 0 to 2268\n",
      "Data columns (total 8 columns):\n",
      " #   Column         Non-Null Count  Dtype  \n",
      "---  ------         --------------  -----  \n",
      " 0   user_id        2269 non-null   int64  \n",
      " 1   month          2269 non-null   float64\n",
      " 2   Call_duration  2269 non-null   float64\n",
      " 3   Call_count     2269 non-null   float64\n",
      " 4   mb_used        2269 non-null   float64\n",
      " 5   gb_used        2269 non-null   float64\n",
      " 6   message_count  2269 non-null   float64\n",
      " 7   plan           2269 non-null   object \n",
      "dtypes: float64(6), int64(1), object(1)\n",
      "memory usage: 159.5+ KB\n",
      "Total records with 0 call_duration:  51\n",
      "Total records with 0 Call_count:  51\n",
      "Total records with 0 mb_used:  29\n",
      "Total records with 0 message_count:  492\n"
     ]
    }
   ],
   "source": [
    "df_merged_plan.info()\n",
    "print('Total records with 0 call_duration: ',len(df_merged_plan[df_merged_plan['Call_duration']==0]))\n",
    "print('Total records with 0 Call_count: ',len(df_merged_plan[df_merged_plan['Call_count']==0]))\n",
    "print('Total records with 0 mb_used: ',len(df_merged_plan[df_merged_plan['mb_used']==0]))\n",
    "print('Total records with 0 message_count: ',len(df_merged_plan[df_merged_plan['message_count']==0]))\n",
    "\n",
    "#print()"
   ]
  },
  {
   "cell_type": "markdown",
   "metadata": {},
   "source": [
    "**Convert the data to the necessary types in the final table**"
   ]
  },
  {
   "cell_type": "code",
   "execution_count": 20,
   "metadata": {},
   "outputs": [],
   "source": [
    "#Change the required data type.\n",
    "df_merged_plan['month'] = df_merged_plan['month'].astype('int8')\n",
    "#df_merged_plan['Call_duration'] = df_merged_plan['Call_duration'].astype('float')\n",
    "df_merged_plan['Call_count'] = df_merged_plan['Call_count'].astype('int64')\n",
    "df_merged_plan['message_count'] = df_merged_plan['message_count'].astype('int32')\n",
    "df_merged_plan['gb_used'] = df_merged_plan['gb_used'].astype('int32')\n"
   ]
  },
  {
   "cell_type": "code",
   "execution_count": 21,
   "metadata": {},
   "outputs": [
    {
     "name": "stdout",
     "output_type": "stream",
     "text": [
      "<class 'pandas.core.frame.DataFrame'>\n",
      "Int64Index: 2269 entries, 0 to 2268\n",
      "Data columns (total 8 columns):\n",
      " #   Column         Non-Null Count  Dtype  \n",
      "---  ------         --------------  -----  \n",
      " 0   user_id        2269 non-null   int64  \n",
      " 1   month          2269 non-null   int8   \n",
      " 2   Call_duration  2269 non-null   float64\n",
      " 3   Call_count     2269 non-null   int64  \n",
      " 4   mb_used        2269 non-null   float64\n",
      " 5   gb_used        2269 non-null   int32  \n",
      " 6   message_count  2269 non-null   int32  \n",
      " 7   plan           2269 non-null   object \n",
      "dtypes: float64(2), int32(2), int64(2), int8(1), object(1)\n",
      "memory usage: 126.3+ KB\n"
     ]
    }
   ],
   "source": [
    "df_merged_plan.info()"
   ]
  },
  {
   "cell_type": "code",
   "execution_count": 22,
   "metadata": {},
   "outputs": [
    {
     "data": {
      "text/html": [
       "<div>\n",
       "<style scoped>\n",
       "    .dataframe tbody tr th:only-of-type {\n",
       "        vertical-align: middle;\n",
       "    }\n",
       "\n",
       "    .dataframe tbody tr th {\n",
       "        vertical-align: top;\n",
       "    }\n",
       "\n",
       "    .dataframe thead th {\n",
       "        text-align: right;\n",
       "    }\n",
       "</style>\n",
       "<table border=\"1\" class=\"dataframe\">\n",
       "  <thead>\n",
       "    <tr style=\"text-align: right;\">\n",
       "      <th></th>\n",
       "      <th>user_id</th>\n",
       "      <th>month</th>\n",
       "      <th>Call_duration</th>\n",
       "      <th>Call_count</th>\n",
       "      <th>mb_used</th>\n",
       "      <th>gb_used</th>\n",
       "      <th>message_count</th>\n",
       "      <th>plan</th>\n",
       "    </tr>\n",
       "  </thead>\n",
       "  <tbody>\n",
       "    <tr>\n",
       "      <th>0</th>\n",
       "      <td>1000</td>\n",
       "      <td>12</td>\n",
       "      <td>124.0</td>\n",
       "      <td>16</td>\n",
       "      <td>1901.47</td>\n",
       "      <td>2</td>\n",
       "      <td>11</td>\n",
       "      <td>ultimate</td>\n",
       "    </tr>\n",
       "    <tr>\n",
       "      <th>1</th>\n",
       "      <td>1001</td>\n",
       "      <td>8</td>\n",
       "      <td>182.0</td>\n",
       "      <td>22</td>\n",
       "      <td>6919.15</td>\n",
       "      <td>7</td>\n",
       "      <td>30</td>\n",
       "      <td>surf</td>\n",
       "    </tr>\n",
       "    <tr>\n",
       "      <th>2</th>\n",
       "      <td>1001</td>\n",
       "      <td>9</td>\n",
       "      <td>315.0</td>\n",
       "      <td>38</td>\n",
       "      <td>13314.82</td>\n",
       "      <td>14</td>\n",
       "      <td>44</td>\n",
       "      <td>surf</td>\n",
       "    </tr>\n",
       "    <tr>\n",
       "      <th>3</th>\n",
       "      <td>1001</td>\n",
       "      <td>10</td>\n",
       "      <td>393.0</td>\n",
       "      <td>47</td>\n",
       "      <td>22330.49</td>\n",
       "      <td>22</td>\n",
       "      <td>53</td>\n",
       "      <td>surf</td>\n",
       "    </tr>\n",
       "    <tr>\n",
       "      <th>4</th>\n",
       "      <td>1001</td>\n",
       "      <td>11</td>\n",
       "      <td>426.0</td>\n",
       "      <td>49</td>\n",
       "      <td>18504.30</td>\n",
       "      <td>19</td>\n",
       "      <td>36</td>\n",
       "      <td>surf</td>\n",
       "    </tr>\n",
       "    <tr>\n",
       "      <th>...</th>\n",
       "      <td>...</td>\n",
       "      <td>...</td>\n",
       "      <td>...</td>\n",
       "      <td>...</td>\n",
       "      <td>...</td>\n",
       "      <td>...</td>\n",
       "      <td>...</td>\n",
       "      <td>...</td>\n",
       "    </tr>\n",
       "    <tr>\n",
       "      <th>2264</th>\n",
       "      <td>1363</td>\n",
       "      <td>0</td>\n",
       "      <td>0.0</td>\n",
       "      <td>0</td>\n",
       "      <td>0.00</td>\n",
       "      <td>0</td>\n",
       "      <td>0</td>\n",
       "      <td>ultimate</td>\n",
       "    </tr>\n",
       "    <tr>\n",
       "      <th>2265</th>\n",
       "      <td>1378</td>\n",
       "      <td>0</td>\n",
       "      <td>0.0</td>\n",
       "      <td>0</td>\n",
       "      <td>0.00</td>\n",
       "      <td>0</td>\n",
       "      <td>0</td>\n",
       "      <td>surf</td>\n",
       "    </tr>\n",
       "    <tr>\n",
       "      <th>2266</th>\n",
       "      <td>1441</td>\n",
       "      <td>0</td>\n",
       "      <td>0.0</td>\n",
       "      <td>0</td>\n",
       "      <td>0.00</td>\n",
       "      <td>0</td>\n",
       "      <td>0</td>\n",
       "      <td>ultimate</td>\n",
       "    </tr>\n",
       "    <tr>\n",
       "      <th>2267</th>\n",
       "      <td>1463</td>\n",
       "      <td>0</td>\n",
       "      <td>0.0</td>\n",
       "      <td>0</td>\n",
       "      <td>0.00</td>\n",
       "      <td>0</td>\n",
       "      <td>0</td>\n",
       "      <td>ultimate</td>\n",
       "    </tr>\n",
       "    <tr>\n",
       "      <th>2268</th>\n",
       "      <td>1473</td>\n",
       "      <td>0</td>\n",
       "      <td>0.0</td>\n",
       "      <td>0</td>\n",
       "      <td>0.00</td>\n",
       "      <td>0</td>\n",
       "      <td>0</td>\n",
       "      <td>surf</td>\n",
       "    </tr>\n",
       "  </tbody>\n",
       "</table>\n",
       "<p>2269 rows × 8 columns</p>\n",
       "</div>"
      ],
      "text/plain": [
       "      user_id  month  Call_duration  Call_count   mb_used  gb_used  \\\n",
       "0        1000     12          124.0          16   1901.47        2   \n",
       "1        1001      8          182.0          22   6919.15        7   \n",
       "2        1001      9          315.0          38  13314.82       14   \n",
       "3        1001     10          393.0          47  22330.49       22   \n",
       "4        1001     11          426.0          49  18504.30       19   \n",
       "...       ...    ...            ...         ...       ...      ...   \n",
       "2264     1363      0            0.0           0      0.00        0   \n",
       "2265     1378      0            0.0           0      0.00        0   \n",
       "2266     1441      0            0.0           0      0.00        0   \n",
       "2267     1463      0            0.0           0      0.00        0   \n",
       "2268     1473      0            0.0           0      0.00        0   \n",
       "\n",
       "      message_count      plan  \n",
       "0                11  ultimate  \n",
       "1                30      surf  \n",
       "2                44      surf  \n",
       "3                53      surf  \n",
       "4                36      surf  \n",
       "...             ...       ...  \n",
       "2264              0  ultimate  \n",
       "2265              0      surf  \n",
       "2266              0  ultimate  \n",
       "2267              0  ultimate  \n",
       "2268              0      surf  \n",
       "\n",
       "[2269 rows x 8 columns]"
      ]
     },
     "execution_count": 22,
     "metadata": {},
     "output_type": "execute_result"
    }
   ],
   "source": [
    "df_merged_plan"
   ]
  },
  {
   "cell_type": "markdown",
   "metadata": {},
   "source": [
    "Now let's calculate total_revenue for each month. For this I first write function to calculate all monthly cost based on below logic.\n",
    "<br>\n",
    "<br>\n",
    "**Surf**\n",
    "1. Monthly charge: \\\\$20\n",
    "2. 500 monthly minutes, 50 texts, and 15 GB of data\n",
    "3. After exceeding the package limits:\n",
    "    1. 1 minute: 3 cents\n",
    "    2. 1 text message: 3 cents\n",
    "    3. 1 GB of data: \\\\$10"
   ]
  },
  {
   "cell_type": "markdown",
   "metadata": {},
   "source": [
    "**Ultimate**\n",
    "1. Monthly charge: \\\\$70\n",
    "2. 3000 monthly minutes, 1000 text messages, and 30 GB of data\n",
    "3. After exceeding the package limits:\n",
    "    1. 1 minute: 1 cent\n",
    "    2. 1 text message: 1 cent\n",
    "    3. 1 GB of data: \\\\$7"
   ]
  },
  {
   "cell_type": "markdown",
   "metadata": {},
   "source": [
    "**Total_Monthly_Charges=Monthly charge+Charges for extra min.+Charges for extra message+Charges for extra GB.**"
   ]
  },
  {
   "cell_type": "code",
   "execution_count": 23,
   "metadata": {},
   "outputs": [],
   "source": [
    "def monthly_cost(row):\n",
    "   \n",
    "    plan=row['plan']#plan type\n",
    "    #getting actual used call_duration, message and gb used from the row and save in the variable.\n",
    "    actual_Call_duration=row['Call_duration']\n",
    "    actual_Call_count=row['Call_count']\n",
    "    actual_gb_used=row['gb_used']\n",
    "    actual_message_count=row['message_count']\n",
    "    \n",
    "    #getting plan detail from the table and store all the required field in to the variable.\n",
    "    df_row_plan=df_plans[df_plans['plan_name']==plan]\n",
    "    minutes_included=int(df_row_plan['minutes_included']) \n",
    "    messages_included=int(df_row_plan['messages_included'])\n",
    "    mb_per_month_included=int(df_row_plan['mb_per_month_included'])\n",
    "    gb_per_month_included=int(mb_per_month_included/1024)\n",
    "    \n",
    "    usd_monthly_pay=float(df_row_plan['usd_monthly_pay'])\n",
    "    usd_per_gb=float(df_row_plan['usd_per_gb'])\n",
    "    usd_per_message=float(df_row_plan['usd_per_message'])\n",
    "    usd_per_minute=float(df_row_plan['usd_per_minute'])\n",
    "   \n",
    "    \n",
    "    extra_call_charges=0\n",
    "    extra_mess_charges=0\n",
    "    extar_gb_charges=0\n",
    "    try:\n",
    "\n",
    "        if(actual_Call_duration>minutes_included):\n",
    "            diff_call_duration=actual_Call_duration-minutes_included\n",
    "            extra_call_charges=diff_call_duration*usd_per_minute\n",
    "        else:\n",
    "            extra_call_charges=0\n",
    "\n",
    "        if(actual_message_count>messages_included):\n",
    "            diff_msg=actual_message_count-messages_included\n",
    "            extra_mess_charges=diff_msg*usd_per_message\n",
    "        else:\n",
    "            extra_mess_charges=0\n",
    "\n",
    "        if(actual_gb_used>gb_per_month_included):\n",
    "            diff_gb=actual_gb_used-gb_per_month_included\n",
    "            extar_gb_charges=diff_gb*usd_per_gb\n",
    "        else:\n",
    "            extar_gb_charges=0\n",
    "        #total_revenue=usd_monthly_pay+extra_call_charges+extra_mess_charges+extar_gb_charges\n",
    "    except:\n",
    "          print(\"An exception occurred\")\n",
    "        \n",
    "        \n",
    "    total_revenue=(usd_monthly_pay)+(extra_call_charges)+(extra_mess_charges)+(extar_gb_charges)\n",
    "    return total_revenue\n",
    "    \n",
    "    \n",
    "    \n",
    "#df_merged_plan['total_revenue']=df_merged_plan.apply(monthly_cost,axis=1)\n",
    "#print(df_merged_plan.head())"
   ]
  },
  {
   "cell_type": "code",
   "execution_count": 24,
   "metadata": {},
   "outputs": [
    {
     "name": "stdout",
     "output_type": "stream",
     "text": [
      "      user_id  month  Call_duration  Call_count  mb_used  gb_used  \\\n",
      "2264     1363      0            0.0           0      0.0        0   \n",
      "2265     1378      0            0.0           0      0.0        0   \n",
      "2266     1441      0            0.0           0      0.0        0   \n",
      "2267     1463      0            0.0           0      0.0        0   \n",
      "2268     1473      0            0.0           0      0.0        0   \n",
      "\n",
      "      message_count      plan  total_monthly_revenue  \n",
      "2264              0  ultimate                   70.0  \n",
      "2265              0      surf                   20.0  \n",
      "2266              0  ultimate                   70.0  \n",
      "2267              0  ultimate                   70.0  \n",
      "2268              0      surf                   20.0  \n"
     ]
    }
   ],
   "source": [
    "df_merged_plan['total_monthly_revenue']=df_merged_plan.apply(monthly_cost,axis=1)\n",
    "print(df_merged_plan.tail())"
   ]
  },
  {
   "cell_type": "markdown",
   "metadata": {},
   "source": [
    "### Conclusion\n",
    "So far, we have deleted the invalid data, changed the required data type and added the required columns. Also total_monthly_revenue has been calculated and saved in the final table with all other required columns. So in the next step we will use our this final table make the analysis."
   ]
  },
  {
   "cell_type": "markdown",
   "metadata": {},
   "source": [
    "## Step 3. Analyze the data"
   ]
  },
  {
   "cell_type": "code",
   "execution_count": 25,
   "metadata": {},
   "outputs": [
    {
     "name": "stdout",
     "output_type": "stream",
     "text": [
      "   user_id  month  Call_duration  Call_count   mb_used  gb_used  \\\n",
      "0     1000     12          124.0          16   1901.47        2   \n",
      "1     1001      8          182.0          22   6919.15        7   \n",
      "2     1001      9          315.0          38  13314.82       14   \n",
      "3     1001     10          393.0          47  22330.49       22   \n",
      "4     1001     11          426.0          49  18504.30       19   \n",
      "5     1001     12          412.0          46  19369.18       19   \n",
      "6     1002     10           59.0           8   6552.01        7   \n",
      "7     1002     11          386.0          48  19345.08       19   \n",
      "8     1002     12          384.0          38  14396.24       15   \n",
      "9     1003     12         1104.0         118  27044.14       27   \n",
      "\n",
      "   message_count      plan  total_monthly_revenue  \n",
      "0             11  ultimate                  70.00  \n",
      "1             30      surf                  20.00  \n",
      "2             44      surf                  20.00  \n",
      "3             53      surf                  90.09  \n",
      "4             36      surf                  60.00  \n",
      "5             44      surf                  60.00  \n",
      "6             15      surf                  20.00  \n",
      "7             32      surf                  60.00  \n",
      "8             41      surf                  20.00  \n",
      "9             50      surf                 158.12  \n"
     ]
    }
   ],
   "source": [
    "print(df_merged_plan.head(10))\n"
   ]
  },
  {
   "cell_type": "code",
   "execution_count": 26,
   "metadata": {},
   "outputs": [
    {
     "name": "stdout",
     "output_type": "stream",
     "text": [
      "<class 'pandas.core.frame.DataFrame'>\n",
      "Int64Index: 2269 entries, 0 to 2268\n",
      "Data columns (total 9 columns):\n",
      " #   Column                 Non-Null Count  Dtype  \n",
      "---  ------                 --------------  -----  \n",
      " 0   user_id                2269 non-null   int64  \n",
      " 1   month                  2269 non-null   int8   \n",
      " 2   Call_duration          2269 non-null   float64\n",
      " 3   Call_count             2269 non-null   int64  \n",
      " 4   mb_used                2269 non-null   float64\n",
      " 5   gb_used                2269 non-null   int32  \n",
      " 6   message_count          2269 non-null   int32  \n",
      " 7   plan                   2269 non-null   object \n",
      " 8   total_monthly_revenue  2269 non-null   float64\n",
      "dtypes: float64(3), int32(2), int64(2), int8(1), object(1)\n",
      "memory usage: 144.0+ KB\n"
     ]
    },
    {
     "data": {
      "text/html": [
       "<div>\n",
       "<style scoped>\n",
       "    .dataframe tbody tr th:only-of-type {\n",
       "        vertical-align: middle;\n",
       "    }\n",
       "\n",
       "    .dataframe tbody tr th {\n",
       "        vertical-align: top;\n",
       "    }\n",
       "\n",
       "    .dataframe thead th {\n",
       "        text-align: right;\n",
       "    }\n",
       "</style>\n",
       "<table border=\"1\" class=\"dataframe\">\n",
       "  <thead>\n",
       "    <tr style=\"text-align: right;\">\n",
       "      <th></th>\n",
       "      <th>user_id</th>\n",
       "      <th>month</th>\n",
       "      <th>Call_duration</th>\n",
       "      <th>Call_count</th>\n",
       "      <th>mb_used</th>\n",
       "      <th>gb_used</th>\n",
       "      <th>message_count</th>\n",
       "      <th>total_monthly_revenue</th>\n",
       "    </tr>\n",
       "  </thead>\n",
       "  <tbody>\n",
       "    <tr>\n",
       "      <th>count</th>\n",
       "      <td>2269.000000</td>\n",
       "      <td>2269.000000</td>\n",
       "      <td>2269.000000</td>\n",
       "      <td>2269.000000</td>\n",
       "      <td>2269.000000</td>\n",
       "      <td>2269.000000</td>\n",
       "      <td>2269.000000</td>\n",
       "      <td>2269.000000</td>\n",
       "    </tr>\n",
       "    <tr>\n",
       "      <th>mean</th>\n",
       "      <td>1245.687528</td>\n",
       "      <td>9.087263</td>\n",
       "      <td>424.359189</td>\n",
       "      <td>47.823270</td>\n",
       "      <td>16581.794024</td>\n",
       "      <td>16.690172</td>\n",
       "      <td>32.816219</td>\n",
       "      <td>63.867792</td>\n",
       "    </tr>\n",
       "    <tr>\n",
       "      <th>std</th>\n",
       "      <td>142.624118</td>\n",
       "      <td>2.586316</td>\n",
       "      <td>238.880338</td>\n",
       "      <td>26.496548</td>\n",
       "      <td>8078.299644</td>\n",
       "      <td>7.910188</td>\n",
       "      <td>34.038574</td>\n",
       "      <td>46.583211</td>\n",
       "    </tr>\n",
       "    <tr>\n",
       "      <th>min</th>\n",
       "      <td>1000.000000</td>\n",
       "      <td>0.000000</td>\n",
       "      <td>0.000000</td>\n",
       "      <td>0.000000</td>\n",
       "      <td>0.000000</td>\n",
       "      <td>0.000000</td>\n",
       "      <td>0.000000</td>\n",
       "      <td>20.000000</td>\n",
       "    </tr>\n",
       "    <tr>\n",
       "      <th>25%</th>\n",
       "      <td>1122.000000</td>\n",
       "      <td>7.000000</td>\n",
       "      <td>258.000000</td>\n",
       "      <td>30.000000</td>\n",
       "      <td>12021.160000</td>\n",
       "      <td>12.000000</td>\n",
       "      <td>3.000000</td>\n",
       "      <td>22.940000</td>\n",
       "    </tr>\n",
       "    <tr>\n",
       "      <th>50%</th>\n",
       "      <td>1244.000000</td>\n",
       "      <td>10.000000</td>\n",
       "      <td>420.000000</td>\n",
       "      <td>47.000000</td>\n",
       "      <td>16732.000000</td>\n",
       "      <td>17.000000</td>\n",
       "      <td>25.000000</td>\n",
       "      <td>70.000000</td>\n",
       "    </tr>\n",
       "    <tr>\n",
       "      <th>75%</th>\n",
       "      <td>1368.000000</td>\n",
       "      <td>11.000000</td>\n",
       "      <td>568.000000</td>\n",
       "      <td>64.000000</td>\n",
       "      <td>20939.150000</td>\n",
       "      <td>21.000000</td>\n",
       "      <td>51.000000</td>\n",
       "      <td>70.000000</td>\n",
       "    </tr>\n",
       "    <tr>\n",
       "      <th>max</th>\n",
       "      <td>1499.000000</td>\n",
       "      <td>12.000000</td>\n",
       "      <td>1510.000000</td>\n",
       "      <td>167.000000</td>\n",
       "      <td>70931.590000</td>\n",
       "      <td>70.000000</td>\n",
       "      <td>266.000000</td>\n",
       "      <td>590.370000</td>\n",
       "    </tr>\n",
       "  </tbody>\n",
       "</table>\n",
       "</div>"
      ],
      "text/plain": [
       "           user_id        month  Call_duration   Call_count       mb_used  \\\n",
       "count  2269.000000  2269.000000    2269.000000  2269.000000   2269.000000   \n",
       "mean   1245.687528     9.087263     424.359189    47.823270  16581.794024   \n",
       "std     142.624118     2.586316     238.880338    26.496548   8078.299644   \n",
       "min    1000.000000     0.000000       0.000000     0.000000      0.000000   \n",
       "25%    1122.000000     7.000000     258.000000    30.000000  12021.160000   \n",
       "50%    1244.000000    10.000000     420.000000    47.000000  16732.000000   \n",
       "75%    1368.000000    11.000000     568.000000    64.000000  20939.150000   \n",
       "max    1499.000000    12.000000    1510.000000   167.000000  70931.590000   \n",
       "\n",
       "           gb_used  message_count  total_monthly_revenue  \n",
       "count  2269.000000    2269.000000            2269.000000  \n",
       "mean     16.690172      32.816219              63.867792  \n",
       "std       7.910188      34.038574              46.583211  \n",
       "min       0.000000       0.000000              20.000000  \n",
       "25%      12.000000       3.000000              22.940000  \n",
       "50%      17.000000      25.000000              70.000000  \n",
       "75%      21.000000      51.000000              70.000000  \n",
       "max      70.000000     266.000000             590.370000  "
      ]
     },
     "execution_count": 26,
     "metadata": {},
     "output_type": "execute_result"
    }
   ],
   "source": [
    "df_merged_plan.info()\n",
    "df_merged_plan.describe()"
   ]
  },
  {
   "cell_type": "markdown",
   "metadata": {},
   "source": [
    "Below section of code will find the Avg. minutes, texts, and volume of data the users of each plan require per month."
   ]
  },
  {
   "cell_type": "code",
   "execution_count": 27,
   "metadata": {},
   "outputs": [
    {
     "name": "stdout",
     "output_type": "stream",
     "text": [
      "Surf users detail: call duration mean:423.89, Variance:55986.69, Std. dev.236.62: \n",
      "Surf users detail: Messages mean:30.76, Variance:1123.20, Std. dev.33.51: \n",
      "Surf users detail: Mb_used mean:16382.07, Variance:65536425.90, Std. dev.8095.46: \n",
      "Ultimate users detail: call duration mean:425.39, Variance:59489.93, Std. dev.243.91: \n",
      "Ultimate users detail: Messages mean:37.29, Variance:1208.19, Std. dev.34.76: \n",
      "Ultimate users detail: Mb_used mean:17016.77, Variance:64469159.83, Std. dev.8029.27: \n"
     ]
    }
   ],
   "source": [
    "\n",
    "# Find the minutes, texts, and volume of data the users of each plan require per month.\n",
    "df_surf=df_merged_plan[df_merged_plan.plan=='surf']\n",
    "df_ultimate=df_merged_plan[df_merged_plan.plan=='ultimate']\n",
    "print('Surf users detail: call duration mean:{0:.2f}, Variance:{1:.2f}, Std. dev.{2:.2f}: '.format(df_surf['Call_duration'].mean(),\n",
    "                                                                                      df_surf['Call_duration'].var(),\n",
    "                                                                                      df_surf['Call_duration'].std()))\n",
    "print('Surf users detail: Messages mean:{0:.2f}, Variance:{1:.2f}, Std. dev.{2:.2f}: '.format(df_surf['message_count'].mean(),\n",
    "                                                                                      df_surf['message_count'].var(),\n",
    "                                                                                      df_surf['message_count'].std()))\n",
    "print('Surf users detail: Mb_used mean:{0:.2f}, Variance:{1:.2f}, Std. dev.{2:.2f}: '.format(df_surf['mb_used'].mean(),\n",
    "                                                                                      df_surf['mb_used'].var(),\n",
    "                                                                                      df_surf['mb_used'].std()))\n",
    "\n",
    "print('Ultimate users detail: call duration mean:{0:.2f}, Variance:{1:.2f}, Std. dev.{2:.2f}: '.format(df_ultimate['Call_duration'].mean(),\n",
    "                                                                                      df_ultimate['Call_duration'].var(),\n",
    "                                                                                      df_ultimate['Call_duration'].std()))\n",
    "\n",
    "\n",
    "print('Ultimate users detail: Messages mean:{0:.2f}, Variance:{1:.2f}, Std. dev.{2:.2f}: '.format(df_ultimate['message_count'].mean(),\n",
    "                                                                                      df_ultimate['message_count'].var(),\n",
    "                                                                                      df_ultimate['message_count'].std()))\n",
    "\n",
    "\n",
    "print('Ultimate users detail: Mb_used mean:{0:.2f}, Variance:{1:.2f}, Std. dev.{2:.2f}: '.format(df_ultimate['mb_used'].mean(),\n",
    "                                                                                      df_ultimate['mb_used'].var(),\n",
    "                                                                                      df_ultimate['mb_used'].std()))\n"
   ]
  },
  {
   "cell_type": "markdown",
   "metadata": {},
   "source": [
    "### Histogram for the parameters: Call_duration, messages, gb_used"
   ]
  },
  {
   "cell_type": "code",
   "execution_count": 28,
   "metadata": {},
   "outputs": [
    {
     "data": {
      "image/png": "[encoded data removed]",
      "text/plain": [
       "<Figure size 432x288 with 1 Axes>"
      ]
     },
     "metadata": {
      "needs_background": "light"
     },
     "output_type": "display_data"
    },
    {
     "data": {
      "image/png": "[encoded data removed]",
      "text/plain": [
       "<Figure size 432x288 with 1 Axes>"
      ]
     },
     "metadata": {
      "needs_background": "light"
     },
     "output_type": "display_data"
    },
    {
     "data": {
      "image/png": "[encoded data removed]",
      "text/plain": [
       "<Figure size 432x288 with 1 Axes>"
      ]
     },
     "metadata": {
      "needs_background": "light"
     },
     "output_type": "display_data"
    }
   ],
   "source": [
    "hist_list=['Call_duration', 'message_count', 'gb_used']\n",
    "for param in hist_list:\n",
    "    df_ultimate=df_merged_plan.loc[df_merged_plan.plan=='ultimate', param]\n",
    "    df_surf=df_merged_plan.loc[df_merged_plan.plan=='surf', param]\n",
    "    ##if(param =='Call_duration'):\n",
    "     #   kwargs=dict(alpha=0.6,bins=100,density=True,stacked=True)\n",
    "     #   ylabel='Frequency Density'\n",
    "    #else:\n",
    "    kwargs=dict(alpha=0.5,bins=100)\n",
    "    ylabel='No. of Users'\n",
    "    plt.hist(df_ultimate,**kwargs,color='y', label='Ultimate')\n",
    "    plt.hist(df_surf,**kwargs,color='b', label='Surf')\n",
    "    plt.gca().set(title='Ultimate vs. Surf: Displaying '+param+' by Users')\n",
    "    plt.xlabel(param) \n",
    "    plt.ylabel(ylabel) \n",
    "    plt.legend()\n",
    "    plt.show()\n",
    "    \n"
   ]
  },
  {
   "cell_type": "markdown",
   "metadata": {},
   "source": [
    "As we can see from the above graph, Surf users are dominating for every parameters but also there seems to have outliers so first we try to remove all those and then comapre the Histogrma again."
   ]
  },
  {
   "cell_type": "markdown",
   "metadata": {},
   "source": [
    "#### Conclusion: Comparison of Surf and Ultimate users:\n",
    "\n",
    "**Call_duration:**\n",
    "- As we can see from the graph above, In General most of the users uses calls duration between 250 and 620 minutes. In which  Surf users uses mostly between 300 to 600 min. while Ultimate users uses mostly 400 min.\n",
    "- Very few users uses time more than 1000 min.\n",
    "- There are more users of Surf plan.\n",
    "<br><br>\n",
    "**Messages:**\n",
    "- Many of users does not sent messages at all.\n",
    "- Surf users mostly sent messages between 1 to 50. while the most of the ultimate users sent berween 1 to 70. This is may be due to the condition that surf users got free messages till 50.\n",
    "- There are more users of Surf plan.\n",
    "<br><br>\n",
    "**Gb_used**\n",
    "- Most of the surf users uses internet between 15-25 gb. While the range is almost same for ultimate users as well.\n",
    "- Very few users use internet more the 30 gb.\n",
    "<br><br>\n",
    "As we can see in the grapg there are outliers as well in the data so now we will try to remove the outliers and then see the graph again.\n"
   ]
  },
  {
   "cell_type": "markdown",
   "metadata": {},
   "source": [
    "### Removing outliers."
   ]
  },
  {
   "cell_type": "markdown",
   "metadata": {},
   "source": [
    "Removing rows where all three parameters are 0. As I think there may be the customer who are very new and they have not even started to use the plan. So they wont be usefull to us to analyze the customer behaviours."
   ]
  },
  {
   "cell_type": "code",
   "execution_count": 29,
   "metadata": {},
   "outputs": [
    {
     "name": "stdout",
     "output_type": "stream",
     "text": [
      "Data count before removing:  2269\n",
      "Data count after removing 0 calls_duration, messages and gb_used.  2256\n"
     ]
    }
   ],
   "source": [
    "#pd.set_option('display.max_rows', None)\n",
    "print('Data count before removing: ',len(df_merged_plan))\n",
    "#display(len(df_merged_plan[df_merged_plan['Call_duration']==0]))\n",
    "df_merged_plan_fil=df_merged_plan.loc[~((df_merged_plan['Call_duration']==0) & (df_merged_plan['message_count']==0) \n",
    "                           &(df_merged_plan['gb_used']==0))]\n",
    "print('Data count after removing 0 calls_duration, messages and gb_used. ',len(df_merged_plan_fil))\n"
   ]
  },
  {
   "cell_type": "code",
   "execution_count": 30,
   "metadata": {},
   "outputs": [
    {
     "data": {
      "text/html": [
       "<div>\n",
       "<style scoped>\n",
       "    .dataframe tbody tr th:only-of-type {\n",
       "        vertical-align: middle;\n",
       "    }\n",
       "\n",
       "    .dataframe tbody tr th {\n",
       "        vertical-align: top;\n",
       "    }\n",
       "\n",
       "    .dataframe thead th {\n",
       "        text-align: right;\n",
       "    }\n",
       "</style>\n",
       "<table border=\"1\" class=\"dataframe\">\n",
       "  <thead>\n",
       "    <tr style=\"text-align: right;\">\n",
       "      <th></th>\n",
       "      <th>user_id</th>\n",
       "      <th>month</th>\n",
       "      <th>Call_duration</th>\n",
       "      <th>Call_count</th>\n",
       "      <th>mb_used</th>\n",
       "      <th>gb_used</th>\n",
       "      <th>message_count</th>\n",
       "      <th>plan</th>\n",
       "      <th>total_monthly_revenue</th>\n",
       "    </tr>\n",
       "  </thead>\n",
       "  <tbody>\n",
       "    <tr>\n",
       "      <th>0</th>\n",
       "      <td>1000</td>\n",
       "      <td>12</td>\n",
       "      <td>124.0</td>\n",
       "      <td>16</td>\n",
       "      <td>1901.47</td>\n",
       "      <td>2</td>\n",
       "      <td>11</td>\n",
       "      <td>ultimate</td>\n",
       "      <td>70.00</td>\n",
       "    </tr>\n",
       "    <tr>\n",
       "      <th>1</th>\n",
       "      <td>1001</td>\n",
       "      <td>8</td>\n",
       "      <td>182.0</td>\n",
       "      <td>22</td>\n",
       "      <td>6919.15</td>\n",
       "      <td>7</td>\n",
       "      <td>30</td>\n",
       "      <td>surf</td>\n",
       "      <td>20.00</td>\n",
       "    </tr>\n",
       "    <tr>\n",
       "      <th>2</th>\n",
       "      <td>1001</td>\n",
       "      <td>9</td>\n",
       "      <td>315.0</td>\n",
       "      <td>38</td>\n",
       "      <td>13314.82</td>\n",
       "      <td>14</td>\n",
       "      <td>44</td>\n",
       "      <td>surf</td>\n",
       "      <td>20.00</td>\n",
       "    </tr>\n",
       "    <tr>\n",
       "      <th>3</th>\n",
       "      <td>1001</td>\n",
       "      <td>10</td>\n",
       "      <td>393.0</td>\n",
       "      <td>47</td>\n",
       "      <td>22330.49</td>\n",
       "      <td>22</td>\n",
       "      <td>53</td>\n",
       "      <td>surf</td>\n",
       "      <td>90.09</td>\n",
       "    </tr>\n",
       "    <tr>\n",
       "      <th>4</th>\n",
       "      <td>1001</td>\n",
       "      <td>11</td>\n",
       "      <td>426.0</td>\n",
       "      <td>49</td>\n",
       "      <td>18504.30</td>\n",
       "      <td>19</td>\n",
       "      <td>36</td>\n",
       "      <td>surf</td>\n",
       "      <td>60.00</td>\n",
       "    </tr>\n",
       "    <tr>\n",
       "      <th>...</th>\n",
       "      <td>...</td>\n",
       "      <td>...</td>\n",
       "      <td>...</td>\n",
       "      <td>...</td>\n",
       "      <td>...</td>\n",
       "      <td>...</td>\n",
       "      <td>...</td>\n",
       "      <td>...</td>\n",
       "      <td>...</td>\n",
       "    </tr>\n",
       "    <tr>\n",
       "      <th>2251</th>\n",
       "      <td>1498</td>\n",
       "      <td>12</td>\n",
       "      <td>339.0</td>\n",
       "      <td>32</td>\n",
       "      <td>23137.69</td>\n",
       "      <td>23</td>\n",
       "      <td>0</td>\n",
       "      <td>surf</td>\n",
       "      <td>100.00</td>\n",
       "    </tr>\n",
       "    <tr>\n",
       "      <th>2252</th>\n",
       "      <td>1499</td>\n",
       "      <td>9</td>\n",
       "      <td>346.0</td>\n",
       "      <td>35</td>\n",
       "      <td>12984.76</td>\n",
       "      <td>13</td>\n",
       "      <td>0</td>\n",
       "      <td>surf</td>\n",
       "      <td>20.00</td>\n",
       "    </tr>\n",
       "    <tr>\n",
       "      <th>2253</th>\n",
       "      <td>1499</td>\n",
       "      <td>10</td>\n",
       "      <td>385.0</td>\n",
       "      <td>41</td>\n",
       "      <td>19492.43</td>\n",
       "      <td>20</td>\n",
       "      <td>0</td>\n",
       "      <td>surf</td>\n",
       "      <td>70.00</td>\n",
       "    </tr>\n",
       "    <tr>\n",
       "      <th>2254</th>\n",
       "      <td>1499</td>\n",
       "      <td>11</td>\n",
       "      <td>308.0</td>\n",
       "      <td>39</td>\n",
       "      <td>16813.83</td>\n",
       "      <td>17</td>\n",
       "      <td>0</td>\n",
       "      <td>surf</td>\n",
       "      <td>40.00</td>\n",
       "    </tr>\n",
       "    <tr>\n",
       "      <th>2255</th>\n",
       "      <td>1499</td>\n",
       "      <td>12</td>\n",
       "      <td>496.0</td>\n",
       "      <td>56</td>\n",
       "      <td>22059.21</td>\n",
       "      <td>22</td>\n",
       "      <td>0</td>\n",
       "      <td>surf</td>\n",
       "      <td>90.00</td>\n",
       "    </tr>\n",
       "  </tbody>\n",
       "</table>\n",
       "<p>2256 rows × 9 columns</p>\n",
       "</div>"
      ],
      "text/plain": [
       "      user_id  month  Call_duration  Call_count   mb_used  gb_used  \\\n",
       "0        1000     12          124.0          16   1901.47        2   \n",
       "1        1001      8          182.0          22   6919.15        7   \n",
       "2        1001      9          315.0          38  13314.82       14   \n",
       "3        1001     10          393.0          47  22330.49       22   \n",
       "4        1001     11          426.0          49  18504.30       19   \n",
       "...       ...    ...            ...         ...       ...      ...   \n",
       "2251     1498     12          339.0          32  23137.69       23   \n",
       "2252     1499      9          346.0          35  12984.76       13   \n",
       "2253     1499     10          385.0          41  19492.43       20   \n",
       "2254     1499     11          308.0          39  16813.83       17   \n",
       "2255     1499     12          496.0          56  22059.21       22   \n",
       "\n",
       "      message_count      plan  total_monthly_revenue  \n",
       "0                11  ultimate                  70.00  \n",
       "1                30      surf                  20.00  \n",
       "2                44      surf                  20.00  \n",
       "3                53      surf                  90.09  \n",
       "4                36      surf                  60.00  \n",
       "...             ...       ...                    ...  \n",
       "2251              0      surf                 100.00  \n",
       "2252              0      surf                  20.00  \n",
       "2253              0      surf                  70.00  \n",
       "2254              0      surf                  40.00  \n",
       "2255              0      surf                  90.00  \n",
       "\n",
       "[2256 rows x 9 columns]"
      ]
     },
     "execution_count": 30,
     "metadata": {},
     "output_type": "execute_result"
    }
   ],
   "source": [
    "df_merged_plan_fil"
   ]
  },
  {
   "cell_type": "code",
   "execution_count": 31,
   "metadata": {
    "scrolled": true
   },
   "outputs": [
    {
     "data": {
      "image/png": "[encoded data removed]",
      "text/plain": [
       "<Figure size 432x288 with 1 Axes>"
      ]
     },
     "metadata": {
      "needs_background": "light"
     },
     "output_type": "display_data"
    },
    {
     "data": {
      "image/png": "[encoded data removed]",
      "text/plain": [
       "<Figure size 432x288 with 1 Axes>"
      ]
     },
     "metadata": {
      "needs_background": "light"
     },
     "output_type": "display_data"
    },
    {
     "data": {
      "image/png": "[encoded data removed]",
      "text/plain": [
       "<Figure size 432x288 with 1 Axes>"
      ]
     },
     "metadata": {
      "needs_background": "light"
     },
     "output_type": "display_data"
    }
   ],
   "source": [
    "#Viewing outliers.\n",
    "import seaborn as sns\n",
    "\n",
    "ax=sns.boxplot(x='plan',y=df_merged_plan_fil['Call_duration'],data=df_merged_plan_fil)\n",
    "plt.show()\n",
    "ax=sns.boxplot(x='plan',y=df_merged_plan_fil['message_count'],data=df_merged_plan_fil )\n",
    "plt.show()\n",
    "ax=sns.boxplot(x='plan',y=df_merged_plan_fil['gb_used'] ,data=df_merged_plan_fil)\n",
    "plt.show()"
   ]
  },
  {
   "cell_type": "markdown",
   "metadata": {},
   "source": [
    "### Conclusion: Looking for outliers:\n",
    "1. Call_Duration: For both the plans there are some users who are calling more than 1000 min.(upper limit is 1000 min.). So the outlier range for surf plan is 1000 to 1500 min. and for ultimate plan is 1000 to 1400 min. \n",
    "\n",
    "2. Message: Few outliers are there in ultimate as compare to surf users. 25% of all surf users sent more than 125 messages. and one of them send 275 message. So surf users has outlier range between 125 till 275 messages while for ultimate users outliers range is between 140 till 170. Also there are users who send 0 messages for surf plan.\n",
    "\n",
    "3. Gb_used: For surf plan there are outliers range starts from approx.32 to 70 gb and for ultimate approx.31 to 46 gb.\n",
    "\n",
    "In General, I can say that there are many outliers available in the data so we need to remove them before analyzing. "
   ]
  },
  {
   "cell_type": "markdown",
   "metadata": {},
   "source": [
    "As we can see above there are outliers available in each parameters. So using Z-Score we try to remove those outliers."
   ]
  },
  {
   "cell_type": "code",
   "execution_count": 32,
   "metadata": {},
   "outputs": [
    {
     "name": "stdout",
     "output_type": "stream",
     "text": [
      "(array([  98,   99,  133,  211,  211,  244,  244,  349,  350,  351,  352,\n",
      "        561,  615,  616,  617,  618,  619,  620,  621,  622,  922, 1023,\n",
      "       1114, 1115, 1116, 1117, 1117, 1119, 1256, 1273, 1341, 1343, 1345,\n",
      "       1384, 1468, 1469, 1471, 1472, 1487, 1489, 1490, 1491, 1492, 1493,\n",
      "       1494, 1496, 1497, 1498, 1499, 1566, 1677, 1679, 1732, 1738, 1739,\n",
      "       1740, 1743, 1744, 1747, 1908, 1910, 1936, 1938, 1997, 2131, 2132,\n",
      "       2134, 2135, 2136, 2209], dtype=int64), array([2, 2, 2, 0, 1, 0, 1, 1, 1, 1, 1, 2, 1, 1, 1, 1, 1, 1, 1, 1, 2, 0,\n",
      "       0, 2, 0, 0, 2, 2, 0, 2, 2, 2, 2, 1, 1, 1, 0, 1, 1, 1, 1, 1, 1, 1,\n",
      "       1, 0, 0, 0, 0, 1, 0, 0, 2, 1, 1, 1, 0, 0, 0, 0, 0, 2, 1, 1, 1, 1,\n",
      "       1, 1, 1, 2], dtype=int64))\n"
     ]
    }
   ],
   "source": [
    "#Calculate zscore for the parameters.\n",
    "from scipy import stats\n",
    "import numpy as np\n",
    "z = np.abs(stats.zscore(df_merged_plan_fil[['Call_duration','message_count','gb_used']]))\n",
    "#print(z)\n",
    "threshold = 3\n",
    "print(np.where(z > 3))"
   ]
  },
  {
   "cell_type": "markdown",
   "metadata": {},
   "source": [
    "Below code will removing outliers."
   ]
  },
  {
   "cell_type": "code",
   "execution_count": 33,
   "metadata": {},
   "outputs": [
    {
     "name": "stdout",
     "output_type": "stream",
     "text": [
      "(2256, 9)\n",
      "(2189, 9)\n"
     ]
    }
   ],
   "source": [
    "df_merged_plan_fil_o = df_merged_plan_fil[(z < 3).all(axis=1)]\n",
    "print(df_merged_plan_fil.shape)\n",
    "print(df_merged_plan_fil_o.shape)\n"
   ]
  },
  {
   "cell_type": "code",
   "execution_count": 34,
   "metadata": {
    "scrolled": false
   },
   "outputs": [
    {
     "data": {
      "image/png": "[encoded data removed]",
      "text/plain": [
       "<Figure size 432x288 with 1 Axes>"
      ]
     },
     "metadata": {
      "needs_background": "light"
     },
     "output_type": "display_data"
    },
    {
     "data": {
      "image/png": "[encoded data removed]",
      "text/plain": [
       "<Figure size 432x288 with 1 Axes>"
      ]
     },
     "metadata": {
      "needs_background": "light"
     },
     "output_type": "display_data"
    },
    {
     "data": {
      "image/png": "[encoded data removed]",
      "text/plain": [
       "<Figure size 432x288 with 1 Axes>"
      ]
     },
     "metadata": {
      "needs_background": "light"
     },
     "output_type": "display_data"
    }
   ],
   "source": [
    "#Viewing outliers after deleting outliers.\n",
    "import seaborn as sns\n",
    "ax=sns.boxplot(x='plan',y=df_merged_plan_fil_o['Call_duration'],data=df_merged_plan_fil)\n",
    "plt.show()\n",
    "ax=sns.boxplot(x='plan',y=df_merged_plan_fil_o['message_count'] ,data=df_merged_plan_fil)\n",
    "plt.show()\n",
    "ax=sns.boxplot(x='plan',y=df_merged_plan_fil_o['gb_used'] ,data=df_merged_plan_fil)\n",
    "plt.show()"
   ]
  },
  {
   "cell_type": "markdown",
   "metadata": {},
   "source": [
    "### Histogram for the parameters (Call_duration, messages, gb_used) after removing outliers. "
   ]
  },
  {
   "cell_type": "code",
   "execution_count": 35,
   "metadata": {},
   "outputs": [
    {
     "data": {
      "image/png": "[encoded data removed]",
      "text/plain": [
       "<Figure size 432x288 with 1 Axes>"
      ]
     },
     "metadata": {
      "needs_background": "light"
     },
     "output_type": "display_data"
    },
    {
     "data": {
      "image/png": "[encoded data removed]",
      "text/plain": [
       "<Figure size 432x288 with 1 Axes>"
      ]
     },
     "metadata": {
      "needs_background": "light"
     },
     "output_type": "display_data"
    },
    {
     "data": {
      "image/png": "[encoded data removed]",
      "text/plain": [
       "<Figure size 432x288 with 1 Axes>"
      ]
     },
     "metadata": {
      "needs_background": "light"
     },
     "output_type": "display_data"
    }
   ],
   "source": [
    "hist_list=['Call_duration', 'message_count', 'gb_used']\n",
    "for param in hist_list:\n",
    "    df_ultimate=df_merged_plan_fil_o.loc[df_merged_plan_fil_o.plan=='ultimate', param]\n",
    "    df_surf=df_merged_plan_fil_o.loc[df_merged_plan_fil_o.plan=='surf', param]\n",
    "    ##if(param =='Call_duration'):\n",
    "     #   kwargs=dict(alpha=0.6,bins=100,density=True,stacked=True)\n",
    "     #   ylabel='Frequency Density'\n",
    "    #else:\n",
    "    kwargs=dict(alpha=0.5,bins=100)\n",
    "    ylabel='No. of Users'\n",
    "    plt.hist(df_ultimate,**kwargs,color='y', label='Ultimate')\n",
    "    plt.hist(df_surf,**kwargs,color='b', label='Surf')\n",
    "    plt.gca().set(title='Ultimate vs. Surf: Displaying '+param+' by Users')\n",
    "    plt.xlabel(param) \n",
    "    plt.ylabel(ylabel) \n",
    "    plt.legend()\n",
    "    plt.show()\n",
    "    "
   ]
  },
  {
   "cell_type": "markdown",
   "metadata": {},
   "source": [
    "#### Conclusion: Comparison of Surf and Ultimate users after removal of outliers:\n",
    "\n",
    "**Call_duration:**\n",
    "- After removal of outliers, Max. range has been shorten. Its. has been set as approx. 1200. min.\n",
    "- rest the analyses remains same as we found before the removal of outliers.\n",
    "<br><br>\n",
    "**Messages:**\n",
    "- Data is not distributed normally. it is skewed to the right.\n",
    "- Max range has been set to 120+. So now we can also say most of the users sent 40 to 50 messages in a month.\n",
    "<br><br>\n",
    "**Gb_used**\n",
    "- This is somewhat normally distributed graph.\n",
    "- Most of the users use between 14 to 21 gb.\n",
    "- Max. range is now set to 40gb.\n",
    " "
   ]
  },
  {
   "cell_type": "code",
   "execution_count": 36,
   "metadata": {
    "scrolled": false
   },
   "outputs": [
    {
     "name": "stdout",
     "output_type": "stream",
     "text": [
      "<class 'pandas.core.frame.DataFrame'>\n",
      "Int64Index: 2189 entries, 0 to 2255\n",
      "Data columns (total 9 columns):\n",
      " #   Column                 Non-Null Count  Dtype  \n",
      "---  ------                 --------------  -----  \n",
      " 0   user_id                2189 non-null   int64  \n",
      " 1   month                  2189 non-null   int8   \n",
      " 2   Call_duration          2189 non-null   float64\n",
      " 3   Call_count             2189 non-null   int64  \n",
      " 4   mb_used                2189 non-null   float64\n",
      " 5   gb_used                2189 non-null   int32  \n",
      " 6   message_count          2189 non-null   int32  \n",
      " 7   plan                   2189 non-null   object \n",
      " 8   total_monthly_revenue  2189 non-null   float64\n",
      "dtypes: float64(3), int32(2), int64(2), int8(1), object(1)\n",
      "memory usage: 219.0+ KB\n",
      "###########################################################################################################\n",
      "\n",
      "Surf Users Detail\n"
     ]
    },
    {
     "data": {
      "text/html": [
       "<div>\n",
       "<style scoped>\n",
       "    .dataframe tbody tr th:only-of-type {\n",
       "        vertical-align: middle;\n",
       "    }\n",
       "\n",
       "    .dataframe tbody tr th {\n",
       "        vertical-align: top;\n",
       "    }\n",
       "\n",
       "    .dataframe thead th {\n",
       "        text-align: right;\n",
       "    }\n",
       "</style>\n",
       "<table border=\"1\" class=\"dataframe\">\n",
       "  <thead>\n",
       "    <tr style=\"text-align: right;\">\n",
       "      <th></th>\n",
       "      <th>user_id</th>\n",
       "      <th>month</th>\n",
       "      <th>Call_duration</th>\n",
       "      <th>Call_count</th>\n",
       "      <th>mb_used</th>\n",
       "      <th>gb_used</th>\n",
       "      <th>message_count</th>\n",
       "      <th>total_monthly_revenue</th>\n",
       "    </tr>\n",
       "  </thead>\n",
       "  <tbody>\n",
       "    <tr>\n",
       "      <th>count</th>\n",
       "      <td>1505.000000</td>\n",
       "      <td>1505.000000</td>\n",
       "      <td>1505.000000</td>\n",
       "      <td>1505.000000</td>\n",
       "      <td>1505.000000</td>\n",
       "      <td>1505.000000</td>\n",
       "      <td>1505.000000</td>\n",
       "      <td>1505.000000</td>\n",
       "    </tr>\n",
       "    <tr>\n",
       "      <th>mean</th>\n",
       "      <td>1240.449169</td>\n",
       "      <td>9.118272</td>\n",
       "      <td>416.742857</td>\n",
       "      <td>46.958804</td>\n",
       "      <td>16132.393874</td>\n",
       "      <td>16.257807</td>\n",
       "      <td>28.596013</td>\n",
       "      <td>56.831920</td>\n",
       "    </tr>\n",
       "    <tr>\n",
       "      <th>std</th>\n",
       "      <td>138.873111</td>\n",
       "      <td>2.479832</td>\n",
       "      <td>223.306850</td>\n",
       "      <td>24.771985</td>\n",
       "      <td>7392.084981</td>\n",
       "      <td>7.241556</td>\n",
       "      <td>28.955078</td>\n",
       "      <td>47.073006</td>\n",
       "    </tr>\n",
       "    <tr>\n",
       "      <th>min</th>\n",
       "      <td>1001.000000</td>\n",
       "      <td>1.000000</td>\n",
       "      <td>0.000000</td>\n",
       "      <td>0.000000</td>\n",
       "      <td>0.000000</td>\n",
       "      <td>0.000000</td>\n",
       "      <td>0.000000</td>\n",
       "      <td>20.000000</td>\n",
       "    </tr>\n",
       "    <tr>\n",
       "      <th>25%</th>\n",
       "      <td>1120.000000</td>\n",
       "      <td>8.000000</td>\n",
       "      <td>259.000000</td>\n",
       "      <td>30.000000</td>\n",
       "      <td>11830.350000</td>\n",
       "      <td>12.000000</td>\n",
       "      <td>2.000000</td>\n",
       "      <td>20.000000</td>\n",
       "    </tr>\n",
       "    <tr>\n",
       "      <th>50%</th>\n",
       "      <td>1241.000000</td>\n",
       "      <td>10.000000</td>\n",
       "      <td>415.000000</td>\n",
       "      <td>47.000000</td>\n",
       "      <td>16651.620000</td>\n",
       "      <td>17.000000</td>\n",
       "      <td>23.000000</td>\n",
       "      <td>40.000000</td>\n",
       "    </tr>\n",
       "    <tr>\n",
       "      <th>75%</th>\n",
       "      <td>1357.000000</td>\n",
       "      <td>11.000000</td>\n",
       "      <td>564.000000</td>\n",
       "      <td>63.000000</td>\n",
       "      <td>20653.770000</td>\n",
       "      <td>21.000000</td>\n",
       "      <td>44.000000</td>\n",
       "      <td>80.000000</td>\n",
       "    </tr>\n",
       "    <tr>\n",
       "      <th>max</th>\n",
       "      <td>1499.000000</td>\n",
       "      <td>12.000000</td>\n",
       "      <td>1131.000000</td>\n",
       "      <td>125.000000</td>\n",
       "      <td>40217.220000</td>\n",
       "      <td>40.000000</td>\n",
       "      <td>134.000000</td>\n",
       "      <td>273.510000</td>\n",
       "    </tr>\n",
       "  </tbody>\n",
       "</table>\n",
       "</div>"
      ],
      "text/plain": [
       "           user_id        month  Call_duration   Call_count       mb_used  \\\n",
       "count  1505.000000  1505.000000    1505.000000  1505.000000   1505.000000   \n",
       "mean   1240.449169     9.118272     416.742857    46.958804  16132.393874   \n",
       "std     138.873111     2.479832     223.306850    24.771985   7392.084981   \n",
       "min    1001.000000     1.000000       0.000000     0.000000      0.000000   \n",
       "25%    1120.000000     8.000000     259.000000    30.000000  11830.350000   \n",
       "50%    1241.000000    10.000000     415.000000    47.000000  16651.620000   \n",
       "75%    1357.000000    11.000000     564.000000    63.000000  20653.770000   \n",
       "max    1499.000000    12.000000    1131.000000   125.000000  40217.220000   \n",
       "\n",
       "           gb_used  message_count  total_monthly_revenue  \n",
       "count  1505.000000    1505.000000            1505.000000  \n",
       "mean     16.257807      28.596013              56.831920  \n",
       "std       7.241556      28.955078              47.073006  \n",
       "min       0.000000       0.000000              20.000000  \n",
       "25%      12.000000       2.000000              20.000000  \n",
       "50%      17.000000      23.000000              40.000000  \n",
       "75%      21.000000      44.000000              80.000000  \n",
       "max      40.000000     134.000000             273.510000  "
      ]
     },
     "metadata": {},
     "output_type": "display_data"
    },
    {
     "name": "stdout",
     "output_type": "stream",
     "text": [
      "###########################################################################################################\n",
      "Ultimate Users Detail\n"
     ]
    },
    {
     "data": {
      "text/html": [
       "<div>\n",
       "<style scoped>\n",
       "    .dataframe tbody tr th:only-of-type {\n",
       "        vertical-align: middle;\n",
       "    }\n",
       "\n",
       "    .dataframe tbody tr th {\n",
       "        vertical-align: top;\n",
       "    }\n",
       "\n",
       "    .dataframe thead th {\n",
       "        text-align: right;\n",
       "    }\n",
       "</style>\n",
       "<table border=\"1\" class=\"dataframe\">\n",
       "  <thead>\n",
       "    <tr style=\"text-align: right;\">\n",
       "      <th></th>\n",
       "      <th>user_id</th>\n",
       "      <th>month</th>\n",
       "      <th>Call_duration</th>\n",
       "      <th>Call_count</th>\n",
       "      <th>mb_used</th>\n",
       "      <th>gb_used</th>\n",
       "      <th>message_count</th>\n",
       "      <th>total_monthly_revenue</th>\n",
       "    </tr>\n",
       "  </thead>\n",
       "  <tbody>\n",
       "    <tr>\n",
       "      <th>count</th>\n",
       "      <td>684.000000</td>\n",
       "      <td>684.000000</td>\n",
       "      <td>684.000000</td>\n",
       "      <td>684.000000</td>\n",
       "      <td>684.000000</td>\n",
       "      <td>684.000000</td>\n",
       "      <td>684.000000</td>\n",
       "      <td>684.000000</td>\n",
       "    </tr>\n",
       "    <tr>\n",
       "      <th>mean</th>\n",
       "      <td>1253.059942</td>\n",
       "      <td>9.099415</td>\n",
       "      <td>415.878655</td>\n",
       "      <td>47.035088</td>\n",
       "      <td>16839.725102</td>\n",
       "      <td>16.944444</td>\n",
       "      <td>35.204678</td>\n",
       "      <td>71.821637</td>\n",
       "    </tr>\n",
       "    <tr>\n",
       "      <th>std</th>\n",
       "      <td>151.159688</td>\n",
       "      <td>2.576854</td>\n",
       "      <td>222.087313</td>\n",
       "      <td>24.749970</td>\n",
       "      <td>7640.291374</td>\n",
       "      <td>7.468027</td>\n",
       "      <td>31.681831</td>\n",
       "      <td>8.809206</td>\n",
       "    </tr>\n",
       "    <tr>\n",
       "      <th>min</th>\n",
       "      <td>1000.000000</td>\n",
       "      <td>1.000000</td>\n",
       "      <td>0.000000</td>\n",
       "      <td>0.000000</td>\n",
       "      <td>0.000000</td>\n",
       "      <td>0.000000</td>\n",
       "      <td>0.000000</td>\n",
       "      <td>70.000000</td>\n",
       "    </tr>\n",
       "    <tr>\n",
       "      <th>25%</th>\n",
       "      <td>1126.000000</td>\n",
       "      <td>7.000000</td>\n",
       "      <td>251.000000</td>\n",
       "      <td>29.000000</td>\n",
       "      <td>12525.610000</td>\n",
       "      <td>13.000000</td>\n",
       "      <td>5.750000</td>\n",
       "      <td>70.000000</td>\n",
       "    </tr>\n",
       "    <tr>\n",
       "      <th>50%</th>\n",
       "      <td>1237.000000</td>\n",
       "      <td>10.000000</td>\n",
       "      <td>420.000000</td>\n",
       "      <td>47.500000</td>\n",
       "      <td>16569.125000</td>\n",
       "      <td>17.000000</td>\n",
       "      <td>29.000000</td>\n",
       "      <td>70.000000</td>\n",
       "    </tr>\n",
       "    <tr>\n",
       "      <th>75%</th>\n",
       "      <td>1401.000000</td>\n",
       "      <td>11.000000</td>\n",
       "      <td>548.500000</td>\n",
       "      <td>63.000000</td>\n",
       "      <td>20710.742500</td>\n",
       "      <td>21.000000</td>\n",
       "      <td>59.000000</td>\n",
       "      <td>70.000000</td>\n",
       "    </tr>\n",
       "    <tr>\n",
       "      <th>max</th>\n",
       "      <td>1497.000000</td>\n",
       "      <td>12.000000</td>\n",
       "      <td>1117.000000</td>\n",
       "      <td>132.000000</td>\n",
       "      <td>40388.210000</td>\n",
       "      <td>40.000000</td>\n",
       "      <td>131.000000</td>\n",
       "      <td>140.000000</td>\n",
       "    </tr>\n",
       "  </tbody>\n",
       "</table>\n",
       "</div>"
      ],
      "text/plain": [
       "           user_id       month  Call_duration  Call_count       mb_used  \\\n",
       "count   684.000000  684.000000     684.000000  684.000000    684.000000   \n",
       "mean   1253.059942    9.099415     415.878655   47.035088  16839.725102   \n",
       "std     151.159688    2.576854     222.087313   24.749970   7640.291374   \n",
       "min    1000.000000    1.000000       0.000000    0.000000      0.000000   \n",
       "25%    1126.000000    7.000000     251.000000   29.000000  12525.610000   \n",
       "50%    1237.000000   10.000000     420.000000   47.500000  16569.125000   \n",
       "75%    1401.000000   11.000000     548.500000   63.000000  20710.742500   \n",
       "max    1497.000000   12.000000    1117.000000  132.000000  40388.210000   \n",
       "\n",
       "          gb_used  message_count  total_monthly_revenue  \n",
       "count  684.000000     684.000000             684.000000  \n",
       "mean    16.944444      35.204678              71.821637  \n",
       "std      7.468027      31.681831               8.809206  \n",
       "min      0.000000       0.000000              70.000000  \n",
       "25%     13.000000       5.750000              70.000000  \n",
       "50%     17.000000      29.000000              70.000000  \n",
       "75%     21.000000      59.000000              70.000000  \n",
       "max     40.000000     131.000000             140.000000  "
      ]
     },
     "metadata": {},
     "output_type": "display_data"
    }
   ],
   "source": [
    "#hist_list=['Call_duration', 'message_count', 'gb_used']\n",
    "#for param in hist_list:\n",
    " #   Q1=df_merged_plan_fil[param].quantile(0.25)\n",
    "  #  Q3=df_merged_plan_fil[param].quantile(0.75)\n",
    "   # IQR=Q3-Q1\n",
    "    #quer=param+ '>=(@Q1-1.5*@IQR) & '+param+'<=(@Q3+1.5*@IQR)'\n",
    "    #print ()\n",
    "    #data_raw_fil=df_merged_plan_fil.query(quer)\n",
    "    #print('Data count after removing outliers for '+ param+':' ,len(data_raw_fil))\n",
    "    \n",
    "df_merged_plan_fil_o.info()\n",
    "print('###########################################################################################################')\n",
    "print()\n",
    "print('Surf Users Detail')\n",
    "display(df_merged_plan_fil_o.loc[df_merged_plan_fil_o.plan=='surf'].describe())\n",
    "print('###########################################################################################################')\n",
    "print('Ultimate Users Detail')\n",
    "display(df_merged_plan_fil_o.loc[df_merged_plan_fil_o.plan=='ultimate'].describe())"
   ]
  },
  {
   "cell_type": "markdown",
   "metadata": {},
   "source": [
    "### Conclusion:\n",
    "**The Mean of Surf and Ultimate users are (approx):**.\n",
    "- Call_Duration: The Mean values of both plan are 416 and 415 which is approx same. So we can say on an average users of both plan are using 415 min. per month. Also if we compare the mean with median we found median is more than mean for ultimate and almost equal to surf users. That's mean  there are more users of ultimate plan who spending less minutes. \n",
    "- Messages: The Mean values of both the plan are 28 and 35. thats conclude that the users of surf plan send less messages on avg. as compare to ultimate plan. Also median values are 23 and 29. For both the plan Median are less than mean that's mean more data available for those users who send more messages.\n",
    "- Gb_used: Mean of both plan are almost same. So plan type does not effect the internet usage.<br><br>\n",
    "**The Standard Deviation of Surf and Ultimate users are (approx):**.\n",
    "- Call_Duration: Approx 223 and 222. Std. Dev are almost equal for both plan. This also revels that there is high deviation in calls duration w.r.t to mean values of both users.\n",
    "- Messages: 28 and 31. The std. dev. is high. It revels that how much each data differs from the mean of messages.\n",
    "- Gb_used: Approx. 7 for both plan. The deviation is equal for both users. Now each data is deviated by 7 gb w.r.t mean for each type users.\n",
    "\n"
   ]
  },
  {
   "cell_type": "markdown",
   "metadata": {},
   "source": [
    "### Conclusion"
   ]
  },
  {
   "cell_type": "markdown",
   "metadata": {},
   "source": [
    "1. <b>Comparison of Call_duration between Ultimate and Surf Users:</b> Now after removing outliers, Graph looks somewhat normally distributed except the records which are there for 0 call_duration. Also we can see thet Surf users are dominating in comaprison to ultimate users for call_duration.  \n",
    "2. <b>Comparison of message_count between Ultimate and Surf Users:</b> This graph shows that data is skewed to the right. And also Surf users again dominate the Ultimate Users.\n",
    "3. <b>Comparison of gb_used between Ultimate and Surf Users:</b> Data is normally distributed. And as in all above case Surf Users are using the internet more than Ultimate Users.\n"
   ]
  },
  {
   "cell_type": "markdown",
   "metadata": {},
   "source": [
    "## Step 4. Test the hypotheses"
   ]
  },
  {
   "cell_type": "markdown",
   "metadata": {},
   "source": [
    "### The average revenue from users of Ultimate and Surf calling plans differs."
   ]
  },
  {
   "cell_type": "code",
   "execution_count": 37,
   "metadata": {},
   "outputs": [
    {
     "name": "stdout",
     "output_type": "stream",
     "text": [
      "Variance of Surf Users  2215.867905685143\n",
      "Variance of Ultimate Users  77.6021080030502\n",
      "p-value:  1.8746664246466472e-31\n",
      "We reject the null hypothesis\n",
      "Avg. revenue from Surf Users: 56.83192026578063\n",
      "Avg. revenue from Ultimate Users: 71.82163742690058\n"
     ]
    }
   ],
   "source": [
    "#Test the hypotheses.\n",
    "from scipy import stats as st\n",
    "import numpy as np\n",
    "\n",
    "surf_user_monthly_revenue=df_merged_plan_fil_o.loc[df_merged_plan_fil_o.plan=='surf']['total_monthly_revenue']\n",
    "ultimate_user_monthly_revenue=df_merged_plan_fil_o.loc[df_merged_plan_fil_o.plan=='ultimate']['total_monthly_revenue']\n",
    "print('Variance of Surf Users ', surf_user_monthly_revenue.var())\n",
    "print('Variance of Ultimate Users ',ultimate_user_monthly_revenue.var())\n",
    "\n",
    "#print(surf_user_monthly_revenue.head())\n",
    "#print(ultimate_user_monthly_revenue.head())\n",
    "\n",
    "alpha = .05 # critical statistical significance level\n",
    "results = st.ttest_ind(\n",
    "        surf_user_monthly_revenue, \n",
    "        ultimate_user_monthly_revenue,equal_var=False)#We pas equal_var as False as the variance of both sample are not equal.\n",
    "print('p-value: ', results.pvalue)\n",
    "\n",
    "if (results.pvalue < alpha):\n",
    "        print(\"We reject the null hypothesis\")\n",
    "else:\n",
    "        print(\"We can't reject the null hypothesis\") \n",
    "\n",
    "print('Avg. revenue from Surf Users: {0}'.format(surf_user_monthly_revenue.mean()))   \n",
    "print('Avg. revenue from Ultimate Users: {0}'.format(ultimate_user_monthly_revenue.mean()))\n"
   ]
  },
  {
   "cell_type": "markdown",
   "metadata": {},
   "source": [
    "### Conclusion\n",
    "As we have two statistical populations here which are based on same samples so we apply the method scipy.stats.ttest_ind(array1, array2, equal_var).<br/>\n",
    "In this scenario, We have the following hypothesis:<br/>\n",
    "**Null Hypothesis H0:** The average revenue from users of Ultimate and Surf calling plans does not differs.\n",
    "<br/>\n",
    "**Alternative Hypothesis H1:** The average revenue from users of Ultimate and Surf calling plans differs.\n",
    "<br/>\n",
    "After examine the p-value, We can say that we have to reject the null hypothesis, which implies average revenue from users of Ultimate and Surf calling plans differs."
   ]
  },
  {
   "cell_type": "markdown",
   "metadata": {},
   "source": [
    "### The average revenue from users in NY-NJ area is different from that of the users from other regions."
   ]
  },
  {
   "cell_type": "code",
   "execution_count": 38,
   "metadata": {},
   "outputs": [
    {
     "name": "stdout",
     "output_type": "stream",
     "text": [
      "Variance of Surf Users  2016.0609272791858\n",
      "Variance of Ultimate Users  1470.9665908066115\n",
      "p-value:  0.7805819585361078\n",
      "We can't reject the null hypothesis\n",
      "Avg. revenue from users in NY-NJ area: 61.0422619047619\n",
      "Avg. revenue from users not in NY-NJ area: 61.65741246290798\n"
     ]
    }
   ],
   "source": [
    "#Test the hypotheses.\n",
    "from scipy import stats as st\n",
    "import numpy as np\n",
    "df_users['city']=df_users['city'].str.lower()\n",
    "df_users['city'].value_counts()\n",
    "df_ny_nj_users=df_users[df_users['city'].str.contains('|'.join(['ny-nj','ny','nj']))]\n",
    "df_ny_nj_users_merg= df_merged_plan_fil_o.loc[(df_merged_plan_fil_o.user_id.isin(df_ny_nj_users['user_id']))]\n",
    "df_except_nynj_users_merg=df_merged_plan_fil_o.loc[~(df_merged_plan_fil_o.user_id.isin(df_ny_nj_users['user_id']))]\n",
    "\n",
    "print('Variance of Surf Users ', df_ny_nj_users_merg['total_monthly_revenue'].var())\n",
    "print('Variance of Ultimate Users ',df_except_nynj_users_merg['total_monthly_revenue'].var())\n",
    "alpha = .05 # critical statistical significance level\n",
    "results = st.ttest_ind(\n",
    "        df_ny_nj_users_merg['total_monthly_revenue'], \n",
    "        df_except_nynj_users_merg['total_monthly_revenue'],equal_var=False)#We pas equal_var as False as the variance of both sample are not equal.\n",
    "print('p-value: ', results.pvalue)\n",
    "\n",
    "if (results.pvalue < alpha):\n",
    "        print(\"We reject the null hypothesis\")\n",
    "else:\n",
    "        print(\"We can't reject the null hypothesis\") \n",
    "\n",
    "print('Avg. revenue from users in NY-NJ area: {0}'.format(df_ny_nj_users_merg['total_monthly_revenue'].mean()))   \n",
    "print('Avg. revenue from users not in NY-NJ area: {0}'.format(df_except_nynj_users_merg['total_monthly_revenue'].mean()))\n"
   ]
  },
  {
   "cell_type": "markdown",
   "metadata": {},
   "source": [
    "### Conclusion\n",
    "As we have two statistical populations here which are based on same samples so we apply the method scipy.stats.ttest_ind(array1, array2, equal_var).<br/>\n",
    "In this scenario, We have the following hypothesis:<br/>\n",
    "**Null Hypothesis H0:** The average revenue from users in NY-NJ area is not different from that of the users from other regions.\n",
    "<br/>\n",
    "**Alternative Hypothesis H1:** The average revenue from users in NY-NJ area is different from that of the users from other regions.\n",
    "<br/>\n",
    "After examine the p-value, We can say that we can't reject the null hypothesis, which implies that average revenue from users in NY-NJ area is not different from that of the users from other regions.\n",
    "We also have calculated the avg. revenues of both the regions and found no such difference."
   ]
  },
  {
   "cell_type": "markdown",
   "metadata": {},
   "source": [
    "## Step 5. Write an overall conclusion"
   ]
  },
  {
   "cell_type": "code",
   "execution_count": 39,
   "metadata": {},
   "outputs": [
    {
     "name": "stdout",
     "output_type": "stream",
     "text": [
      "plan  month       surf   ultimate\n",
      "0         1  20.000000  70.000000\n",
      "1         2  34.396667  70.000000\n",
      "2         3  45.941304  74.666667\n",
      "3         4  40.710600  73.000000\n",
      "4         5  45.848684  70.750000\n",
      "5         6  49.276289  71.673913\n",
      "6         7  60.035085  71.964912\n",
      "7         8  59.784551  72.985294\n",
      "8         9  56.127737  72.187500\n",
      "9        10  62.242578  71.303922\n",
      "10       11  55.813704  71.099174\n",
      "11       12  61.165779  71.978261\n"
     ]
    }
   ],
   "source": [
    "#df_merged_plan_fil_o.loc[df_merged_plan_fil_o.plan='Surf', ]\n",
    "df_merged_plan_fil_o_pvt=df_merged_plan_fil_o.pivot_table(\n",
    "    index='month', columns='plan', values='total_monthly_revenue', aggfunc='mean').reset_index()\n",
    "\n",
    "#df_merged_plan_fil_o_pvt.columns=['month','Total_Revenue_Surf','Total_Revenue_Ultimate']\n",
    "print(df_merged_plan_fil_o_pvt)"
   ]
  },
  {
   "cell_type": "code",
   "execution_count": 40,
   "metadata": {},
   "outputs": [
    {
     "data": {
      "text/plain": [
       "Text(0, 0.5, 'Total Monthly Revenue')"
      ]
     },
     "execution_count": 40,
     "metadata": {},
     "output_type": "execute_result"
    },
    {
     "data": {
      "image/png": "[encoded data removed]",
      "text/plain": [
       "<Figure size 432x288 with 1 Axes>"
      ]
     },
     "metadata": {
      "needs_background": "light"
     },
     "output_type": "display_data"
    }
   ],
   "source": [
    "df_merged_plan_fil_o_pvt.plot(kind=\"bar\", title='Surf vs Ultimate: Total Monthly Revenue',x='month')\n",
    "plt.xlabel(\"Month\")\n",
    "plt.ylabel(\"Total Monthly Revenue\")"
   ]
  },
  {
   "cell_type": "markdown",
   "metadata": {},
   "source": [
    "**As we can see from the above graph that average monthly revenue is more for ultimate users**.\n",
    "So now I can conclude that ultimate plan bring more revenues so will recommend to our commercial department to adjust the advertising budget on this plan more. \n",
    "Also during analyzing we found some data which needs further investigation like: some records of calls, messages and gb_used which were recorded after deregistration by users. we store them in seprate table and will share with the team to find the cause for that."
   ]
  },
  {
   "cell_type": "markdown",
   "metadata": {},
   "source": [
    "### Conclusion:\n"
   ]
  },
  {
   "cell_type": "markdown",
   "metadata": {},
   "source": [
    "1. If we see the average monthly revenue, We find avg. revenue from Surf plan is approx.57 and for Ultimate is approx.72. so it shows that on an average monthly revenues are more for ultimate users.\n",
    "So now I can conclude that Ultimate plan bring more revenues so will recommend to our commercial department to adjust the advertising budget on ultimate plan more. \n",
    "\n",
    "2. Also during analyzing we found some data which needs further investigation like: some records of calls, messages and gb_used which were recorded after deregistration by users. we store them in seprate table and will share with the team to find the cause for that."
   ]
  },
  {
   "cell_type": "markdown",
   "metadata": {},
   "source": [
    "### Conclusion\n",
    "1. Data was scatter in multiple tables, so we first checked inidvidual table for any invalid data and then merged all tables in single.\n",
    "2. We removed invalid data from calls, messages and internet table We calculated the invalid data on basis of chur_date. One think I have noticed here that there are lots of invalid data available in these tables for which duration is greater than 0 (i.e. the calls, message and gb_used date is greater than the churn date) so we need to check with the team how users are able to call after deregistration and who will pay for that?\n",
    "3. After merging, we also added some column for analyzing purpose. like total_monthly_revenue.\n",
    "4. As our analysis should be focused on surf and ultimate user's behaviour so we separate all the data in two types of plan and then check all the three parameters(call_duration, message count and gb_used) for both types of users.\n",
    "5. After plotting the box plot we identified that there are some outiers available in the data so first I try to delete them and then made analysis.\n",
    "6.  After deleting the outlier: I calculated Mean, Variance and std. dev. of all three parameters for both users. The mean value of call_duration of both the plan are almost same i.e. 416 and 415. About messages I can that users are not much interested in using messages service as most of them are not even using all the free messages specially for ultimate users. Mean of gb_used is almost same for both type of users i.e approx 17. \n",
    "7. In the section 'Test the hypotheses', we got proved that avg. revenue from the users of ultimpate and surf plan are differs. \n",
    "8. we also plotted the bar graph of avg. monthly reveue of both the users, which concluded that average monthly revenue is more for ultimate users than surf users. <br>\n",
    "**The avg. revenue from Surf plan is approx.57 and for Ultimate is approx.72.**<br>\n",
    "**So now I can conclude that Ultimate plan bring more revenues so will recommend to our commercial department to adjust the advertising budget on ultimate plan more.**"
   ]
  },
  {
   "cell_type": "code",
   "execution_count": null,
   "metadata": {},
   "outputs": [],
   "source": []
  }
 ],
 "metadata": {
  "kernelspec": {
   "display_name": "Python 3",
   "language": "python",
   "name": "python3"
  },
  "language_info": {
   "codemirror_mode": {
    "name": "ipython",
    "version": 3
   },
   "file_extension": ".py",
   "mimetype": "text/x-python",
   "name": "python",
   "nbconvert_exporter": "python",
   "pygments_lexer": "ipython3",
   "version": "3.8.5"
  },
  "toc": {
   "base_numbering": 1,
   "nav_menu": {},
   "number_sections": true,
   "sideBar": true,
   "skip_h1_title": false,
   "title_cell": "Table of Contents",
   "title_sidebar": "Contents",
   "toc_cell": false,
   "toc_position": {},
   "toc_section_display": true,
   "toc_window_display": false
  }
 },
 "nbformat": 4,
 "nbformat_minor": 2
}
