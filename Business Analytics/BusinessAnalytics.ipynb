{
 "cells": [
  {
   "cell_type": "markdown",
   "metadata": {},
   "source": [
    "## Step 1. Download the data and prepare it for analysis\n",
    "(Exploratory data analysis)"
   ]
  },
  {
   "cell_type": "markdown",
   "metadata": {},
   "source": [
    "### Download all data locally"
   ]
  },
  {
   "cell_type": "code",
   "execution_count": 111,
   "metadata": {},
   "outputs": [],
   "source": [
    "# Load packages\n",
    "import pandas as pd\n",
    "import numpy as np\n",
    "import matplotlib.pyplot as plt\n",
    "import warnings\n",
    "warnings.filterwarnings('ignore')\n",
    "\n",
    "pd.set_option(\"display.max_rows\", 10)"
   ]
  },
  {
   "cell_type": "code",
   "execution_count": 112,
   "metadata": {},
   "outputs": [],
   "source": [
    "#Url Path for the data.\n",
    "url1='visits_log_us.csv'\n",
    "url2='orders_log_us.csv'\n",
    "url3='costs_us.csv'\n",
    "\n",
    "#Loading files locally in to dataframe\n",
    "data_visits=pd.read_csv(url1)\n",
    "data_orders=pd.read_csv(url2)\n",
    "data_costs=pd.read_csv(url3)\n"
   ]
  },
  {
   "cell_type": "markdown",
   "metadata": {},
   "source": [
    "### Verifying data and their types."
   ]
  },
  {
   "cell_type": "code",
   "execution_count": 113,
   "metadata": {},
   "outputs": [
    {
     "data": {
      "text/html": [
       "<div>\n",
       "<style scoped>\n",
       "    .dataframe tbody tr th:only-of-type {\n",
       "        vertical-align: middle;\n",
       "    }\n",
       "\n",
       "    .dataframe tbody tr th {\n",
       "        vertical-align: top;\n",
       "    }\n",
       "\n",
       "    .dataframe thead th {\n",
       "        text-align: right;\n",
       "    }\n",
       "</style>\n",
       "<table border=\"1\" class=\"dataframe\">\n",
       "  <thead>\n",
       "    <tr style=\"text-align: right;\">\n",
       "      <th></th>\n",
       "      <th>Device</th>\n",
       "      <th>End Ts</th>\n",
       "      <th>Source Id</th>\n",
       "      <th>Start Ts</th>\n",
       "      <th>Uid</th>\n",
       "    </tr>\n",
       "  </thead>\n",
       "  <tbody>\n",
       "    <tr>\n",
       "      <th>0</th>\n",
       "      <td>touch</td>\n",
       "      <td>2017-12-20 17:38:00</td>\n",
       "      <td>4</td>\n",
       "      <td>2017-12-20 17:20:00</td>\n",
       "      <td>16879256277535980062</td>\n",
       "    </tr>\n",
       "    <tr>\n",
       "      <th>1</th>\n",
       "      <td>desktop</td>\n",
       "      <td>2018-02-19 17:21:00</td>\n",
       "      <td>2</td>\n",
       "      <td>2018-02-19 16:53:00</td>\n",
       "      <td>104060357244891740</td>\n",
       "    </tr>\n",
       "    <tr>\n",
       "      <th>2</th>\n",
       "      <td>touch</td>\n",
       "      <td>2017-07-01 01:54:00</td>\n",
       "      <td>5</td>\n",
       "      <td>2017-07-01 01:54:00</td>\n",
       "      <td>7459035603376831527</td>\n",
       "    </tr>\n",
       "    <tr>\n",
       "      <th>3</th>\n",
       "      <td>desktop</td>\n",
       "      <td>2018-05-20 11:23:00</td>\n",
       "      <td>9</td>\n",
       "      <td>2018-05-20 10:59:00</td>\n",
       "      <td>16174680259334210214</td>\n",
       "    </tr>\n",
       "    <tr>\n",
       "      <th>4</th>\n",
       "      <td>desktop</td>\n",
       "      <td>2017-12-27 14:06:00</td>\n",
       "      <td>3</td>\n",
       "      <td>2017-12-27 14:06:00</td>\n",
       "      <td>9969694820036681168</td>\n",
       "    </tr>\n",
       "  </tbody>\n",
       "</table>\n",
       "</div>"
      ],
      "text/plain": [
       "    Device               End Ts  Source Id             Start Ts  \\\n",
       "0    touch  2017-12-20 17:38:00          4  2017-12-20 17:20:00   \n",
       "1  desktop  2018-02-19 17:21:00          2  2018-02-19 16:53:00   \n",
       "2    touch  2017-07-01 01:54:00          5  2017-07-01 01:54:00   \n",
       "3  desktop  2018-05-20 11:23:00          9  2018-05-20 10:59:00   \n",
       "4  desktop  2017-12-27 14:06:00          3  2017-12-27 14:06:00   \n",
       "\n",
       "                    Uid  \n",
       "0  16879256277535980062  \n",
       "1    104060357244891740  \n",
       "2   7459035603376831527  \n",
       "3  16174680259334210214  \n",
       "4   9969694820036681168  "
      ]
     },
     "metadata": {},
     "output_type": "display_data"
    },
    {
     "data": {
      "text/html": [
       "<div>\n",
       "<style scoped>\n",
       "    .dataframe tbody tr th:only-of-type {\n",
       "        vertical-align: middle;\n",
       "    }\n",
       "\n",
       "    .dataframe tbody tr th {\n",
       "        vertical-align: top;\n",
       "    }\n",
       "\n",
       "    .dataframe thead th {\n",
       "        text-align: right;\n",
       "    }\n",
       "</style>\n",
       "<table border=\"1\" class=\"dataframe\">\n",
       "  <thead>\n",
       "    <tr style=\"text-align: right;\">\n",
       "      <th></th>\n",
       "      <th>Buy Ts</th>\n",
       "      <th>Revenue</th>\n",
       "      <th>Uid</th>\n",
       "    </tr>\n",
       "  </thead>\n",
       "  <tbody>\n",
       "    <tr>\n",
       "      <th>0</th>\n",
       "      <td>2017-06-01 00:10:00</td>\n",
       "      <td>17.00</td>\n",
       "      <td>10329302124590727494</td>\n",
       "    </tr>\n",
       "    <tr>\n",
       "      <th>1</th>\n",
       "      <td>2017-06-01 00:25:00</td>\n",
       "      <td>0.55</td>\n",
       "      <td>11627257723692907447</td>\n",
       "    </tr>\n",
       "    <tr>\n",
       "      <th>2</th>\n",
       "      <td>2017-06-01 00:27:00</td>\n",
       "      <td>0.37</td>\n",
       "      <td>17903680561304213844</td>\n",
       "    </tr>\n",
       "    <tr>\n",
       "      <th>3</th>\n",
       "      <td>2017-06-01 00:29:00</td>\n",
       "      <td>0.55</td>\n",
       "      <td>16109239769442553005</td>\n",
       "    </tr>\n",
       "    <tr>\n",
       "      <th>4</th>\n",
       "      <td>2017-06-01 07:58:00</td>\n",
       "      <td>0.37</td>\n",
       "      <td>14200605875248379450</td>\n",
       "    </tr>\n",
       "  </tbody>\n",
       "</table>\n",
       "</div>"
      ],
      "text/plain": [
       "                Buy Ts  Revenue                   Uid\n",
       "0  2017-06-01 00:10:00    17.00  10329302124590727494\n",
       "1  2017-06-01 00:25:00     0.55  11627257723692907447\n",
       "2  2017-06-01 00:27:00     0.37  17903680561304213844\n",
       "3  2017-06-01 00:29:00     0.55  16109239769442553005\n",
       "4  2017-06-01 07:58:00     0.37  14200605875248379450"
      ]
     },
     "metadata": {},
     "output_type": "display_data"
    },
    {
     "data": {
      "text/html": [
       "<div>\n",
       "<style scoped>\n",
       "    .dataframe tbody tr th:only-of-type {\n",
       "        vertical-align: middle;\n",
       "    }\n",
       "\n",
       "    .dataframe tbody tr th {\n",
       "        vertical-align: top;\n",
       "    }\n",
       "\n",
       "    .dataframe thead th {\n",
       "        text-align: right;\n",
       "    }\n",
       "</style>\n",
       "<table border=\"1\" class=\"dataframe\">\n",
       "  <thead>\n",
       "    <tr style=\"text-align: right;\">\n",
       "      <th></th>\n",
       "      <th>source_id</th>\n",
       "      <th>dt</th>\n",
       "      <th>costs</th>\n",
       "    </tr>\n",
       "  </thead>\n",
       "  <tbody>\n",
       "    <tr>\n",
       "      <th>0</th>\n",
       "      <td>1</td>\n",
       "      <td>2017-06-01</td>\n",
       "      <td>75.20</td>\n",
       "    </tr>\n",
       "    <tr>\n",
       "      <th>1</th>\n",
       "      <td>1</td>\n",
       "      <td>2017-06-02</td>\n",
       "      <td>62.25</td>\n",
       "    </tr>\n",
       "    <tr>\n",
       "      <th>2</th>\n",
       "      <td>1</td>\n",
       "      <td>2017-06-03</td>\n",
       "      <td>36.53</td>\n",
       "    </tr>\n",
       "    <tr>\n",
       "      <th>3</th>\n",
       "      <td>1</td>\n",
       "      <td>2017-06-04</td>\n",
       "      <td>55.00</td>\n",
       "    </tr>\n",
       "    <tr>\n",
       "      <th>4</th>\n",
       "      <td>1</td>\n",
       "      <td>2017-06-05</td>\n",
       "      <td>57.08</td>\n",
       "    </tr>\n",
       "  </tbody>\n",
       "</table>\n",
       "</div>"
      ],
      "text/plain": [
       "   source_id          dt  costs\n",
       "0          1  2017-06-01  75.20\n",
       "1          1  2017-06-02  62.25\n",
       "2          1  2017-06-03  36.53\n",
       "3          1  2017-06-04  55.00\n",
       "4          1  2017-06-05  57.08"
      ]
     },
     "metadata": {},
     "output_type": "display_data"
    }
   ],
   "source": [
    "#Verifying files and data.\n",
    "display(data_visits.head())\n",
    "display(data_orders.head())\n",
    "display(data_costs.head())"
   ]
  },
  {
   "cell_type": "code",
   "execution_count": 114,
   "metadata": {},
   "outputs": [
    {
     "data": {
      "text/html": [
       "<div>\n",
       "<style scoped>\n",
       "    .dataframe tbody tr th:only-of-type {\n",
       "        vertical-align: middle;\n",
       "    }\n",
       "\n",
       "    .dataframe tbody tr th {\n",
       "        vertical-align: top;\n",
       "    }\n",
       "\n",
       "    .dataframe thead th {\n",
       "        text-align: right;\n",
       "    }\n",
       "</style>\n",
       "<table border=\"1\" class=\"dataframe\">\n",
       "  <thead>\n",
       "    <tr style=\"text-align: right;\">\n",
       "      <th></th>\n",
       "      <th>Device</th>\n",
       "      <th>End Ts</th>\n",
       "      <th>Source Id</th>\n",
       "      <th>Start Ts</th>\n",
       "      <th>Uid</th>\n",
       "    </tr>\n",
       "  </thead>\n",
       "  <tbody>\n",
       "    <tr>\n",
       "      <th>359395</th>\n",
       "      <td>desktop</td>\n",
       "      <td>2017-07-29 19:07:19</td>\n",
       "      <td>2</td>\n",
       "      <td>2017-07-29 19:07:00</td>\n",
       "      <td>18363291481961487539</td>\n",
       "    </tr>\n",
       "    <tr>\n",
       "      <th>359396</th>\n",
       "      <td>touch</td>\n",
       "      <td>2018-01-25 17:38:19</td>\n",
       "      <td>1</td>\n",
       "      <td>2018-01-25 17:38:00</td>\n",
       "      <td>18370831553019119586</td>\n",
       "    </tr>\n",
       "    <tr>\n",
       "      <th>359397</th>\n",
       "      <td>desktop</td>\n",
       "      <td>2018-03-03 10:12:19</td>\n",
       "      <td>4</td>\n",
       "      <td>2018-03-03 10:12:00</td>\n",
       "      <td>18387297585500748294</td>\n",
       "    </tr>\n",
       "    <tr>\n",
       "      <th>359398</th>\n",
       "      <td>desktop</td>\n",
       "      <td>2017-11-02 10:12:19</td>\n",
       "      <td>5</td>\n",
       "      <td>2017-11-02 10:12:00</td>\n",
       "      <td>18388616944624776485</td>\n",
       "    </tr>\n",
       "    <tr>\n",
       "      <th>359399</th>\n",
       "      <td>touch</td>\n",
       "      <td>2017-09-10 13:13:19</td>\n",
       "      <td>2</td>\n",
       "      <td>2017-09-10 13:13:00</td>\n",
       "      <td>18396128934054549559</td>\n",
       "    </tr>\n",
       "  </tbody>\n",
       "</table>\n",
       "</div>"
      ],
      "text/plain": [
       "         Device               End Ts  Source Id             Start Ts  \\\n",
       "359395  desktop  2017-07-29 19:07:19          2  2017-07-29 19:07:00   \n",
       "359396    touch  2018-01-25 17:38:19          1  2018-01-25 17:38:00   \n",
       "359397  desktop  2018-03-03 10:12:19          4  2018-03-03 10:12:00   \n",
       "359398  desktop  2017-11-02 10:12:19          5  2017-11-02 10:12:00   \n",
       "359399    touch  2017-09-10 13:13:19          2  2017-09-10 13:13:00   \n",
       "\n",
       "                         Uid  \n",
       "359395  18363291481961487539  \n",
       "359396  18370831553019119586  \n",
       "359397  18387297585500748294  \n",
       "359398  18388616944624776485  \n",
       "359399  18396128934054549559  "
      ]
     },
     "metadata": {},
     "output_type": "display_data"
    },
    {
     "data": {
      "text/html": [
       "<div>\n",
       "<style scoped>\n",
       "    .dataframe tbody tr th:only-of-type {\n",
       "        vertical-align: middle;\n",
       "    }\n",
       "\n",
       "    .dataframe tbody tr th {\n",
       "        vertical-align: top;\n",
       "    }\n",
       "\n",
       "    .dataframe thead th {\n",
       "        text-align: right;\n",
       "    }\n",
       "</style>\n",
       "<table border=\"1\" class=\"dataframe\">\n",
       "  <thead>\n",
       "    <tr style=\"text-align: right;\">\n",
       "      <th></th>\n",
       "      <th>Buy Ts</th>\n",
       "      <th>Revenue</th>\n",
       "      <th>Uid</th>\n",
       "    </tr>\n",
       "  </thead>\n",
       "  <tbody>\n",
       "    <tr>\n",
       "      <th>50410</th>\n",
       "      <td>2018-05-31 23:50:00</td>\n",
       "      <td>4.64</td>\n",
       "      <td>12296626599487328624</td>\n",
       "    </tr>\n",
       "    <tr>\n",
       "      <th>50411</th>\n",
       "      <td>2018-05-31 23:50:00</td>\n",
       "      <td>5.80</td>\n",
       "      <td>11369640365507475976</td>\n",
       "    </tr>\n",
       "    <tr>\n",
       "      <th>50412</th>\n",
       "      <td>2018-05-31 23:54:00</td>\n",
       "      <td>0.30</td>\n",
       "      <td>1786462140797698849</td>\n",
       "    </tr>\n",
       "    <tr>\n",
       "      <th>50413</th>\n",
       "      <td>2018-05-31 23:56:00</td>\n",
       "      <td>3.67</td>\n",
       "      <td>3993697860786194247</td>\n",
       "    </tr>\n",
       "    <tr>\n",
       "      <th>50414</th>\n",
       "      <td>2018-06-01 00:02:00</td>\n",
       "      <td>3.42</td>\n",
       "      <td>83872787173869366</td>\n",
       "    </tr>\n",
       "  </tbody>\n",
       "</table>\n",
       "</div>"
      ],
      "text/plain": [
       "                    Buy Ts  Revenue                   Uid\n",
       "50410  2018-05-31 23:50:00     4.64  12296626599487328624\n",
       "50411  2018-05-31 23:50:00     5.80  11369640365507475976\n",
       "50412  2018-05-31 23:54:00     0.30   1786462140797698849\n",
       "50413  2018-05-31 23:56:00     3.67   3993697860786194247\n",
       "50414  2018-06-01 00:02:00     3.42     83872787173869366"
      ]
     },
     "metadata": {},
     "output_type": "display_data"
    },
    {
     "data": {
      "text/html": [
       "<div>\n",
       "<style scoped>\n",
       "    .dataframe tbody tr th:only-of-type {\n",
       "        vertical-align: middle;\n",
       "    }\n",
       "\n",
       "    .dataframe tbody tr th {\n",
       "        vertical-align: top;\n",
       "    }\n",
       "\n",
       "    .dataframe thead th {\n",
       "        text-align: right;\n",
       "    }\n",
       "</style>\n",
       "<table border=\"1\" class=\"dataframe\">\n",
       "  <thead>\n",
       "    <tr style=\"text-align: right;\">\n",
       "      <th></th>\n",
       "      <th>source_id</th>\n",
       "      <th>dt</th>\n",
       "      <th>costs</th>\n",
       "    </tr>\n",
       "  </thead>\n",
       "  <tbody>\n",
       "    <tr>\n",
       "      <th>2537</th>\n",
       "      <td>10</td>\n",
       "      <td>2018-05-27</td>\n",
       "      <td>9.92</td>\n",
       "    </tr>\n",
       "    <tr>\n",
       "      <th>2538</th>\n",
       "      <td>10</td>\n",
       "      <td>2018-05-28</td>\n",
       "      <td>21.26</td>\n",
       "    </tr>\n",
       "    <tr>\n",
       "      <th>2539</th>\n",
       "      <td>10</td>\n",
       "      <td>2018-05-29</td>\n",
       "      <td>11.32</td>\n",
       "    </tr>\n",
       "    <tr>\n",
       "      <th>2540</th>\n",
       "      <td>10</td>\n",
       "      <td>2018-05-30</td>\n",
       "      <td>33.15</td>\n",
       "    </tr>\n",
       "    <tr>\n",
       "      <th>2541</th>\n",
       "      <td>10</td>\n",
       "      <td>2018-05-31</td>\n",
       "      <td>17.60</td>\n",
       "    </tr>\n",
       "  </tbody>\n",
       "</table>\n",
       "</div>"
      ],
      "text/plain": [
       "      source_id          dt  costs\n",
       "2537         10  2018-05-27   9.92\n",
       "2538         10  2018-05-28  21.26\n",
       "2539         10  2018-05-29  11.32\n",
       "2540         10  2018-05-30  33.15\n",
       "2541         10  2018-05-31  17.60"
      ]
     },
     "metadata": {},
     "output_type": "display_data"
    }
   ],
   "source": [
    "display(data_visits.tail())\n",
    "display(data_orders.tail())\n",
    "display(data_costs.tail())"
   ]
  },
  {
   "cell_type": "code",
   "execution_count": 115,
   "metadata": {},
   "outputs": [
    {
     "name": "stdout",
     "output_type": "stream",
     "text": [
      "<class 'pandas.core.frame.DataFrame'>\n",
      "RangeIndex: 359400 entries, 0 to 359399\n",
      "Data columns (total 5 columns):\n",
      " #   Column     Non-Null Count   Dtype \n",
      "---  ------     --------------   ----- \n",
      " 0   Device     359400 non-null  object\n",
      " 1   End Ts     359400 non-null  object\n",
      " 2   Source Id  359400 non-null  int64 \n",
      " 3   Start Ts   359400 non-null  object\n",
      " 4   Uid        359400 non-null  uint64\n",
      "dtypes: int64(1), object(3), uint64(1)\n",
      "memory usage: 79.3 MB\n",
      "<class 'pandas.core.frame.DataFrame'>\n",
      "RangeIndex: 50415 entries, 0 to 50414\n",
      "Data columns (total 3 columns):\n",
      " #   Column   Non-Null Count  Dtype  \n",
      "---  ------   --------------  -----  \n",
      " 0   Buy Ts   50415 non-null  object \n",
      " 1   Revenue  50415 non-null  float64\n",
      " 2   Uid      50415 non-null  uint64 \n",
      "dtypes: float64(1), object(1), uint64(1)\n",
      "memory usage: 4.4 MB\n",
      "<class 'pandas.core.frame.DataFrame'>\n",
      "RangeIndex: 2542 entries, 0 to 2541\n",
      "Data columns (total 3 columns):\n",
      " #   Column     Non-Null Count  Dtype  \n",
      "---  ------     --------------  -----  \n",
      " 0   source_id  2542 non-null   int64  \n",
      " 1   dt         2542 non-null   object \n",
      " 2   costs      2542 non-null   float64\n",
      "dtypes: float64(1), int64(1), object(1)\n",
      "memory usage: 206.2 KB\n"
     ]
    }
   ],
   "source": [
    "#Verifying basic informatoin and data type of all tables.\n",
    "data_visits.info(memory_usage='deep')\n",
    "data_orders.info(memory_usage='deep')\n",
    "data_costs.info(memory_usage='deep')"
   ]
  },
  {
   "cell_type": "markdown",
   "metadata": {},
   "source": [
    "1. Found some data for which data type can be changed like for Start Ts and End Ts data type should be datetime. \n",
    "2. Before changing the data type we first change all column name to lower case and also replace all space in coulmn names with '_'  character."
   ]
  },
  {
   "cell_type": "code",
   "execution_count": 116,
   "metadata": {},
   "outputs": [],
   "source": [
    "def update_columns_name(df):\n",
    "    df.columns = df.columns.str.replace(' ', '_').str.lower()\n",
    "    print(df.columns)"
   ]
  },
  {
   "cell_type": "code",
   "execution_count": 117,
   "metadata": {},
   "outputs": [
    {
     "name": "stdout",
     "output_type": "stream",
     "text": [
      "Index(['device', 'end_ts', 'source_id', 'start_ts', 'uid'], dtype='object')\n",
      "Index(['buy_ts', 'revenue', 'uid'], dtype='object')\n",
      "Index(['source_id', 'dt', 'costs'], dtype='object')\n"
     ]
    }
   ],
   "source": [
    "update_columns_name(data_visits)\n",
    "update_columns_name(data_orders)\n",
    "update_columns_name(data_costs)"
   ]
  },
  {
   "cell_type": "code",
   "execution_count": 118,
   "metadata": {
    "scrolled": true
   },
   "outputs": [
    {
     "name": "stdout",
     "output_type": "stream",
     "text": [
      "device       0\n",
      "end_ts       0\n",
      "source_id    0\n",
      "start_ts     0\n",
      "uid          0\n",
      "dtype: int64\n",
      "buy_ts     0\n",
      "revenue    0\n",
      "uid        0\n",
      "dtype: int64\n",
      "source_id    0\n",
      "dt           0\n",
      "costs        0\n",
      "dtype: int64\n"
     ]
    }
   ],
   "source": [
    "#checking the table for null values.\n",
    "print(data_visits.isnull().sum())\n",
    "print(data_orders.isnull().sum())\n",
    "print(data_costs.isnull().sum())"
   ]
  },
  {
   "cell_type": "code",
   "execution_count": 119,
   "metadata": {},
   "outputs": [
    {
     "name": "stdout",
     "output_type": "stream",
     "text": [
      "0\n",
      "0\n",
      "0\n"
     ]
    }
   ],
   "source": [
    "#checking the table for duplicates values.\n",
    "print(data_visits.duplicated().sum())\n",
    "print(data_orders.duplicated().sum())\n",
    "print(data_costs.duplicated().sum())"
   ]
  },
  {
   "cell_type": "markdown",
   "metadata": {},
   "source": [
    "Found no null and no duploicates values. "
   ]
  },
  {
   "cell_type": "markdown",
   "metadata": {},
   "source": [
    "### Study the data they contain."
   ]
  },
  {
   "cell_type": "code",
   "execution_count": 120,
   "metadata": {},
   "outputs": [
    {
     "data": {
      "text/html": [
       "<div>\n",
       "<style scoped>\n",
       "    .dataframe tbody tr th:only-of-type {\n",
       "        vertical-align: middle;\n",
       "    }\n",
       "\n",
       "    .dataframe tbody tr th {\n",
       "        vertical-align: top;\n",
       "    }\n",
       "\n",
       "    .dataframe thead th {\n",
       "        text-align: right;\n",
       "    }\n",
       "</style>\n",
       "<table border=\"1\" class=\"dataframe\">\n",
       "  <thead>\n",
       "    <tr style=\"text-align: right;\">\n",
       "      <th></th>\n",
       "      <th>source_id</th>\n",
       "      <th>uid</th>\n",
       "    </tr>\n",
       "  </thead>\n",
       "  <tbody>\n",
       "    <tr>\n",
       "      <th>count</th>\n",
       "      <td>359400.000000</td>\n",
       "      <td>3.594000e+05</td>\n",
       "    </tr>\n",
       "    <tr>\n",
       "      <th>mean</th>\n",
       "      <td>3.750515</td>\n",
       "      <td>9.202557e+18</td>\n",
       "    </tr>\n",
       "    <tr>\n",
       "      <th>std</th>\n",
       "      <td>1.917116</td>\n",
       "      <td>5.298433e+18</td>\n",
       "    </tr>\n",
       "    <tr>\n",
       "      <th>min</th>\n",
       "      <td>1.000000</td>\n",
       "      <td>1.186350e+13</td>\n",
       "    </tr>\n",
       "    <tr>\n",
       "      <th>25%</th>\n",
       "      <td>3.000000</td>\n",
       "      <td>4.613407e+18</td>\n",
       "    </tr>\n",
       "    <tr>\n",
       "      <th>50%</th>\n",
       "      <td>4.000000</td>\n",
       "      <td>9.227413e+18</td>\n",
       "    </tr>\n",
       "    <tr>\n",
       "      <th>75%</th>\n",
       "      <td>5.000000</td>\n",
       "      <td>1.372824e+19</td>\n",
       "    </tr>\n",
       "    <tr>\n",
       "      <th>max</th>\n",
       "      <td>10.000000</td>\n",
       "      <td>1.844668e+19</td>\n",
       "    </tr>\n",
       "  </tbody>\n",
       "</table>\n",
       "</div>"
      ],
      "text/plain": [
       "           source_id           uid\n",
       "count  359400.000000  3.594000e+05\n",
       "mean        3.750515  9.202557e+18\n",
       "std         1.917116  5.298433e+18\n",
       "min         1.000000  1.186350e+13\n",
       "25%         3.000000  4.613407e+18\n",
       "50%         4.000000  9.227413e+18\n",
       "75%         5.000000  1.372824e+19\n",
       "max        10.000000  1.844668e+19"
      ]
     },
     "metadata": {},
     "output_type": "display_data"
    },
    {
     "data": {
      "text/html": [
       "<div>\n",
       "<style scoped>\n",
       "    .dataframe tbody tr th:only-of-type {\n",
       "        vertical-align: middle;\n",
       "    }\n",
       "\n",
       "    .dataframe tbody tr th {\n",
       "        vertical-align: top;\n",
       "    }\n",
       "\n",
       "    .dataframe thead th {\n",
       "        text-align: right;\n",
       "    }\n",
       "</style>\n",
       "<table border=\"1\" class=\"dataframe\">\n",
       "  <thead>\n",
       "    <tr style=\"text-align: right;\">\n",
       "      <th></th>\n",
       "      <th>device</th>\n",
       "      <th>end_ts</th>\n",
       "      <th>start_ts</th>\n",
       "    </tr>\n",
       "  </thead>\n",
       "  <tbody>\n",
       "    <tr>\n",
       "      <th>count</th>\n",
       "      <td>359400</td>\n",
       "      <td>359400</td>\n",
       "      <td>359400</td>\n",
       "    </tr>\n",
       "    <tr>\n",
       "      <th>unique</th>\n",
       "      <td>2</td>\n",
       "      <td>224760</td>\n",
       "      <td>224303</td>\n",
       "    </tr>\n",
       "    <tr>\n",
       "      <th>top</th>\n",
       "      <td>desktop</td>\n",
       "      <td>2017-11-24 16:51:00</td>\n",
       "      <td>2017-11-24 16:06:00</td>\n",
       "    </tr>\n",
       "    <tr>\n",
       "      <th>freq</th>\n",
       "      <td>262567</td>\n",
       "      <td>23</td>\n",
       "      <td>19</td>\n",
       "    </tr>\n",
       "  </tbody>\n",
       "</table>\n",
       "</div>"
      ],
      "text/plain": [
       "         device               end_ts             start_ts\n",
       "count    359400               359400               359400\n",
       "unique        2               224760               224303\n",
       "top     desktop  2017-11-24 16:51:00  2017-11-24 16:06:00\n",
       "freq     262567                   23                   19"
      ]
     },
     "metadata": {},
     "output_type": "display_data"
    }
   ],
   "source": [
    "#checking the data in data_visits table.\n",
    "display(data_visits.describe())\n",
    "display(data_visits.describe(include=['object']))\n"
   ]
  },
  {
   "cell_type": "code",
   "execution_count": 121,
   "metadata": {},
   "outputs": [
    {
     "data": {
      "text/plain": [
       "array(['touch', 'desktop'], dtype=object)"
      ]
     },
     "execution_count": 121,
     "metadata": {},
     "output_type": "execute_result"
    }
   ],
   "source": [
    "data_visits['device'].unique()"
   ]
  },
  {
   "cell_type": "markdown",
   "metadata": {},
   "source": [
    "Device column contain only 2 unique value so we can change the data type of this column to 'category'."
   ]
  },
  {
   "cell_type": "code",
   "execution_count": 122,
   "metadata": {},
   "outputs": [
    {
     "data": {
      "text/html": [
       "<div>\n",
       "<style scoped>\n",
       "    .dataframe tbody tr th:only-of-type {\n",
       "        vertical-align: middle;\n",
       "    }\n",
       "\n",
       "    .dataframe tbody tr th {\n",
       "        vertical-align: top;\n",
       "    }\n",
       "\n",
       "    .dataframe thead th {\n",
       "        text-align: right;\n",
       "    }\n",
       "</style>\n",
       "<table border=\"1\" class=\"dataframe\">\n",
       "  <thead>\n",
       "    <tr style=\"text-align: right;\">\n",
       "      <th></th>\n",
       "      <th>revenue</th>\n",
       "      <th>uid</th>\n",
       "    </tr>\n",
       "  </thead>\n",
       "  <tbody>\n",
       "    <tr>\n",
       "      <th>count</th>\n",
       "      <td>50415.000000</td>\n",
       "      <td>5.041500e+04</td>\n",
       "    </tr>\n",
       "    <tr>\n",
       "      <th>mean</th>\n",
       "      <td>4.999647</td>\n",
       "      <td>9.098161e+18</td>\n",
       "    </tr>\n",
       "    <tr>\n",
       "      <th>std</th>\n",
       "      <td>21.818359</td>\n",
       "      <td>5.285742e+18</td>\n",
       "    </tr>\n",
       "    <tr>\n",
       "      <th>min</th>\n",
       "      <td>0.000000</td>\n",
       "      <td>3.135781e+14</td>\n",
       "    </tr>\n",
       "    <tr>\n",
       "      <th>25%</th>\n",
       "      <td>1.220000</td>\n",
       "      <td>4.533567e+18</td>\n",
       "    </tr>\n",
       "    <tr>\n",
       "      <th>50%</th>\n",
       "      <td>2.500000</td>\n",
       "      <td>9.102274e+18</td>\n",
       "    </tr>\n",
       "    <tr>\n",
       "      <th>75%</th>\n",
       "      <td>4.890000</td>\n",
       "      <td>1.368290e+19</td>\n",
       "    </tr>\n",
       "    <tr>\n",
       "      <th>max</th>\n",
       "      <td>2633.280000</td>\n",
       "      <td>1.844617e+19</td>\n",
       "    </tr>\n",
       "  </tbody>\n",
       "</table>\n",
       "</div>"
      ],
      "text/plain": [
       "            revenue           uid\n",
       "count  50415.000000  5.041500e+04\n",
       "mean       4.999647  9.098161e+18\n",
       "std       21.818359  5.285742e+18\n",
       "min        0.000000  3.135781e+14\n",
       "25%        1.220000  4.533567e+18\n",
       "50%        2.500000  9.102274e+18\n",
       "75%        4.890000  1.368290e+19\n",
       "max     2633.280000  1.844617e+19"
      ]
     },
     "metadata": {},
     "output_type": "display_data"
    },
    {
     "data": {
      "text/html": [
       "<div>\n",
       "<style scoped>\n",
       "    .dataframe tbody tr th:only-of-type {\n",
       "        vertical-align: middle;\n",
       "    }\n",
       "\n",
       "    .dataframe tbody tr th {\n",
       "        vertical-align: top;\n",
       "    }\n",
       "\n",
       "    .dataframe thead th {\n",
       "        text-align: right;\n",
       "    }\n",
       "</style>\n",
       "<table border=\"1\" class=\"dataframe\">\n",
       "  <thead>\n",
       "    <tr style=\"text-align: right;\">\n",
       "      <th></th>\n",
       "      <th>buy_ts</th>\n",
       "    </tr>\n",
       "  </thead>\n",
       "  <tbody>\n",
       "    <tr>\n",
       "      <th>count</th>\n",
       "      <td>50415</td>\n",
       "    </tr>\n",
       "    <tr>\n",
       "      <th>unique</th>\n",
       "      <td>45991</td>\n",
       "    </tr>\n",
       "    <tr>\n",
       "      <th>top</th>\n",
       "      <td>2018-05-31 10:13:00</td>\n",
       "    </tr>\n",
       "    <tr>\n",
       "      <th>freq</th>\n",
       "      <td>9</td>\n",
       "    </tr>\n",
       "  </tbody>\n",
       "</table>\n",
       "</div>"
      ],
      "text/plain": [
       "                     buy_ts\n",
       "count                 50415\n",
       "unique                45991\n",
       "top     2018-05-31 10:13:00\n",
       "freq                      9"
      ]
     },
     "metadata": {},
     "output_type": "display_data"
    },
    {
     "name": "stdout",
     "output_type": "stream",
     "text": [
      "<class 'pandas.core.frame.DataFrame'>\n",
      "RangeIndex: 50415 entries, 0 to 50414\n",
      "Data columns (total 3 columns):\n",
      " #   Column   Non-Null Count  Dtype  \n",
      "---  ------   --------------  -----  \n",
      " 0   buy_ts   50415 non-null  object \n",
      " 1   revenue  50415 non-null  float64\n",
      " 2   uid      50415 non-null  uint64 \n",
      "dtypes: float64(1), object(1), uint64(1)\n",
      "memory usage: 1.2+ MB\n"
     ]
    }
   ],
   "source": [
    "#checking the data in data_orders table.\n",
    "display(data_orders.describe())\n",
    "display(data_orders.describe(include=['object']))\n",
    "#data_visits['device'].unique()\n",
    "data_orders.info()"
   ]
  },
  {
   "cell_type": "markdown",
   "metadata": {},
   "source": [
    "### Changing data type."
   ]
  },
  {
   "cell_type": "code",
   "execution_count": 123,
   "metadata": {
    "scrolled": false
   },
   "outputs": [
    {
     "name": "stdout",
     "output_type": "stream",
     "text": [
      "<class 'pandas.core.frame.DataFrame'>\n",
      "RangeIndex: 359400 entries, 0 to 359399\n",
      "Data columns (total 5 columns):\n",
      " #   Column     Non-Null Count   Dtype \n",
      "---  ------     --------------   ----- \n",
      " 0   device     359400 non-null  object\n",
      " 1   end_ts     359400 non-null  object\n",
      " 2   source_id  359400 non-null  int64 \n",
      " 3   start_ts   359400 non-null  object\n",
      " 4   uid        359400 non-null  uint64\n",
      "dtypes: int64(1), object(3), uint64(1)\n",
      "memory usage: 79.3 MB\n",
      "<class 'pandas.core.frame.DataFrame'>\n",
      "RangeIndex: 359400 entries, 0 to 359399\n",
      "Data columns (total 5 columns):\n",
      " #   Column     Non-Null Count   Dtype         \n",
      "---  ------     --------------   -----         \n",
      " 0   device     359400 non-null  category      \n",
      " 1   end_ts     359400 non-null  datetime64[ns]\n",
      " 2   source_id  359400 non-null  int64         \n",
      " 3   start_ts   359400 non-null  datetime64[ns]\n",
      " 4   uid        359400 non-null  uint64        \n",
      "dtypes: category(1), datetime64[ns](2), int64(1), uint64(1)\n",
      "memory usage: 11.3 MB\n"
     ]
    }
   ],
   "source": [
    "#Changing data type in visit table.\n",
    "data_visits.info(memory_usage='deep')\n",
    "data_visits['start_ts'] =  pd.to_datetime(data_visits['start_ts'], format=\"%Y-%m-%d %H:%M:%S\")\n",
    "data_visits['end_ts'] =  pd.to_datetime(data_visits['end_ts'], format=\"%Y-%m-%d %H:%M:%S\") \n",
    "data_visits['device'] = data_visits['device'].astype('category') \n",
    "data_visits.info(memory_usage='deep')\n"
   ]
  },
  {
   "cell_type": "code",
   "execution_count": 124,
   "metadata": {},
   "outputs": [
    {
     "name": "stdout",
     "output_type": "stream",
     "text": [
      "<class 'pandas.core.frame.DataFrame'>\n",
      "RangeIndex: 50415 entries, 0 to 50414\n",
      "Data columns (total 3 columns):\n",
      " #   Column   Non-Null Count  Dtype  \n",
      "---  ------   --------------  -----  \n",
      " 0   buy_ts   50415 non-null  object \n",
      " 1   revenue  50415 non-null  float64\n",
      " 2   uid      50415 non-null  uint64 \n",
      "dtypes: float64(1), object(1), uint64(1)\n",
      "memory usage: 4.4 MB\n",
      "<class 'pandas.core.frame.DataFrame'>\n",
      "RangeIndex: 50415 entries, 0 to 50414\n",
      "Data columns (total 3 columns):\n",
      " #   Column   Non-Null Count  Dtype         \n",
      "---  ------   --------------  -----         \n",
      " 0   buy_ts   50415 non-null  datetime64[ns]\n",
      " 1   revenue  50415 non-null  float64       \n",
      " 2   uid      50415 non-null  uint64        \n",
      "dtypes: datetime64[ns](1), float64(1), uint64(1)\n",
      "memory usage: 1.2 MB\n"
     ]
    }
   ],
   "source": [
    "#Changing data type in order table.\n",
    "data_orders.info(memory_usage='deep')\n",
    "data_orders['buy_ts'] =  pd.to_datetime(data_orders['buy_ts'], format=\"%Y-%m-%d %H:%M:%S\")\n",
    "data_orders.info(memory_usage='deep')"
   ]
  },
  {
   "cell_type": "code",
   "execution_count": 125,
   "metadata": {},
   "outputs": [
    {
     "name": "stdout",
     "output_type": "stream",
     "text": [
      "<class 'pandas.core.frame.DataFrame'>\n",
      "RangeIndex: 2542 entries, 0 to 2541\n",
      "Data columns (total 3 columns):\n",
      " #   Column     Non-Null Count  Dtype  \n",
      "---  ------     --------------  -----  \n",
      " 0   source_id  2542 non-null   int64  \n",
      " 1   dt         2542 non-null   object \n",
      " 2   costs      2542 non-null   float64\n",
      "dtypes: float64(1), int64(1), object(1)\n",
      "memory usage: 206.2 KB\n",
      "<class 'pandas.core.frame.DataFrame'>\n",
      "RangeIndex: 2542 entries, 0 to 2541\n",
      "Data columns (total 3 columns):\n",
      " #   Column     Non-Null Count  Dtype         \n",
      "---  ------     --------------  -----         \n",
      " 0   source_id  2542 non-null   int64         \n",
      " 1   dt         2542 non-null   datetime64[ns]\n",
      " 2   costs      2542 non-null   float64       \n",
      "dtypes: datetime64[ns](1), float64(1), int64(1)\n",
      "memory usage: 59.7 KB\n"
     ]
    }
   ],
   "source": [
    "#added code v.1\n",
    "#Changing data type in costs table.\n",
    "data_costs.info(memory_usage='deep')\n",
    "data_costs['dt'] =  pd.to_datetime(data_costs['dt'], format=\"%Y-%m-%d %H:%M:%S\")\n",
    "data_costs.info(memory_usage='deep')"
   ]
  },
  {
   "cell_type": "code",
   "execution_count": 126,
   "metadata": {},
   "outputs": [
    {
     "data": {
      "text/plain": [
       "Timestamp('2018-06-01 01:26:00')"
      ]
     },
     "metadata": {},
     "output_type": "display_data"
    }
   ],
   "source": [
    "#added code v.1\n",
    "display(data_visits['end_ts'].max())"
   ]
  },
  {
   "cell_type": "markdown",
   "metadata": {},
   "source": [
    "As some values are more than May'2018 so we discard all the data greater than May'2018."
   ]
  },
  {
   "cell_type": "code",
   "execution_count": 127,
   "metadata": {
    "scrolled": false
   },
   "outputs": [
    {
     "data": {
      "text/html": [
       "<div>\n",
       "<style scoped>\n",
       "    .dataframe tbody tr th:only-of-type {\n",
       "        vertical-align: middle;\n",
       "    }\n",
       "\n",
       "    .dataframe tbody tr th {\n",
       "        vertical-align: top;\n",
       "    }\n",
       "\n",
       "    .dataframe thead th {\n",
       "        text-align: right;\n",
       "    }\n",
       "</style>\n",
       "<table border=\"1\" class=\"dataframe\">\n",
       "  <thead>\n",
       "    <tr style=\"text-align: right;\">\n",
       "      <th></th>\n",
       "      <th>device</th>\n",
       "      <th>end_ts</th>\n",
       "      <th>source_id</th>\n",
       "      <th>start_ts</th>\n",
       "      <th>uid</th>\n",
       "    </tr>\n",
       "  </thead>\n",
       "  <tbody>\n",
       "    <tr>\n",
       "      <th>2330</th>\n",
       "      <td>desktop</td>\n",
       "      <td>2018-06-01 00:05:00</td>\n",
       "      <td>2</td>\n",
       "      <td>2018-05-31 23:30:00</td>\n",
       "      <td>5300693976971713685</td>\n",
       "    </tr>\n",
       "    <tr>\n",
       "      <th>43215</th>\n",
       "      <td>desktop</td>\n",
       "      <td>2018-06-01 00:13:00</td>\n",
       "      <td>4</td>\n",
       "      <td>2018-05-31 23:46:00</td>\n",
       "      <td>12296626599487328624</td>\n",
       "    </tr>\n",
       "    <tr>\n",
       "      <th>46667</th>\n",
       "      <td>desktop</td>\n",
       "      <td>2018-06-01 00:13:00</td>\n",
       "      <td>5</td>\n",
       "      <td>2018-05-31 23:48:00</td>\n",
       "      <td>1107134732939577311</td>\n",
       "    </tr>\n",
       "    <tr>\n",
       "      <th>154728</th>\n",
       "      <td>desktop</td>\n",
       "      <td>2018-06-01 00:09:00</td>\n",
       "      <td>2</td>\n",
       "      <td>2018-05-31 22:52:00</td>\n",
       "      <td>12484396335714047199</td>\n",
       "    </tr>\n",
       "    <tr>\n",
       "      <th>198329</th>\n",
       "      <td>desktop</td>\n",
       "      <td>2018-06-01 00:11:00</td>\n",
       "      <td>3</td>\n",
       "      <td>2018-05-31 23:59:00</td>\n",
       "      <td>3720373600909378583</td>\n",
       "    </tr>\n",
       "    <tr>\n",
       "      <th>...</th>\n",
       "      <td>...</td>\n",
       "      <td>...</td>\n",
       "      <td>...</td>\n",
       "      <td>...</td>\n",
       "      <td>...</td>\n",
       "    </tr>\n",
       "    <tr>\n",
       "      <th>269213</th>\n",
       "      <td>touch</td>\n",
       "      <td>2018-06-01 00:12:00</td>\n",
       "      <td>10</td>\n",
       "      <td>2018-05-31 23:59:00</td>\n",
       "      <td>10723414689244282024</td>\n",
       "    </tr>\n",
       "    <tr>\n",
       "      <th>288563</th>\n",
       "      <td>touch</td>\n",
       "      <td>2018-06-01 00:01:00</td>\n",
       "      <td>4</td>\n",
       "      <td>2018-05-31 23:37:00</td>\n",
       "      <td>1094281763368510391</td>\n",
       "    </tr>\n",
       "    <tr>\n",
       "      <th>299620</th>\n",
       "      <td>desktop</td>\n",
       "      <td>2018-06-01 00:04:00</td>\n",
       "      <td>4</td>\n",
       "      <td>2018-05-31 23:59:00</td>\n",
       "      <td>83872787173869366</td>\n",
       "    </tr>\n",
       "    <tr>\n",
       "      <th>342205</th>\n",
       "      <td>touch</td>\n",
       "      <td>2018-06-01 01:26:00</td>\n",
       "      <td>1</td>\n",
       "      <td>2018-05-31 23:44:00</td>\n",
       "      <td>13670831770959132678</td>\n",
       "    </tr>\n",
       "    <tr>\n",
       "      <th>355366</th>\n",
       "      <td>desktop</td>\n",
       "      <td>2018-06-01 00:00:00</td>\n",
       "      <td>4</td>\n",
       "      <td>2018-05-31 23:54:00</td>\n",
       "      <td>17972575701705277137</td>\n",
       "    </tr>\n",
       "  </tbody>\n",
       "</table>\n",
       "<p>12 rows × 5 columns</p>\n",
       "</div>"
      ],
      "text/plain": [
       "         device              end_ts  source_id            start_ts  \\\n",
       "2330    desktop 2018-06-01 00:05:00          2 2018-05-31 23:30:00   \n",
       "43215   desktop 2018-06-01 00:13:00          4 2018-05-31 23:46:00   \n",
       "46667   desktop 2018-06-01 00:13:00          5 2018-05-31 23:48:00   \n",
       "154728  desktop 2018-06-01 00:09:00          2 2018-05-31 22:52:00   \n",
       "198329  desktop 2018-06-01 00:11:00          3 2018-05-31 23:59:00   \n",
       "...         ...                 ...        ...                 ...   \n",
       "269213    touch 2018-06-01 00:12:00         10 2018-05-31 23:59:00   \n",
       "288563    touch 2018-06-01 00:01:00          4 2018-05-31 23:37:00   \n",
       "299620  desktop 2018-06-01 00:04:00          4 2018-05-31 23:59:00   \n",
       "342205    touch 2018-06-01 01:26:00          1 2018-05-31 23:44:00   \n",
       "355366  desktop 2018-06-01 00:00:00          4 2018-05-31 23:54:00   \n",
       "\n",
       "                         uid  \n",
       "2330     5300693976971713685  \n",
       "43215   12296626599487328624  \n",
       "46667    1107134732939577311  \n",
       "154728  12484396335714047199  \n",
       "198329   3720373600909378583  \n",
       "...                      ...  \n",
       "269213  10723414689244282024  \n",
       "288563   1094281763368510391  \n",
       "299620     83872787173869366  \n",
       "342205  13670831770959132678  \n",
       "355366  17972575701705277137  \n",
       "\n",
       "[12 rows x 5 columns]"
      ]
     },
     "execution_count": 127,
     "metadata": {},
     "output_type": "execute_result"
    }
   ],
   "source": [
    "#added code v.1\n",
    "#сheck no of the sessions which have greater time frame than the specified time interval.\n",
    "data_visits[data_visits['end_ts'].dt.date>pd.to_datetime('2018-05-31')]"
   ]
  },
  {
   "cell_type": "code",
   "execution_count": 128,
   "metadata": {},
   "outputs": [
    {
     "data": {
      "text/html": [
       "<div>\n",
       "<style scoped>\n",
       "    .dataframe tbody tr th:only-of-type {\n",
       "        vertical-align: middle;\n",
       "    }\n",
       "\n",
       "    .dataframe tbody tr th {\n",
       "        vertical-align: top;\n",
       "    }\n",
       "\n",
       "    .dataframe thead th {\n",
       "        text-align: right;\n",
       "    }\n",
       "</style>\n",
       "<table border=\"1\" class=\"dataframe\">\n",
       "  <thead>\n",
       "    <tr style=\"text-align: right;\">\n",
       "      <th></th>\n",
       "      <th>device</th>\n",
       "      <th>end_ts</th>\n",
       "      <th>source_id</th>\n",
       "      <th>start_ts</th>\n",
       "      <th>uid</th>\n",
       "    </tr>\n",
       "  </thead>\n",
       "  <tbody>\n",
       "  </tbody>\n",
       "</table>\n",
       "</div>"
      ],
      "text/plain": [
       "Empty DataFrame\n",
       "Columns: [device, end_ts, source_id, start_ts, uid]\n",
       "Index: []"
      ]
     },
     "execution_count": 128,
     "metadata": {},
     "output_type": "execute_result"
    }
   ],
   "source": [
    "#added code v.1\n",
    "#fetch only those data which matches the specified time interval.\n",
    "data_visits=data_visits[data_visits['end_ts'].dt.date<pd.to_datetime('2018-06-01')]\n",
    "#Verify the data max date limit\n",
    "data_visits[data_visits['end_ts'].dt.date>pd.to_datetime('2018-05-31')]"
   ]
  },
  {
   "cell_type": "markdown",
   "metadata": {},
   "source": [
    "### Conclusion:"
   ]
  },
  {
   "cell_type": "markdown",
   "metadata": {},
   "source": [
    "So far we have checked all the tables, their data and updated the data types wherever required. So now we move to next part to analyse these data and prepare the report. "
   ]
  },
  {
   "cell_type": "markdown",
   "metadata": {},
   "source": [
    "## Step 2. Make reports and calculate metrics"
   ]
  },
  {
   "cell_type": "markdown",
   "metadata": {},
   "source": [
    "### Product"
   ]
  },
  {
   "cell_type": "markdown",
   "metadata": {},
   "source": [
    "### - How many people use it every day, week, and month?"
   ]
  },
  {
   "cell_type": "code",
   "execution_count": 129,
   "metadata": {},
   "outputs": [
    {
     "name": "stdout",
     "output_type": "stream",
     "text": [
      "    device              end_ts  source_id            start_ts  \\\n",
      "0    touch 2017-12-20 17:38:00          4 2017-12-20 17:20:00   \n",
      "1  desktop 2018-02-19 17:21:00          2 2018-02-19 16:53:00   \n",
      "2    touch 2017-07-01 01:54:00          5 2017-07-01 01:54:00   \n",
      "3  desktop 2018-05-20 11:23:00          9 2018-05-20 10:59:00   \n",
      "4  desktop 2017-12-27 14:06:00          3 2017-12-27 14:06:00   \n",
      "\n",
      "                    uid  start_ts_year  start_ts_month  start_ts_week  \\\n",
      "0  16879256277535980062           2017              12             51   \n",
      "1    104060357244891740           2018               2              8   \n",
      "2   7459035603376831527           2017               7             26   \n",
      "3  16174680259334210214           2018               5             20   \n",
      "4   9969694820036681168           2017              12             52   \n",
      "\n",
      "  start_ts_date  \n",
      "0    2017-12-20  \n",
      "1    2018-02-19  \n",
      "2    2017-07-01  \n",
      "3    2018-05-20  \n",
      "4    2017-12-27  \n"
     ]
    }
   ],
   "source": [
    "#To make analysis for every day, week and month, first we fetch year, month and week from the visit table.\n",
    "\n",
    "data_visits['start_ts_year']  = data_visits['start_ts'].dt.year\n",
    "data_visits['start_ts_month'] = data_visits['start_ts'].dt.month\n",
    "data_visits['start_ts_week']  = data_visits['start_ts'].dt.week\n",
    "data_visits['start_ts_date'] = data_visits['start_ts'].dt.date\n",
    "print(data_visits.head()) "
   ]
  },
  {
   "cell_type": "code",
   "execution_count": 130,
   "metadata": {},
   "outputs": [
    {
     "name": "stdout",
     "output_type": "stream",
     "text": [
      "                uid\n",
      "start_ts_date      \n",
      "2017-06-01      605\n",
      "2017-06-02      608\n",
      "2017-06-03      445\n",
      "2017-06-04      476\n",
      "2017-06-05      820\n",
      "...             ...\n",
      "2018-05-27      620\n",
      "2018-05-28     1039\n",
      "2018-05-29      948\n",
      "2018-05-30     1289\n",
      "2018-05-31     1988\n",
      "\n",
      "[364 rows x 1 columns]\n",
      "    start_ts_year  start_ts_week   uid\n",
      "0            2017             22  2021\n",
      "1            2017             23  4129\n",
      "2            2017             24  2812\n",
      "3            2017             25  2878\n",
      "4            2017             26  3064\n",
      "..            ...            ...   ...\n",
      "48           2018             18  3916\n",
      "49           2018             19  4128\n",
      "50           2018             20  5070\n",
      "51           2018             21  4995\n",
      "52           2018             22  4884\n",
      "\n",
      "[53 rows x 3 columns]\n",
      "    start_ts_year  start_ts_month    uid\n",
      "0            2017               6  13259\n",
      "1            2017               7  14183\n",
      "2            2017               8  11631\n",
      "3            2017               9  18975\n",
      "4            2017              10  29692\n",
      "..            ...             ...    ...\n",
      "7            2018               1  28716\n",
      "8            2018               2  28749\n",
      "9            2018               3  27473\n",
      "10           2018               4  21008\n",
      "11           2018               5  20694\n",
      "\n",
      "[12 rows x 3 columns]\n"
     ]
    }
   ],
   "source": [
    "DAU = data_visits.groupby('start_ts_date').agg({'uid': 'nunique'})\n",
    "WAU = data_visits.groupby(['start_ts_year', 'start_ts_week']).agg({'uid': 'nunique'}).reset_index()\n",
    "MAU = data_visits.groupby(['start_ts_year', 'start_ts_month']).agg({'uid': 'nunique'}).reset_index()\n",
    "\n",
    "\n",
    "print(DAU)\n",
    "print(WAU)\n",
    "print(MAU) "
   ]
  },
  {
   "cell_type": "code",
   "execution_count": 131,
   "metadata": {},
   "outputs": [
    {
     "name": "stdout",
     "output_type": "stream",
     "text": [
      "On an Average Daily 908 users visits to Yandex.Afisha\n",
      "On an Average Weekly 5716 users visits to Yandex.Afisha.\n",
      "On an Average Monthly 23228 users visits to Yandex.Afisha.\n",
      "Sticky factor WAU 16\n",
      "Sticky factor MaU 4\n"
     ]
    }
   ],
   "source": [
    "DAU_total=DAU.uid.mean()\n",
    "WAU_total=WAU.uid.mean()\n",
    "MAU_total=MAU.uid.mean()\n",
    "\n",
    "sticky_wau=DAU_total/WAU_total*100\n",
    "sticky_mau=DAU_total/MAU_total*100\n",
    "\n",
    "print('On an Average Daily {0:.0f} users visits to Yandex.Afisha'.format(DAU_total))\n",
    "print('On an Average Weekly {0:.0f} users visits to Yandex.Afisha.'.format(WAU_total))\n",
    "print('On an Average Monthly {0:.0f} users visits to Yandex.Afisha.'.format(MAU_total))\n",
    "\n",
    "print('Sticky factor WAU',round(sticky_wau))\n",
    "print('Sticky factor MaU',round(sticky_mau))"
   ]
  },
  {
   "cell_type": "code",
   "execution_count": 132,
   "metadata": {
    "scrolled": true
   },
   "outputs": [
    {
     "data": {
      "image/png": "[encoded data removed]",
      "text/plain": [
       "<Figure size 720x360 with 1 Axes>"
      ]
     },
     "metadata": {},
     "output_type": "display_data"
    }
   ],
   "source": [
    "# Line graph for DAU.\n",
    "#import matplotlib.pyplot as plt\n",
    "plt.figure(figsize=(10,5))\n",
    "plt.plot(DAU.reset_index().start_ts_date,DAU.uid ,color='tab:red')\n",
    "plt.title('Daily Activity User Graph')\n",
    "plt.xlabel('Date-Month')\n",
    "plt.ylabel('Count of users')\n",
    "plt.show()"
   ]
  },
  {
   "cell_type": "code",
   "execution_count": 133,
   "metadata": {},
   "outputs": [
    {
     "name": "stdout",
     "output_type": "stream",
     "text": [
      "    start_ts_year  start_ts_month    uid Year-Month\n",
      "0            2017               6  13259     2017-6\n",
      "1            2017               7  14183     2017-7\n",
      "2            2017               8  11631     2017-8\n",
      "3            2017               9  18975     2017-9\n",
      "4            2017              10  29692    2017-10\n",
      "..            ...             ...    ...        ...\n",
      "7            2018               1  28716     2018-1\n",
      "8            2018               2  28749     2018-2\n",
      "9            2018               3  27473     2018-3\n",
      "10           2018               4  21008     2018-4\n",
      "11           2018               5  20694     2018-5\n",
      "\n",
      "[12 rows x 4 columns]\n"
     ]
    }
   ],
   "source": [
    "#print(MAU.columns)\n",
    "\n",
    "MAU['Year-Month']=+MAU['start_ts_year'].astype(str)+'-'+MAU['start_ts_month'].astype(str)\n",
    "print(MAU)"
   ]
  },
  {
   "cell_type": "code",
   "execution_count": 134,
   "metadata": {},
   "outputs": [
    {
     "data": {
      "text/plain": [
       "Text(0, 0.5, 'Total User')"
      ]
     },
     "execution_count": 134,
     "metadata": {},
     "output_type": "execute_result"
    },
    {
     "data": {
      "image/png": "[encoded data removed]",
      "text/plain": [
       "<Figure size 720x360 with 1 Axes>"
      ]
     },
     "metadata": {},
     "output_type": "display_data"
    }
   ],
   "source": [
    "#Bar Graph for MAU.\n",
    "#plt.figure(figsize=(10,5))\n",
    "MAU.plot(kind=\"bar\", title='Monthly Active User',x='Year-Month', y='uid', figsize=(10,5))\n",
    "plt.xlabel(\"Year-Month\")\n",
    "plt.ylabel(\"Total User\")"
   ]
  },
  {
   "cell_type": "markdown",
   "metadata": {},
   "source": [
    "#### Conclusion:\n",
    "1. After looking at DAU and MAU, we can say that users visits are maximum in November and December. \n",
    "2. Visists are at least in june, july, august and september.\n",
    "3. As per my analyses, Users spent more time on the website in winter and spring season."
   ]
  },
  {
   "cell_type": "markdown",
   "metadata": {},
   "source": []
  },
  {
   "cell_type": "code",
   "execution_count": 135,
   "metadata": {},
   "outputs": [
    {
     "name": "stdout",
     "output_type": "stream",
     "text": [
      "    start_ts_year  start_ts_week   uid Year-Week\n",
      "0            2017             22  2021   2017-22\n",
      "1            2017             23  4129   2017-23\n",
      "2            2017             24  2812   2017-24\n",
      "3            2017             25  2878   2017-25\n",
      "4            2017             26  3064   2017-26\n",
      "..            ...            ...   ...       ...\n",
      "48           2018             18  3916   2018-18\n",
      "49           2018             19  4128   2018-19\n",
      "50           2018             20  5070   2018-20\n",
      "51           2018             21  4995   2018-21\n",
      "52           2018             22  4884   2018-22\n",
      "\n",
      "[53 rows x 4 columns]\n"
     ]
    }
   ],
   "source": [
    "#WAU\n",
    "WAU['Year-Week']=+WAU['start_ts_year'].astype(str)+'-'+WAU['start_ts_week'].astype(str)\n",
    "print(WAU)"
   ]
  },
  {
   "cell_type": "code",
   "execution_count": 136,
   "metadata": {},
   "outputs": [
    {
     "data": {
      "image/png": "[encoded data removed]",
      "text/plain": [
       "<Figure size 1080x576 with 1 Axes>"
      ]
     },
     "metadata": {},
     "output_type": "display_data"
    }
   ],
   "source": [
    "# Line graph for WAU.\n",
    "#import matplotlib.pyplot as plt\n",
    "plt.figure(figsize=(15,8))\n",
    "plt.plot(WAU['Year-Week'],WAU.uid ,color='tab:red')\n",
    "plt.title('Weekly Activity User Graph')\n",
    "plt.xlabel('Year-Week')\n",
    "plt.ylabel('Count of users')\n",
    "plt.xticks(rotation=90)\n",
    "plt.show()"
   ]
  },
  {
   "cell_type": "markdown",
   "metadata": {},
   "source": [
    "#### Conclusion v.1\n",
    "1. As per above graphs, Users spends more time in winter and spring, This could be because website sells something related to winter/spring or something like movie tickets becuase it is indoor activity and in winter people generally prefer to go for indoor activity like theatre. \n",
    "2. If we look at daily graph, in March users count reaches to zero, may be that time some technical issue arrise so nobody was able to login in to the website.\n",
    "3. In the weekly graph, There is sharp increase in 2017-46, 2017-47 and 2017-48 week and decline in 2018-12 week."
   ]
  },
  {
   "cell_type": "markdown",
   "metadata": {},
   "source": [
    "### - How many sessions are there per day? (One user might have more than one session.)"
   ]
  },
  {
   "cell_type": "code",
   "execution_count": 137,
   "metadata": {},
   "outputs": [
    {
     "data": {
      "text/html": [
       "<div>\n",
       "<style scoped>\n",
       "    .dataframe tbody tr th:only-of-type {\n",
       "        vertical-align: middle;\n",
       "    }\n",
       "\n",
       "    .dataframe tbody tr th {\n",
       "        vertical-align: top;\n",
       "    }\n",
       "\n",
       "    .dataframe thead th {\n",
       "        text-align: right;\n",
       "    }\n",
       "</style>\n",
       "<table border=\"1\" class=\"dataframe\">\n",
       "  <thead>\n",
       "    <tr style=\"text-align: right;\">\n",
       "      <th></th>\n",
       "      <th>n_sessions</th>\n",
       "      <th>n_users</th>\n",
       "      <th>average_session_per_user</th>\n",
       "    </tr>\n",
       "    <tr>\n",
       "      <th>start_ts_date</th>\n",
       "      <th></th>\n",
       "      <th></th>\n",
       "      <th></th>\n",
       "    </tr>\n",
       "  </thead>\n",
       "  <tbody>\n",
       "    <tr>\n",
       "      <th>2017-11-24</th>\n",
       "      <td>4042</td>\n",
       "      <td>3319</td>\n",
       "      <td>1.217837</td>\n",
       "    </tr>\n",
       "    <tr>\n",
       "      <th>2018-05-31</th>\n",
       "      <td>2244</td>\n",
       "      <td>1988</td>\n",
       "      <td>1.128773</td>\n",
       "    </tr>\n",
       "    <tr>\n",
       "      <th>2017-11-25</th>\n",
       "      <td>2089</td>\n",
       "      <td>1817</td>\n",
       "      <td>1.149697</td>\n",
       "    </tr>\n",
       "    <tr>\n",
       "      <th>2018-02-01</th>\n",
       "      <td>1878</td>\n",
       "      <td>1640</td>\n",
       "      <td>1.145122</td>\n",
       "    </tr>\n",
       "    <tr>\n",
       "      <th>2018-03-26</th>\n",
       "      <td>1796</td>\n",
       "      <td>1609</td>\n",
       "      <td>1.116221</td>\n",
       "    </tr>\n",
       "    <tr>\n",
       "      <th>...</th>\n",
       "      <td>...</td>\n",
       "      <td>...</td>\n",
       "      <td>...</td>\n",
       "    </tr>\n",
       "    <tr>\n",
       "      <th>2017-08-06</th>\n",
       "      <td>296</td>\n",
       "      <td>282</td>\n",
       "      <td>1.049645</td>\n",
       "    </tr>\n",
       "    <tr>\n",
       "      <th>2017-08-12</th>\n",
       "      <td>296</td>\n",
       "      <td>271</td>\n",
       "      <td>1.092251</td>\n",
       "    </tr>\n",
       "    <tr>\n",
       "      <th>2017-08-13</th>\n",
       "      <td>293</td>\n",
       "      <td>281</td>\n",
       "      <td>1.042705</td>\n",
       "    </tr>\n",
       "    <tr>\n",
       "      <th>2018-03-30</th>\n",
       "      <td>134</td>\n",
       "      <td>131</td>\n",
       "      <td>1.022901</td>\n",
       "    </tr>\n",
       "    <tr>\n",
       "      <th>2018-03-31</th>\n",
       "      <td>1</td>\n",
       "      <td>1</td>\n",
       "      <td>1.000000</td>\n",
       "    </tr>\n",
       "  </tbody>\n",
       "</table>\n",
       "<p>364 rows × 3 columns</p>\n",
       "</div>"
      ],
      "text/plain": [
       "               n_sessions  n_users  average_session_per_user\n",
       "start_ts_date                                               \n",
       "2017-11-24           4042     3319                  1.217837\n",
       "2018-05-31           2244     1988                  1.128773\n",
       "2017-11-25           2089     1817                  1.149697\n",
       "2018-02-01           1878     1640                  1.145122\n",
       "2018-03-26           1796     1609                  1.116221\n",
       "...                   ...      ...                       ...\n",
       "2017-08-06            296      282                  1.049645\n",
       "2017-08-12            296      271                  1.092251\n",
       "2017-08-13            293      281                  1.042705\n",
       "2018-03-30            134      131                  1.022901\n",
       "2018-03-31              1        1                  1.000000\n",
       "\n",
       "[364 rows x 3 columns]"
      ]
     },
     "execution_count": 137,
     "metadata": {},
     "output_type": "execute_result"
    }
   ],
   "source": [
    "#caculating Session per day\n",
    "\n",
    "sessions_per_day=data_visits.groupby(['start_ts_date']).agg({'uid':['count','nunique']})\n",
    "sessions_per_day.columns = ['n_sessions', 'n_users']\n",
    "sessions_per_day['average_session_per_user']=sessions_per_day['n_sessions']/sessions_per_day['n_users']\n",
    "sessions_per_day=sessions_per_day.sort_values(by='n_sessions',ascending=False)\n",
    "sessions_per_day"
   ]
  },
  {
   "cell_type": "code",
   "execution_count": 138,
   "metadata": {},
   "outputs": [
    {
     "data": {
      "image/png": "[encoded data removed]",
      "text/plain": [
       "<Figure size 432x288 with 1 Axes>"
      ]
     },
     "metadata": {},
     "output_type": "display_data"
    }
   ],
   "source": [
    "kwargs=dict(alpha=0.5,bins=30)\n",
    "plt.hist(sessions_per_day['n_sessions'],**kwargs, label='Sessions')\n",
    "plt.gca().set(title='Session Per Day')\n",
    "plt.ylabel('No. Of Session') \n",
    "plt.xlabel('Count') \n",
    "plt.legend()\n",
    "plt.show()"
   ]
  },
  {
   "cell_type": "code",
   "execution_count": 139,
   "metadata": {},
   "outputs": [
    {
     "data": {
      "image/png": "[encoded data removed]",
      "text/plain": [
       "<Figure size 432x288 with 1 Axes>"
      ]
     },
     "metadata": {},
     "output_type": "display_data"
    }
   ],
   "source": [
    "#code added v.1\n",
    "kwargs=dict(alpha=0.5,bins=30)\n",
    "plt.hist(sessions_per_day['average_session_per_user'],**kwargs, label='Avg. Sessions Per User')\n",
    "plt.gca().set(title='Avg. Session Per User')\n",
    "plt.ylabel('Count') \n",
    "plt.xlabel('No. Of Session Per User') \n",
    "plt.legend()\n",
    "plt.show()"
   ]
  },
  {
   "cell_type": "markdown",
   "metadata": {},
   "source": [
    "As we can see from the above graph, data is not normally distributed and also there are some outlier available at 4000 so now I'll take median value to find the average session length."
   ]
  },
  {
   "cell_type": "code",
   "execution_count": 140,
   "metadata": {},
   "outputs": [
    {
     "name": "stdout",
     "output_type": "stream",
     "text": [
      "There are approx. 1003.00 no. of session per day\n"
     ]
    }
   ],
   "source": [
    "print('There are approx. {0:.2f} no. of session per day'.format(sessions_per_day['n_sessions'].median()))"
   ]
  },
  {
   "cell_type": "code",
   "execution_count": 141,
   "metadata": {},
   "outputs": [
    {
     "name": "stdout",
     "output_type": "stream",
     "text": [
      "On an average a user has 1.08 no of session per day\n"
     ]
    }
   ],
   "source": [
    "print('On an average a user has {0:.2f} no of session per day'.format(sessions_per_day['average_session_per_user'].mean()))"
   ]
  },
  {
   "cell_type": "code",
   "execution_count": 142,
   "metadata": {},
   "outputs": [
    {
     "data": {
      "text/html": [
       "<div>\n",
       "<style scoped>\n",
       "    .dataframe tbody tr th:only-of-type {\n",
       "        vertical-align: middle;\n",
       "    }\n",
       "\n",
       "    .dataframe tbody tr th {\n",
       "        vertical-align: top;\n",
       "    }\n",
       "\n",
       "    .dataframe thead th {\n",
       "        text-align: right;\n",
       "    }\n",
       "</style>\n",
       "<table border=\"1\" class=\"dataframe\">\n",
       "  <thead>\n",
       "    <tr style=\"text-align: right;\">\n",
       "      <th></th>\n",
       "      <th>start_ts_date</th>\n",
       "      <th>device</th>\n",
       "      <th>n_sessions</th>\n",
       "    </tr>\n",
       "  </thead>\n",
       "  <tbody>\n",
       "    <tr>\n",
       "      <th>0</th>\n",
       "      <td>2017-06-01</td>\n",
       "      <td>desktop</td>\n",
       "      <td>501</td>\n",
       "    </tr>\n",
       "    <tr>\n",
       "      <th>1</th>\n",
       "      <td>2017-06-01</td>\n",
       "      <td>touch</td>\n",
       "      <td>163</td>\n",
       "    </tr>\n",
       "    <tr>\n",
       "      <th>2</th>\n",
       "      <td>2017-06-02</td>\n",
       "      <td>desktop</td>\n",
       "      <td>498</td>\n",
       "    </tr>\n",
       "    <tr>\n",
       "      <th>3</th>\n",
       "      <td>2017-06-02</td>\n",
       "      <td>touch</td>\n",
       "      <td>160</td>\n",
       "    </tr>\n",
       "    <tr>\n",
       "      <th>4</th>\n",
       "      <td>2017-06-03</td>\n",
       "      <td>desktop</td>\n",
       "      <td>329</td>\n",
       "    </tr>\n",
       "    <tr>\n",
       "      <th>...</th>\n",
       "      <td>...</td>\n",
       "      <td>...</td>\n",
       "      <td>...</td>\n",
       "    </tr>\n",
       "    <tr>\n",
       "      <th>723</th>\n",
       "      <td>2018-05-29</td>\n",
       "      <td>touch</td>\n",
       "      <td>284</td>\n",
       "    </tr>\n",
       "    <tr>\n",
       "      <th>724</th>\n",
       "      <td>2018-05-30</td>\n",
       "      <td>desktop</td>\n",
       "      <td>989</td>\n",
       "    </tr>\n",
       "    <tr>\n",
       "      <th>725</th>\n",
       "      <td>2018-05-30</td>\n",
       "      <td>touch</td>\n",
       "      <td>421</td>\n",
       "    </tr>\n",
       "    <tr>\n",
       "      <th>726</th>\n",
       "      <td>2018-05-31</td>\n",
       "      <td>desktop</td>\n",
       "      <td>1536</td>\n",
       "    </tr>\n",
       "    <tr>\n",
       "      <th>727</th>\n",
       "      <td>2018-05-31</td>\n",
       "      <td>touch</td>\n",
       "      <td>708</td>\n",
       "    </tr>\n",
       "  </tbody>\n",
       "</table>\n",
       "<p>728 rows × 3 columns</p>\n",
       "</div>"
      ],
      "text/plain": [
       "    start_ts_date   device  n_sessions\n",
       "0      2017-06-01  desktop         501\n",
       "1      2017-06-01    touch         163\n",
       "2      2017-06-02  desktop         498\n",
       "3      2017-06-02    touch         160\n",
       "4      2017-06-03  desktop         329\n",
       "..            ...      ...         ...\n",
       "723    2018-05-29    touch         284\n",
       "724    2018-05-30  desktop         989\n",
       "725    2018-05-30    touch         421\n",
       "726    2018-05-31  desktop        1536\n",
       "727    2018-05-31    touch         708\n",
       "\n",
       "[728 rows x 3 columns]"
      ]
     },
     "execution_count": 142,
     "metadata": {},
     "output_type": "execute_result"
    }
   ],
   "source": [
    "#Split the distribution of sessions by device\n",
    "sessions_per_day_by_device=data_visits.groupby(['start_ts_date','device']).agg({'uid':'count'})\n",
    "sessions_per_day_by_device.columns = ['n_sessions']\n",
    "sessions_per_day_by_device=sessions_per_day_by_device.reset_index()\n",
    "sessions_per_day_by_device"
   ]
  },
  {
   "cell_type": "code",
   "execution_count": 143,
   "metadata": {},
   "outputs": [
    {
     "data": {
      "image/png": "[encoded data removed]",
      "text/plain": [
       "<Figure size 432x288 with 1 Axes>"
      ]
     },
     "metadata": {},
     "output_type": "display_data"
    }
   ],
   "source": [
    "kwargs=dict(alpha=0.5,bins=30)\n",
    "plt.hist(sessions_per_day_by_device[sessions_per_day_by_device['device']=='desktop']['n_sessions'],**kwargs,color='y',\n",
    "          label='desktop')\n",
    "plt.hist(sessions_per_day_by_device[sessions_per_day_by_device['device']=='touch']['n_sessions'],**kwargs,color='b',\n",
    "          label='touch')\n",
    "plt.gca().set(title='Session distribution on Device basis')\n",
    "plt.ylabel('No. Of Session') \n",
    "plt.xlabel('Count') \n",
    "plt.legend()\n",
    "plt.show()"
   ]
  },
  {
   "cell_type": "markdown",
   "metadata": {},
   "source": [
    "#### Conclusion\n",
    "1. On an average each user has 1 session per day.\n",
    "2. After grouping the data by device wise, we can say large portion of users still uses desktop than touch devices. which may be because the website is not that much user friendly for touch/mobile devices so we can ask the team to check the cause for this. If we are able to resolve the touch device issue surely we can further increase the count of session per day."
   ]
  },
  {
   "cell_type": "markdown",
   "metadata": {},
   "source": [
    "### - What is the length of each session?"
   ]
  },
  {
   "cell_type": "code",
   "execution_count": 144,
   "metadata": {},
   "outputs": [
    {
     "data": {
      "text/html": [
       "<div>\n",
       "<style scoped>\n",
       "    .dataframe tbody tr th:only-of-type {\n",
       "        vertical-align: middle;\n",
       "    }\n",
       "\n",
       "    .dataframe tbody tr th {\n",
       "        vertical-align: top;\n",
       "    }\n",
       "\n",
       "    .dataframe thead th {\n",
       "        text-align: right;\n",
       "    }\n",
       "</style>\n",
       "<table border=\"1\" class=\"dataframe\">\n",
       "  <thead>\n",
       "    <tr style=\"text-align: right;\">\n",
       "      <th></th>\n",
       "      <th>device</th>\n",
       "      <th>end_ts</th>\n",
       "      <th>source_id</th>\n",
       "      <th>start_ts</th>\n",
       "      <th>uid</th>\n",
       "      <th>start_ts_year</th>\n",
       "      <th>start_ts_month</th>\n",
       "      <th>start_ts_week</th>\n",
       "      <th>start_ts_date</th>\n",
       "      <th>session_length_sec</th>\n",
       "    </tr>\n",
       "  </thead>\n",
       "  <tbody>\n",
       "    <tr>\n",
       "      <th>0</th>\n",
       "      <td>touch</td>\n",
       "      <td>2017-12-20 17:38:00</td>\n",
       "      <td>4</td>\n",
       "      <td>2017-12-20 17:20:00</td>\n",
       "      <td>16879256277535980062</td>\n",
       "      <td>2017</td>\n",
       "      <td>12</td>\n",
       "      <td>51</td>\n",
       "      <td>2017-12-20</td>\n",
       "      <td>1080</td>\n",
       "    </tr>\n",
       "    <tr>\n",
       "      <th>1</th>\n",
       "      <td>desktop</td>\n",
       "      <td>2018-02-19 17:21:00</td>\n",
       "      <td>2</td>\n",
       "      <td>2018-02-19 16:53:00</td>\n",
       "      <td>104060357244891740</td>\n",
       "      <td>2018</td>\n",
       "      <td>2</td>\n",
       "      <td>8</td>\n",
       "      <td>2018-02-19</td>\n",
       "      <td>1680</td>\n",
       "    </tr>\n",
       "    <tr>\n",
       "      <th>2</th>\n",
       "      <td>touch</td>\n",
       "      <td>2017-07-01 01:54:00</td>\n",
       "      <td>5</td>\n",
       "      <td>2017-07-01 01:54:00</td>\n",
       "      <td>7459035603376831527</td>\n",
       "      <td>2017</td>\n",
       "      <td>7</td>\n",
       "      <td>26</td>\n",
       "      <td>2017-07-01</td>\n",
       "      <td>0</td>\n",
       "    </tr>\n",
       "    <tr>\n",
       "      <th>3</th>\n",
       "      <td>desktop</td>\n",
       "      <td>2018-05-20 11:23:00</td>\n",
       "      <td>9</td>\n",
       "      <td>2018-05-20 10:59:00</td>\n",
       "      <td>16174680259334210214</td>\n",
       "      <td>2018</td>\n",
       "      <td>5</td>\n",
       "      <td>20</td>\n",
       "      <td>2018-05-20</td>\n",
       "      <td>1440</td>\n",
       "    </tr>\n",
       "    <tr>\n",
       "      <th>4</th>\n",
       "      <td>desktop</td>\n",
       "      <td>2017-12-27 14:06:00</td>\n",
       "      <td>3</td>\n",
       "      <td>2017-12-27 14:06:00</td>\n",
       "      <td>9969694820036681168</td>\n",
       "      <td>2017</td>\n",
       "      <td>12</td>\n",
       "      <td>52</td>\n",
       "      <td>2017-12-27</td>\n",
       "      <td>0</td>\n",
       "    </tr>\n",
       "  </tbody>\n",
       "</table>\n",
       "</div>"
      ],
      "text/plain": [
       "    device              end_ts  source_id            start_ts  \\\n",
       "0    touch 2017-12-20 17:38:00          4 2017-12-20 17:20:00   \n",
       "1  desktop 2018-02-19 17:21:00          2 2018-02-19 16:53:00   \n",
       "2    touch 2017-07-01 01:54:00          5 2017-07-01 01:54:00   \n",
       "3  desktop 2018-05-20 11:23:00          9 2018-05-20 10:59:00   \n",
       "4  desktop 2017-12-27 14:06:00          3 2017-12-27 14:06:00   \n",
       "\n",
       "                    uid  start_ts_year  start_ts_month  start_ts_week  \\\n",
       "0  16879256277535980062           2017              12             51   \n",
       "1    104060357244891740           2018               2              8   \n",
       "2   7459035603376831527           2017               7             26   \n",
       "3  16174680259334210214           2018               5             20   \n",
       "4   9969694820036681168           2017              12             52   \n",
       "\n",
       "  start_ts_date  session_length_sec  \n",
       "0    2017-12-20                1080  \n",
       "1    2018-02-19                1680  \n",
       "2    2017-07-01                   0  \n",
       "3    2018-05-20                1440  \n",
       "4    2017-12-27                   0  "
      ]
     },
     "execution_count": 144,
     "metadata": {},
     "output_type": "execute_result"
    }
   ],
   "source": [
    "#Calculating session length\n",
    "data_visits['session_length_sec']=(data_visits.end_ts-data_visits.start_ts).dt.seconds\n",
    "data_visits.head()"
   ]
  },
  {
   "cell_type": "code",
   "execution_count": 145,
   "metadata": {},
   "outputs": [
    {
     "data": {
      "image/png": "[encoded data removed]",
      "text/plain": [
       "<Figure size 432x288 with 1 Axes>"
      ]
     },
     "metadata": {},
     "output_type": "display_data"
    }
   ],
   "source": [
    "#plot histograme for session length.\n",
    "plt.hist(data_visits['session_length_sec'],bins=100,range=[0,3000]) \n",
    "plt.title('Session Length')\n",
    "plt.xlabel('Session Length')\n",
    "plt.ylabel('No. of Sessions')\n",
    "plt.show()"
   ]
  },
  {
   "cell_type": "markdown",
   "metadata": {},
   "source": [
    "As distribution is not normal so mean is not the correct value for average session length. So we will calculate median to find the average session length."
   ]
  },
  {
   "cell_type": "code",
   "execution_count": 146,
   "metadata": {},
   "outputs": [],
   "source": [
    "\n",
    "avg_session_len=data_visits['session_length_sec'].mode()[0]\n",
    "#print(avg_seesion_len) "
   ]
  },
  {
   "cell_type": "code",
   "execution_count": 147,
   "metadata": {},
   "outputs": [
    {
     "name": "stdout",
     "output_type": "stream",
     "text": [
      "Average Session length per day: 60 sec.\n"
     ]
    }
   ],
   "source": [
    "print('Average Session length per day: {0} sec.'.format(avg_session_len)) "
   ]
  },
  {
   "cell_type": "markdown",
   "metadata": {},
   "source": [
    "#### Conclusion:\n",
    "\n",
    "So most of the users visit the app for 60 sec."
   ]
  },
  {
   "cell_type": "markdown",
   "metadata": {},
   "source": [
    "### - How often do users come back?"
   ]
  },
  {
   "cell_type": "code",
   "execution_count": 148,
   "metadata": {},
   "outputs": [],
   "source": [
    "first_activity_date = data_visits.groupby(['uid'])['start_ts_date'].min()\n",
    "first_activity_date.name = 'first_activity_date'\n",
    "data_visits = data_visits.join(first_activity_date,on='uid', how='left') "
   ]
  },
  {
   "cell_type": "code",
   "execution_count": 149,
   "metadata": {},
   "outputs": [
    {
     "data": {
      "text/plain": [
       "(359388, 11)"
      ]
     },
     "execution_count": 149,
     "metadata": {},
     "output_type": "execute_result"
    }
   ],
   "source": [
    "data_visits.shape"
   ]
  },
  {
   "cell_type": "code",
   "execution_count": 150,
   "metadata": {},
   "outputs": [],
   "source": [
    "data_visits['start_ts_date']=pd.to_datetime(data_visits['start_ts_date'])\n",
    "data_visits['first_activity_date']=pd.to_datetime(data_visits['first_activity_date'])"
   ]
  },
  {
   "cell_type": "code",
   "execution_count": 151,
   "metadata": {},
   "outputs": [
    {
     "name": "stdout",
     "output_type": "stream",
     "text": [
      "<class 'pandas.core.frame.DataFrame'>\n",
      "Int64Index: 359388 entries, 0 to 359399\n",
      "Data columns (total 11 columns):\n",
      " #   Column               Non-Null Count   Dtype         \n",
      "---  ------               --------------   -----         \n",
      " 0   device               359388 non-null  category      \n",
      " 1   end_ts               359388 non-null  datetime64[ns]\n",
      " 2   source_id            359388 non-null  int64         \n",
      " 3   start_ts             359388 non-null  datetime64[ns]\n",
      " 4   uid                  359388 non-null  uint64        \n",
      " 5   start_ts_year        359388 non-null  int64         \n",
      " 6   start_ts_month       359388 non-null  int64         \n",
      " 7   start_ts_week        359388 non-null  int64         \n",
      " 8   start_ts_date        359388 non-null  datetime64[ns]\n",
      " 9   session_length_sec   359388 non-null  int64         \n",
      " 10  first_activity_date  359388 non-null  datetime64[ns]\n",
      "dtypes: category(1), datetime64[ns](4), int64(5), uint64(1)\n",
      "memory usage: 40.5 MB\n"
     ]
    }
   ],
   "source": [
    "data_visits.info()"
   ]
  },
  {
   "cell_type": "code",
   "execution_count": 152,
   "metadata": {},
   "outputs": [],
   "source": [
    "data_visits['start_ts_monthly'] =  data_visits['start_ts_date'].astype('datetime64[M]') #pd.to_datetime(data_visits['start_ts_year'].astype(str)  + data_visits['start_ts_month'].astype(str), format='%Y%m')\n",
    "data_visits['first_activity_month'] = data_visits['first_activity_date'].astype('datetime64[M]')#pd.to_datetime((data_visits['first_activity_date'].dt.year).astype(str)+(data_visits['first_activity_date'].dt.month).astype(str),  format='%Y%m')"
   ]
  },
  {
   "cell_type": "code",
   "execution_count": 153,
   "metadata": {},
   "outputs": [],
   "source": [
    "data_retention=data_visits\n",
    "data_retention['cohort_lifetime_monthly'] = data_retention['start_ts_monthly'] - data_retention['first_activity_month']\n",
    "data_retention['cohort_lifetime_monthly'] = data_retention['cohort_lifetime_monthly'] / np.timedelta64(1,'M')\n",
    "data_retention['cohort_lifetime_monthly'] = data_retention['cohort_lifetime_monthly'].round().astype(int)\n",
    "#data_visits['cohort_lifetime_monthly'] = data_visits['cohort_lifetime_monthly'].astype(int)"
   ]
  },
  {
   "cell_type": "code",
   "execution_count": 154,
   "metadata": {},
   "outputs": [
    {
     "data": {
      "text/html": [
       "<div>\n",
       "<style scoped>\n",
       "    .dataframe tbody tr th:only-of-type {\n",
       "        vertical-align: middle;\n",
       "    }\n",
       "\n",
       "    .dataframe tbody tr th {\n",
       "        vertical-align: top;\n",
       "    }\n",
       "\n",
       "    .dataframe thead th {\n",
       "        text-align: right;\n",
       "    }\n",
       "</style>\n",
       "<table border=\"1\" class=\"dataframe\">\n",
       "  <thead>\n",
       "    <tr style=\"text-align: right;\">\n",
       "      <th></th>\n",
       "      <th>device</th>\n",
       "      <th>end_ts</th>\n",
       "      <th>source_id</th>\n",
       "      <th>start_ts</th>\n",
       "      <th>uid</th>\n",
       "      <th>start_ts_year</th>\n",
       "      <th>start_ts_month</th>\n",
       "      <th>start_ts_week</th>\n",
       "      <th>start_ts_date</th>\n",
       "      <th>session_length_sec</th>\n",
       "      <th>first_activity_date</th>\n",
       "      <th>start_ts_monthly</th>\n",
       "      <th>first_activity_month</th>\n",
       "      <th>cohort_lifetime_monthly</th>\n",
       "      <th>cohort_month</th>\n",
       "    </tr>\n",
       "  </thead>\n",
       "  <tbody>\n",
       "    <tr>\n",
       "      <th>0</th>\n",
       "      <td>touch</td>\n",
       "      <td>2017-12-20 17:38:00</td>\n",
       "      <td>4</td>\n",
       "      <td>2017-12-20 17:20:00</td>\n",
       "      <td>16879256277535980062</td>\n",
       "      <td>2017</td>\n",
       "      <td>12</td>\n",
       "      <td>51</td>\n",
       "      <td>2017-12-20</td>\n",
       "      <td>1080</td>\n",
       "      <td>2017-12-20</td>\n",
       "      <td>2017-12-01</td>\n",
       "      <td>2017-12-01</td>\n",
       "      <td>0</td>\n",
       "      <td>2017-12</td>\n",
       "    </tr>\n",
       "    <tr>\n",
       "      <th>1</th>\n",
       "      <td>desktop</td>\n",
       "      <td>2018-02-19 17:21:00</td>\n",
       "      <td>2</td>\n",
       "      <td>2018-02-19 16:53:00</td>\n",
       "      <td>104060357244891740</td>\n",
       "      <td>2018</td>\n",
       "      <td>2</td>\n",
       "      <td>8</td>\n",
       "      <td>2018-02-19</td>\n",
       "      <td>1680</td>\n",
       "      <td>2018-02-19</td>\n",
       "      <td>2018-02-01</td>\n",
       "      <td>2018-02-01</td>\n",
       "      <td>0</td>\n",
       "      <td>2018-02</td>\n",
       "    </tr>\n",
       "    <tr>\n",
       "      <th>2</th>\n",
       "      <td>touch</td>\n",
       "      <td>2017-07-01 01:54:00</td>\n",
       "      <td>5</td>\n",
       "      <td>2017-07-01 01:54:00</td>\n",
       "      <td>7459035603376831527</td>\n",
       "      <td>2017</td>\n",
       "      <td>7</td>\n",
       "      <td>26</td>\n",
       "      <td>2017-07-01</td>\n",
       "      <td>0</td>\n",
       "      <td>2017-07-01</td>\n",
       "      <td>2017-07-01</td>\n",
       "      <td>2017-07-01</td>\n",
       "      <td>0</td>\n",
       "      <td>2017-07</td>\n",
       "    </tr>\n",
       "    <tr>\n",
       "      <th>3</th>\n",
       "      <td>desktop</td>\n",
       "      <td>2018-05-20 11:23:00</td>\n",
       "      <td>9</td>\n",
       "      <td>2018-05-20 10:59:00</td>\n",
       "      <td>16174680259334210214</td>\n",
       "      <td>2018</td>\n",
       "      <td>5</td>\n",
       "      <td>20</td>\n",
       "      <td>2018-05-20</td>\n",
       "      <td>1440</td>\n",
       "      <td>2018-03-09</td>\n",
       "      <td>2018-05-01</td>\n",
       "      <td>2018-03-01</td>\n",
       "      <td>2</td>\n",
       "      <td>2018-03</td>\n",
       "    </tr>\n",
       "    <tr>\n",
       "      <th>4</th>\n",
       "      <td>desktop</td>\n",
       "      <td>2017-12-27 14:06:00</td>\n",
       "      <td>3</td>\n",
       "      <td>2017-12-27 14:06:00</td>\n",
       "      <td>9969694820036681168</td>\n",
       "      <td>2017</td>\n",
       "      <td>12</td>\n",
       "      <td>52</td>\n",
       "      <td>2017-12-27</td>\n",
       "      <td>0</td>\n",
       "      <td>2017-12-27</td>\n",
       "      <td>2017-12-01</td>\n",
       "      <td>2017-12-01</td>\n",
       "      <td>0</td>\n",
       "      <td>2017-12</td>\n",
       "    </tr>\n",
       "  </tbody>\n",
       "</table>\n",
       "</div>"
      ],
      "text/plain": [
       "    device              end_ts  source_id            start_ts  \\\n",
       "0    touch 2017-12-20 17:38:00          4 2017-12-20 17:20:00   \n",
       "1  desktop 2018-02-19 17:21:00          2 2018-02-19 16:53:00   \n",
       "2    touch 2017-07-01 01:54:00          5 2017-07-01 01:54:00   \n",
       "3  desktop 2018-05-20 11:23:00          9 2018-05-20 10:59:00   \n",
       "4  desktop 2017-12-27 14:06:00          3 2017-12-27 14:06:00   \n",
       "\n",
       "                    uid  start_ts_year  start_ts_month  start_ts_week  \\\n",
       "0  16879256277535980062           2017              12             51   \n",
       "1    104060357244891740           2018               2              8   \n",
       "2   7459035603376831527           2017               7             26   \n",
       "3  16174680259334210214           2018               5             20   \n",
       "4   9969694820036681168           2017              12             52   \n",
       "\n",
       "  start_ts_date  session_length_sec first_activity_date start_ts_monthly  \\\n",
       "0    2017-12-20                1080          2017-12-20       2017-12-01   \n",
       "1    2018-02-19                1680          2018-02-19       2018-02-01   \n",
       "2    2017-07-01                   0          2017-07-01       2017-07-01   \n",
       "3    2018-05-20                1440          2018-03-09       2018-05-01   \n",
       "4    2017-12-27                   0          2017-12-27       2017-12-01   \n",
       "\n",
       "  first_activity_month  cohort_lifetime_monthly cohort_month  \n",
       "0           2017-12-01                        0      2017-12  \n",
       "1           2018-02-01                        0      2018-02  \n",
       "2           2017-07-01                        0      2017-07  \n",
       "3           2018-03-01                        2      2018-03  \n",
       "4           2017-12-01                        0      2017-12  "
      ]
     },
     "execution_count": 154,
     "metadata": {},
     "output_type": "execute_result"
    }
   ],
   "source": [
    "data_retention['cohort_month']=data_retention['first_activity_month'].dt.strftime('%Y-%m') \n",
    "data_retention.head()\n"
   ]
  },
  {
   "cell_type": "code",
   "execution_count": 155,
   "metadata": {},
   "outputs": [],
   "source": [
    "cohorts_monthly = data_retention.groupby(['first_activity_month','cohort_lifetime_monthly']).agg({'uid':'nunique'}).reset_index() # Build the data frame with cohorts here"
   ]
  },
  {
   "cell_type": "code",
   "execution_count": 156,
   "metadata": {},
   "outputs": [
    {
     "data": {
      "text/html": [
       "<div>\n",
       "<style scoped>\n",
       "    .dataframe tbody tr th:only-of-type {\n",
       "        vertical-align: middle;\n",
       "    }\n",
       "\n",
       "    .dataframe tbody tr th {\n",
       "        vertical-align: top;\n",
       "    }\n",
       "\n",
       "    .dataframe thead th {\n",
       "        text-align: right;\n",
       "    }\n",
       "</style>\n",
       "<table border=\"1\" class=\"dataframe\">\n",
       "  <thead>\n",
       "    <tr style=\"text-align: right;\">\n",
       "      <th></th>\n",
       "      <th>first_activity_month</th>\n",
       "      <th>cohort_lifetime_monthly</th>\n",
       "      <th>uid</th>\n",
       "    </tr>\n",
       "  </thead>\n",
       "  <tbody>\n",
       "    <tr>\n",
       "      <th>0</th>\n",
       "      <td>2017-06-01</td>\n",
       "      <td>0</td>\n",
       "      <td>13259</td>\n",
       "    </tr>\n",
       "    <tr>\n",
       "      <th>1</th>\n",
       "      <td>2017-06-01</td>\n",
       "      <td>1</td>\n",
       "      <td>1043</td>\n",
       "    </tr>\n",
       "    <tr>\n",
       "      <th>2</th>\n",
       "      <td>2017-06-01</td>\n",
       "      <td>2</td>\n",
       "      <td>713</td>\n",
       "    </tr>\n",
       "    <tr>\n",
       "      <th>3</th>\n",
       "      <td>2017-06-01</td>\n",
       "      <td>3</td>\n",
       "      <td>814</td>\n",
       "    </tr>\n",
       "    <tr>\n",
       "      <th>4</th>\n",
       "      <td>2017-06-01</td>\n",
       "      <td>4</td>\n",
       "      <td>909</td>\n",
       "    </tr>\n",
       "  </tbody>\n",
       "</table>\n",
       "</div>"
      ],
      "text/plain": [
       "  first_activity_month  cohort_lifetime_monthly    uid\n",
       "0           2017-06-01                        0  13259\n",
       "1           2017-06-01                        1   1043\n",
       "2           2017-06-01                        2    713\n",
       "3           2017-06-01                        3    814\n",
       "4           2017-06-01                        4    909"
      ]
     },
     "execution_count": 156,
     "metadata": {},
     "output_type": "execute_result"
    }
   ],
   "source": [
    "\n",
    "cohorts_monthly.head()"
   ]
  },
  {
   "cell_type": "code",
   "execution_count": 157,
   "metadata": {},
   "outputs": [],
   "source": [
    "initial_users_count_monthly = cohorts_monthly[cohorts_monthly['cohort_lifetime_monthly'] == 0][['first_activity_month','uid']]"
   ]
  },
  {
   "cell_type": "code",
   "execution_count": 158,
   "metadata": {},
   "outputs": [
    {
     "data": {
      "text/html": [
       "<div>\n",
       "<style scoped>\n",
       "    .dataframe tbody tr th:only-of-type {\n",
       "        vertical-align: middle;\n",
       "    }\n",
       "\n",
       "    .dataframe tbody tr th {\n",
       "        vertical-align: top;\n",
       "    }\n",
       "\n",
       "    .dataframe thead th {\n",
       "        text-align: right;\n",
       "    }\n",
       "</style>\n",
       "<table border=\"1\" class=\"dataframe\">\n",
       "  <thead>\n",
       "    <tr style=\"text-align: right;\">\n",
       "      <th></th>\n",
       "      <th>first_activity_month</th>\n",
       "      <th>uid</th>\n",
       "    </tr>\n",
       "  </thead>\n",
       "  <tbody>\n",
       "    <tr>\n",
       "      <th>0</th>\n",
       "      <td>2017-06-01</td>\n",
       "      <td>13259</td>\n",
       "    </tr>\n",
       "    <tr>\n",
       "      <th>12</th>\n",
       "      <td>2017-07-01</td>\n",
       "      <td>13140</td>\n",
       "    </tr>\n",
       "    <tr>\n",
       "      <th>23</th>\n",
       "      <td>2017-08-01</td>\n",
       "      <td>10181</td>\n",
       "    </tr>\n",
       "    <tr>\n",
       "      <th>33</th>\n",
       "      <td>2017-09-01</td>\n",
       "      <td>16704</td>\n",
       "    </tr>\n",
       "    <tr>\n",
       "      <th>42</th>\n",
       "      <td>2017-10-01</td>\n",
       "      <td>25977</td>\n",
       "    </tr>\n",
       "  </tbody>\n",
       "</table>\n",
       "</div>"
      ],
      "text/plain": [
       "   first_activity_month    uid\n",
       "0            2017-06-01  13259\n",
       "12           2017-07-01  13140\n",
       "23           2017-08-01  10181\n",
       "33           2017-09-01  16704\n",
       "42           2017-10-01  25977"
      ]
     },
     "execution_count": 158,
     "metadata": {},
     "output_type": "execute_result"
    }
   ],
   "source": [
    "initial_users_count_monthly.head()"
   ]
  },
  {
   "cell_type": "code",
   "execution_count": 159,
   "metadata": {},
   "outputs": [],
   "source": [
    "initial_users_count_monthly = initial_users_count_monthly.rename(columns={'uid':'cohort_users_monthly'})  # Rename the data frame column"
   ]
  },
  {
   "cell_type": "code",
   "execution_count": 160,
   "metadata": {},
   "outputs": [],
   "source": [
    "cohorts_monthly = cohorts_monthly.merge(initial_users_count_monthly,on='first_activity_month') # Join the data frames cohorts and initital_users_count"
   ]
  },
  {
   "cell_type": "code",
   "execution_count": 161,
   "metadata": {},
   "outputs": [
    {
     "data": {
      "text/html": [
       "<div>\n",
       "<style scoped>\n",
       "    .dataframe tbody tr th:only-of-type {\n",
       "        vertical-align: middle;\n",
       "    }\n",
       "\n",
       "    .dataframe tbody tr th {\n",
       "        vertical-align: top;\n",
       "    }\n",
       "\n",
       "    .dataframe thead th {\n",
       "        text-align: right;\n",
       "    }\n",
       "</style>\n",
       "<table border=\"1\" class=\"dataframe\">\n",
       "  <thead>\n",
       "    <tr style=\"text-align: right;\">\n",
       "      <th></th>\n",
       "      <th>first_activity_month</th>\n",
       "      <th>cohort_lifetime_monthly</th>\n",
       "      <th>uid</th>\n",
       "      <th>cohort_users_monthly</th>\n",
       "    </tr>\n",
       "  </thead>\n",
       "  <tbody>\n",
       "    <tr>\n",
       "      <th>0</th>\n",
       "      <td>2017-06-01</td>\n",
       "      <td>0</td>\n",
       "      <td>13259</td>\n",
       "      <td>13259</td>\n",
       "    </tr>\n",
       "    <tr>\n",
       "      <th>1</th>\n",
       "      <td>2017-06-01</td>\n",
       "      <td>1</td>\n",
       "      <td>1043</td>\n",
       "      <td>13259</td>\n",
       "    </tr>\n",
       "    <tr>\n",
       "      <th>2</th>\n",
       "      <td>2017-06-01</td>\n",
       "      <td>2</td>\n",
       "      <td>713</td>\n",
       "      <td>13259</td>\n",
       "    </tr>\n",
       "    <tr>\n",
       "      <th>3</th>\n",
       "      <td>2017-06-01</td>\n",
       "      <td>3</td>\n",
       "      <td>814</td>\n",
       "      <td>13259</td>\n",
       "    </tr>\n",
       "    <tr>\n",
       "      <th>4</th>\n",
       "      <td>2017-06-01</td>\n",
       "      <td>4</td>\n",
       "      <td>909</td>\n",
       "      <td>13259</td>\n",
       "    </tr>\n",
       "  </tbody>\n",
       "</table>\n",
       "</div>"
      ],
      "text/plain": [
       "  first_activity_month  cohort_lifetime_monthly    uid  cohort_users_monthly\n",
       "0           2017-06-01                        0  13259                 13259\n",
       "1           2017-06-01                        1   1043                 13259\n",
       "2           2017-06-01                        2    713                 13259\n",
       "3           2017-06-01                        3    814                 13259\n",
       "4           2017-06-01                        4    909                 13259"
      ]
     },
     "execution_count": 161,
     "metadata": {},
     "output_type": "execute_result"
    }
   ],
   "source": [
    "\n",
    "cohorts_monthly.head()"
   ]
  },
  {
   "cell_type": "code",
   "execution_count": 162,
   "metadata": {},
   "outputs": [],
   "source": [
    "\n",
    "cohorts_monthly['retention'] = cohorts_monthly['uid']/cohorts_monthly['cohort_users_monthly']  # Calculate retention rate"
   ]
  },
  {
   "cell_type": "code",
   "execution_count": 163,
   "metadata": {},
   "outputs": [
    {
     "data": {
      "text/html": [
       "<div>\n",
       "<style scoped>\n",
       "    .dataframe tbody tr th:only-of-type {\n",
       "        vertical-align: middle;\n",
       "    }\n",
       "\n",
       "    .dataframe tbody tr th {\n",
       "        vertical-align: top;\n",
       "    }\n",
       "\n",
       "    .dataframe thead th {\n",
       "        text-align: right;\n",
       "    }\n",
       "</style>\n",
       "<table border=\"1\" class=\"dataframe\">\n",
       "  <thead>\n",
       "    <tr style=\"text-align: right;\">\n",
       "      <th></th>\n",
       "      <th>first_activity_month</th>\n",
       "      <th>cohort_lifetime_monthly</th>\n",
       "      <th>uid</th>\n",
       "      <th>cohort_users_monthly</th>\n",
       "      <th>retention</th>\n",
       "    </tr>\n",
       "  </thead>\n",
       "  <tbody>\n",
       "    <tr>\n",
       "      <th>1</th>\n",
       "      <td>2017-06</td>\n",
       "      <td>1</td>\n",
       "      <td>1043</td>\n",
       "      <td>13259</td>\n",
       "      <td>0.078664</td>\n",
       "    </tr>\n",
       "    <tr>\n",
       "      <th>2</th>\n",
       "      <td>2017-06</td>\n",
       "      <td>2</td>\n",
       "      <td>713</td>\n",
       "      <td>13259</td>\n",
       "      <td>0.053775</td>\n",
       "    </tr>\n",
       "    <tr>\n",
       "      <th>3</th>\n",
       "      <td>2017-06</td>\n",
       "      <td>3</td>\n",
       "      <td>814</td>\n",
       "      <td>13259</td>\n",
       "      <td>0.061392</td>\n",
       "    </tr>\n",
       "    <tr>\n",
       "      <th>4</th>\n",
       "      <td>2017-06</td>\n",
       "      <td>4</td>\n",
       "      <td>909</td>\n",
       "      <td>13259</td>\n",
       "      <td>0.068557</td>\n",
       "    </tr>\n",
       "    <tr>\n",
       "      <th>5</th>\n",
       "      <td>2017-06</td>\n",
       "      <td>5</td>\n",
       "      <td>947</td>\n",
       "      <td>13259</td>\n",
       "      <td>0.071423</td>\n",
       "    </tr>\n",
       "  </tbody>\n",
       "</table>\n",
       "</div>"
      ],
      "text/plain": [
       "  first_activity_month  cohort_lifetime_monthly   uid  cohort_users_monthly  \\\n",
       "1              2017-06                        1  1043                 13259   \n",
       "2              2017-06                        2   713                 13259   \n",
       "3              2017-06                        3   814                 13259   \n",
       "4              2017-06                        4   909                 13259   \n",
       "5              2017-06                        5   947                 13259   \n",
       "\n",
       "   retention  \n",
       "1   0.078664  \n",
       "2   0.053775  \n",
       "3   0.061392  \n",
       "4   0.068557  \n",
       "5   0.071423  "
      ]
     },
     "execution_count": 163,
     "metadata": {},
     "output_type": "execute_result"
    }
   ],
   "source": [
    "\n",
    "cohorts_monthly['first_activity_month'] = cohorts_monthly['first_activity_month'].dt.strftime('%Y-%m') \n",
    "cohorts_monthly=cohorts_monthly[cohorts_monthly.cohort_lifetime_monthly>0]\n",
    "cohorts_monthly.head()\n",
    "#data_retention_clean=data_retention[data_retention.cohort_lifetime_monthly>0]"
   ]
  },
  {
   "cell_type": "code",
   "execution_count": 164,
   "metadata": {},
   "outputs": [],
   "source": [
    "\n",
    "retention_pivot = cohorts_monthly.pivot_table(index='first_activity_month',columns='cohort_lifetime_monthly',values='retention',aggfunc='sum')\n"
   ]
  },
  {
   "cell_type": "code",
   "execution_count": 165,
   "metadata": {},
   "outputs": [
    {
     "data": {
      "text/html": [
       "<div>\n",
       "<style scoped>\n",
       "    .dataframe tbody tr th:only-of-type {\n",
       "        vertical-align: middle;\n",
       "    }\n",
       "\n",
       "    .dataframe tbody tr th {\n",
       "        vertical-align: top;\n",
       "    }\n",
       "\n",
       "    .dataframe thead th {\n",
       "        text-align: right;\n",
       "    }\n",
       "</style>\n",
       "<table border=\"1\" class=\"dataframe\">\n",
       "  <thead>\n",
       "    <tr style=\"text-align: right;\">\n",
       "      <th>cohort_lifetime_monthly</th>\n",
       "      <th>1</th>\n",
       "      <th>2</th>\n",
       "      <th>3</th>\n",
       "      <th>4</th>\n",
       "      <th>5</th>\n",
       "      <th>6</th>\n",
       "      <th>7</th>\n",
       "      <th>8</th>\n",
       "      <th>9</th>\n",
       "      <th>10</th>\n",
       "      <th>11</th>\n",
       "    </tr>\n",
       "    <tr>\n",
       "      <th>first_activity_month</th>\n",
       "      <th></th>\n",
       "      <th></th>\n",
       "      <th></th>\n",
       "      <th></th>\n",
       "      <th></th>\n",
       "      <th></th>\n",
       "      <th></th>\n",
       "      <th></th>\n",
       "      <th></th>\n",
       "      <th></th>\n",
       "      <th></th>\n",
       "    </tr>\n",
       "  </thead>\n",
       "  <tbody>\n",
       "    <tr>\n",
       "      <th>2017-06</th>\n",
       "      <td>0.078664</td>\n",
       "      <td>0.053775</td>\n",
       "      <td>0.061392</td>\n",
       "      <td>0.068557</td>\n",
       "      <td>0.071423</td>\n",
       "      <td>0.061015</td>\n",
       "      <td>0.057772</td>\n",
       "      <td>0.052342</td>\n",
       "      <td>0.050833</td>\n",
       "      <td>0.040652</td>\n",
       "      <td>0.044951</td>\n",
       "    </tr>\n",
       "    <tr>\n",
       "      <th>2017-07</th>\n",
       "      <td>0.056088</td>\n",
       "      <td>0.051294</td>\n",
       "      <td>0.056164</td>\n",
       "      <td>0.058219</td>\n",
       "      <td>0.048174</td>\n",
       "      <td>0.045358</td>\n",
       "      <td>0.045738</td>\n",
       "      <td>0.038813</td>\n",
       "      <td>0.028615</td>\n",
       "      <td>0.027473</td>\n",
       "      <td>NaN</td>\n",
       "    </tr>\n",
       "    <tr>\n",
       "      <th>2017-08</th>\n",
       "      <td>0.076908</td>\n",
       "      <td>0.062862</td>\n",
       "      <td>0.062764</td>\n",
       "      <td>0.050093</td>\n",
       "      <td>0.044004</td>\n",
       "      <td>0.036342</td>\n",
       "      <td>0.039485</td>\n",
       "      <td>0.027895</td>\n",
       "      <td>0.026029</td>\n",
       "      <td>NaN</td>\n",
       "      <td>NaN</td>\n",
       "    </tr>\n",
       "    <tr>\n",
       "      <th>2017-09</th>\n",
       "      <td>0.085489</td>\n",
       "      <td>0.069205</td>\n",
       "      <td>0.050706</td>\n",
       "      <td>0.039392</td>\n",
       "      <td>0.037835</td>\n",
       "      <td>0.035860</td>\n",
       "      <td>0.024186</td>\n",
       "      <td>0.022809</td>\n",
       "      <td>NaN</td>\n",
       "      <td>NaN</td>\n",
       "      <td>NaN</td>\n",
       "    </tr>\n",
       "    <tr>\n",
       "      <th>2017-10</th>\n",
       "      <td>0.078608</td>\n",
       "      <td>0.052239</td>\n",
       "      <td>0.038958</td>\n",
       "      <td>0.034261</td>\n",
       "      <td>0.032221</td>\n",
       "      <td>0.021365</td>\n",
       "      <td>0.020364</td>\n",
       "      <td>NaN</td>\n",
       "      <td>NaN</td>\n",
       "      <td>NaN</td>\n",
       "      <td>NaN</td>\n",
       "    </tr>\n",
       "    <tr>\n",
       "      <th>...</th>\n",
       "      <td>...</td>\n",
       "      <td>...</td>\n",
       "      <td>...</td>\n",
       "      <td>...</td>\n",
       "      <td>...</td>\n",
       "      <td>...</td>\n",
       "      <td>...</td>\n",
       "      <td>...</td>\n",
       "      <td>...</td>\n",
       "      <td>...</td>\n",
       "      <td>...</td>\n",
       "    </tr>\n",
       "    <tr>\n",
       "      <th>2017-12</th>\n",
       "      <td>0.055802</td>\n",
       "      <td>0.037993</td>\n",
       "      <td>0.031107</td>\n",
       "      <td>0.020263</td>\n",
       "      <td>0.019036</td>\n",
       "      <td>NaN</td>\n",
       "      <td>NaN</td>\n",
       "      <td>NaN</td>\n",
       "      <td>NaN</td>\n",
       "      <td>NaN</td>\n",
       "      <td>NaN</td>\n",
       "    </tr>\n",
       "    <tr>\n",
       "      <th>2018-01</th>\n",
       "      <td>0.059715</td>\n",
       "      <td>0.039339</td>\n",
       "      <td>0.024973</td>\n",
       "      <td>0.020244</td>\n",
       "      <td>NaN</td>\n",
       "      <td>NaN</td>\n",
       "      <td>NaN</td>\n",
       "      <td>NaN</td>\n",
       "      <td>NaN</td>\n",
       "      <td>NaN</td>\n",
       "      <td>NaN</td>\n",
       "    </tr>\n",
       "    <tr>\n",
       "      <th>2018-02</th>\n",
       "      <td>0.057080</td>\n",
       "      <td>0.025454</td>\n",
       "      <td>0.020093</td>\n",
       "      <td>NaN</td>\n",
       "      <td>NaN</td>\n",
       "      <td>NaN</td>\n",
       "      <td>NaN</td>\n",
       "      <td>NaN</td>\n",
       "      <td>NaN</td>\n",
       "      <td>NaN</td>\n",
       "      <td>NaN</td>\n",
       "    </tr>\n",
       "    <tr>\n",
       "      <th>2018-03</th>\n",
       "      <td>0.041818</td>\n",
       "      <td>0.027053</td>\n",
       "      <td>NaN</td>\n",
       "      <td>NaN</td>\n",
       "      <td>NaN</td>\n",
       "      <td>NaN</td>\n",
       "      <td>NaN</td>\n",
       "      <td>NaN</td>\n",
       "      <td>NaN</td>\n",
       "      <td>NaN</td>\n",
       "      <td>NaN</td>\n",
       "    </tr>\n",
       "    <tr>\n",
       "      <th>2018-04</th>\n",
       "      <td>0.048380</td>\n",
       "      <td>NaN</td>\n",
       "      <td>NaN</td>\n",
       "      <td>NaN</td>\n",
       "      <td>NaN</td>\n",
       "      <td>NaN</td>\n",
       "      <td>NaN</td>\n",
       "      <td>NaN</td>\n",
       "      <td>NaN</td>\n",
       "      <td>NaN</td>\n",
       "      <td>NaN</td>\n",
       "    </tr>\n",
       "  </tbody>\n",
       "</table>\n",
       "<p>11 rows × 11 columns</p>\n",
       "</div>"
      ],
      "text/plain": [
       "cohort_lifetime_monthly        1         2         3         4         5   \\\n",
       "first_activity_month                                                        \n",
       "2017-06                  0.078664  0.053775  0.061392  0.068557  0.071423   \n",
       "2017-07                  0.056088  0.051294  0.056164  0.058219  0.048174   \n",
       "2017-08                  0.076908  0.062862  0.062764  0.050093  0.044004   \n",
       "2017-09                  0.085489  0.069205  0.050706  0.039392  0.037835   \n",
       "2017-10                  0.078608  0.052239  0.038958  0.034261  0.032221   \n",
       "...                           ...       ...       ...       ...       ...   \n",
       "2017-12                  0.055802  0.037993  0.031107  0.020263  0.019036   \n",
       "2018-01                  0.059715  0.039339  0.024973  0.020244       NaN   \n",
       "2018-02                  0.057080  0.025454  0.020093       NaN       NaN   \n",
       "2018-03                  0.041818  0.027053       NaN       NaN       NaN   \n",
       "2018-04                  0.048380       NaN       NaN       NaN       NaN   \n",
       "\n",
       "cohort_lifetime_monthly        6         7         8         9         10  \\\n",
       "first_activity_month                                                        \n",
       "2017-06                  0.061015  0.057772  0.052342  0.050833  0.040652   \n",
       "2017-07                  0.045358  0.045738  0.038813  0.028615  0.027473   \n",
       "2017-08                  0.036342  0.039485  0.027895  0.026029       NaN   \n",
       "2017-09                  0.035860  0.024186  0.022809       NaN       NaN   \n",
       "2017-10                  0.021365  0.020364       NaN       NaN       NaN   \n",
       "...                           ...       ...       ...       ...       ...   \n",
       "2017-12                       NaN       NaN       NaN       NaN       NaN   \n",
       "2018-01                       NaN       NaN       NaN       NaN       NaN   \n",
       "2018-02                       NaN       NaN       NaN       NaN       NaN   \n",
       "2018-03                       NaN       NaN       NaN       NaN       NaN   \n",
       "2018-04                       NaN       NaN       NaN       NaN       NaN   \n",
       "\n",
       "cohort_lifetime_monthly        11  \n",
       "first_activity_month               \n",
       "2017-06                  0.044951  \n",
       "2017-07                       NaN  \n",
       "2017-08                       NaN  \n",
       "2017-09                       NaN  \n",
       "2017-10                       NaN  \n",
       "...                           ...  \n",
       "2017-12                       NaN  \n",
       "2018-01                       NaN  \n",
       "2018-02                       NaN  \n",
       "2018-03                       NaN  \n",
       "2018-04                       NaN  \n",
       "\n",
       "[11 rows x 11 columns]"
      ]
     },
     "metadata": {},
     "output_type": "display_data"
    }
   ],
   "source": [
    "display(retention_pivot)"
   ]
  },
  {
   "cell_type": "code",
   "execution_count": 166,
   "metadata": {},
   "outputs": [
    {
     "data": {
      "text/plain": [
       "<AxesSubplot:title={'center':'Cohorts: User Retention'}, xlabel='cohort_lifetime_monthly', ylabel='first_activity_month'>"
      ]
     },
     "execution_count": 166,
     "metadata": {},
     "output_type": "execute_result"
    },
    {
     "data": {
      "image/png": "[encoded data removed]",
      "text/plain": [
       "<Figure size 1080x360 with 2 Axes>"
      ]
     },
     "metadata": {},
     "output_type": "display_data"
    }
   ],
   "source": [
    "import seaborn as sns\n",
    "from matplotlib import pyplot as plt\n",
    "\n",
    "sns.set(style='white')\n",
    "plt.figure(figsize=(15, 5))\n",
    "plt.title('Cohorts: User Retention')\n",
    "sns.heatmap(\n",
    "    retention_pivot, annot=True, fmt='.1%', linewidths=1, linecolor='gray'\n",
    ") \n",
    "\n"
   ]
  },
  {
   "cell_type": "markdown",
   "metadata": {},
   "source": [
    "##### Conclusion"
   ]
  },
  {
   "cell_type": "markdown",
   "metadata": {},
   "source": [
    "1. From the above graph, we can conclude that users retention rate is decreasing drastically for every cohort in every month.\n",
    "2. June 2017 till November 2017 are doing better in 1 month as compared to other cohort. Among all september cohort retention rate is best in 1st month.\n",
    "3. June cohort overall retention rate is better as compared to other cohort."
   ]
  },
  {
   "cell_type": "markdown",
   "metadata": {},
   "source": [
    "### Sales"
   ]
  },
  {
   "cell_type": "markdown",
   "metadata": {},
   "source": [
    "#### - When do people start buying? (In KPI analysis, we're usually interested in knowing the time that elapses between registration and conversion — when the user becomes a customer. For example, if registration and the first purchase occur on the same day, the user might fall into category Conversion 0d. If the first purchase happens the next day, it will be Conversion 1d. You can use any approach that lets you compare the conversions of different cohorts, so that you can determine which cohort, or marketing channel, is most effective.)"
   ]
  },
  {
   "cell_type": "code",
   "execution_count": 167,
   "metadata": {},
   "outputs": [
    {
     "data": {
      "text/plain": [
       "(359388, 15)"
      ]
     },
     "execution_count": 167,
     "metadata": {},
     "output_type": "execute_result"
    }
   ],
   "source": [
    "data_visits.shape"
   ]
  },
  {
   "cell_type": "code",
   "execution_count": 168,
   "metadata": {},
   "outputs": [
    {
     "data": {
      "text/plain": [
       "(36523, 3)"
      ]
     },
     "execution_count": 168,
     "metadata": {},
     "output_type": "execute_result"
    }
   ],
   "source": [
    "df_user_first_visit=data_visits.groupby('uid').agg({'start_ts':'min'}).reset_index()#['start_ts_date'].min()\n",
    "df_user_first_visit.columns=['uid','first_visit']\n",
    "\n",
    "df_user_first_order=data_orders.groupby('uid').agg({'buy_ts':'min'}).reset_index()\n",
    "df_user_first_order.columns=['uid','first_order']\n",
    "\n",
    "\n",
    "df_merged=df_user_first_visit.merge(df_user_first_order, on='uid', how='right')\n",
    "df_merged.columns=['uid','first_visit','first_order']\n",
    "\n",
    "df_merged.first_visit=df_merged.first_visit.fillna(df_merged.first_order)\n",
    "\n",
    "df_merged.shape\n"
   ]
  },
  {
   "cell_type": "code",
   "execution_count": 169,
   "metadata": {},
   "outputs": [
    {
     "data": {
      "text/html": [
       "<div>\n",
       "<style scoped>\n",
       "    .dataframe tbody tr th:only-of-type {\n",
       "        vertical-align: middle;\n",
       "    }\n",
       "\n",
       "    .dataframe tbody tr th {\n",
       "        vertical-align: top;\n",
       "    }\n",
       "\n",
       "    .dataframe thead th {\n",
       "        text-align: right;\n",
       "    }\n",
       "</style>\n",
       "<table border=\"1\" class=\"dataframe\">\n",
       "  <thead>\n",
       "    <tr style=\"text-align: right;\">\n",
       "      <th></th>\n",
       "      <th>uid</th>\n",
       "      <th>first_visit</th>\n",
       "      <th>first_order</th>\n",
       "    </tr>\n",
       "  </thead>\n",
       "  <tbody>\n",
       "  </tbody>\n",
       "</table>\n",
       "</div>"
      ],
      "text/plain": [
       "Empty DataFrame\n",
       "Columns: [uid, first_visit, first_order]\n",
       "Index: []"
      ]
     },
     "execution_count": 169,
     "metadata": {},
     "output_type": "execute_result"
    }
   ],
   "source": [
    "#checking if there is any records for whome order date is prior to visit date.\n",
    "df_merged[df_merged.first_order<df_merged.first_visit]\n",
    "\n"
   ]
  },
  {
   "cell_type": "code",
   "execution_count": 170,
   "metadata": {},
   "outputs": [],
   "source": [
    "df_merged['conversion']=(df_merged.first_order-df_merged.first_visit).dt.days.astype(int)\n",
    "#df_merged['conversion']=(df_merged.buy_ts-df_merged.first_visit).dt.days.astype(int)"
   ]
  },
  {
   "cell_type": "code",
   "execution_count": 171,
   "metadata": {},
   "outputs": [],
   "source": [
    "#display(df_merged.head())\n",
    "#data_orders.shape"
   ]
  },
  {
   "cell_type": "code",
   "execution_count": 172,
   "metadata": {},
   "outputs": [
    {
     "data": {
      "text/html": [
       "<div>\n",
       "<style scoped>\n",
       "    .dataframe tbody tr th:only-of-type {\n",
       "        vertical-align: middle;\n",
       "    }\n",
       "\n",
       "    .dataframe tbody tr th {\n",
       "        vertical-align: top;\n",
       "    }\n",
       "\n",
       "    .dataframe thead th {\n",
       "        text-align: right;\n",
       "    }\n",
       "</style>\n",
       "<table border=\"1\" class=\"dataframe\">\n",
       "  <thead>\n",
       "    <tr style=\"text-align: right;\">\n",
       "      <th></th>\n",
       "      <th>uid</th>\n",
       "      <th>revenue</th>\n",
       "      <th>buy_ts</th>\n",
       "      <th>first_visit</th>\n",
       "      <th>first_order</th>\n",
       "      <th>conversion</th>\n",
       "      <th>cohort_month</th>\n",
       "    </tr>\n",
       "  </thead>\n",
       "  <tbody>\n",
       "    <tr>\n",
       "      <th>0</th>\n",
       "      <td>10329302124590727494</td>\n",
       "      <td>17.00</td>\n",
       "      <td>2017-06-01 00:10:00</td>\n",
       "      <td>2017-06-01 00:09:00</td>\n",
       "      <td>2017-06-01 00:10:00</td>\n",
       "      <td>0</td>\n",
       "      <td>2017-06</td>\n",
       "    </tr>\n",
       "    <tr>\n",
       "      <th>1</th>\n",
       "      <td>11627257723692907447</td>\n",
       "      <td>0.55</td>\n",
       "      <td>2017-06-01 00:25:00</td>\n",
       "      <td>2017-06-01 00:14:00</td>\n",
       "      <td>2017-06-01 00:25:00</td>\n",
       "      <td>0</td>\n",
       "      <td>2017-06</td>\n",
       "    </tr>\n",
       "    <tr>\n",
       "      <th>2</th>\n",
       "      <td>17903680561304213844</td>\n",
       "      <td>0.37</td>\n",
       "      <td>2017-06-01 00:27:00</td>\n",
       "      <td>2017-06-01 00:25:00</td>\n",
       "      <td>2017-06-01 00:27:00</td>\n",
       "      <td>0</td>\n",
       "      <td>2017-06</td>\n",
       "    </tr>\n",
       "    <tr>\n",
       "      <th>3</th>\n",
       "      <td>16109239769442553005</td>\n",
       "      <td>0.55</td>\n",
       "      <td>2017-06-01 00:29:00</td>\n",
       "      <td>2017-06-01 00:14:00</td>\n",
       "      <td>2017-06-01 00:29:00</td>\n",
       "      <td>0</td>\n",
       "      <td>2017-06</td>\n",
       "    </tr>\n",
       "    <tr>\n",
       "      <th>4</th>\n",
       "      <td>14200605875248379450</td>\n",
       "      <td>0.37</td>\n",
       "      <td>2017-06-01 07:58:00</td>\n",
       "      <td>2017-06-01 07:31:00</td>\n",
       "      <td>2017-06-01 07:58:00</td>\n",
       "      <td>0</td>\n",
       "      <td>2017-06</td>\n",
       "    </tr>\n",
       "  </tbody>\n",
       "</table>\n",
       "</div>"
      ],
      "text/plain": [
       "                    uid  revenue              buy_ts         first_visit  \\\n",
       "0  10329302124590727494    17.00 2017-06-01 00:10:00 2017-06-01 00:09:00   \n",
       "1  11627257723692907447     0.55 2017-06-01 00:25:00 2017-06-01 00:14:00   \n",
       "2  17903680561304213844     0.37 2017-06-01 00:27:00 2017-06-01 00:25:00   \n",
       "3  16109239769442553005     0.55 2017-06-01 00:29:00 2017-06-01 00:14:00   \n",
       "4  14200605875248379450     0.37 2017-06-01 07:58:00 2017-06-01 07:31:00   \n",
       "\n",
       "          first_order  conversion cohort_month  \n",
       "0 2017-06-01 00:10:00           0      2017-06  \n",
       "1 2017-06-01 00:25:00           0      2017-06  \n",
       "2 2017-06-01 00:27:00           0      2017-06  \n",
       "3 2017-06-01 00:29:00           0      2017-06  \n",
       "4 2017-06-01 07:58:00           0      2017-06  "
      ]
     },
     "execution_count": 172,
     "metadata": {},
     "output_type": "execute_result"
    }
   ],
   "source": [
    "data_conversion=pd.merge(data_orders[['uid','revenue','buy_ts']],df_merged, on='uid',how='left')\n",
    "data_conversion['cohort_month']=data_conversion['first_order'].dt.strftime('%Y-%m') \n",
    "data_conversion.head()"
   ]
  },
  {
   "cell_type": "code",
   "execution_count": 173,
   "metadata": {},
   "outputs": [],
   "source": [
    "conversion_list=[0,1,2,7,14,30]\n",
    "def conversion(conversion_day,group_by):\n",
    "    grouped=(data_conversion.query('conversion<=@conversion_day').groupby(group_by)['uid'].nunique()\n",
    "             /data_retention.groupby(group_by)['uid'].nunique())*100\n",
    "    grouped=grouped.reset_index().rename(columns={'uid':'Conversion_{}%'.format(conversion_day)})\n",
    "    return grouped"
   ]
  },
  {
   "cell_type": "code",
   "execution_count": 174,
   "metadata": {},
   "outputs": [],
   "source": [
    "#conversion(7,'cohort_month')"
   ]
  },
  {
   "cell_type": "code",
   "execution_count": 175,
   "metadata": {},
   "outputs": [],
   "source": [
    "new_conversion=[]\n",
    "for i in conversion_list:\n",
    "    new_conversion.append(conversion(i,'cohort_month'))\n",
    "\n"
   ]
  },
  {
   "cell_type": "code",
   "execution_count": 176,
   "metadata": {},
   "outputs": [
    {
     "data": {
      "text/html": [
       "<div>\n",
       "<style scoped>\n",
       "    .dataframe tbody tr th:only-of-type {\n",
       "        vertical-align: middle;\n",
       "    }\n",
       "\n",
       "    .dataframe tbody tr th {\n",
       "        vertical-align: top;\n",
       "    }\n",
       "\n",
       "    .dataframe thead th {\n",
       "        text-align: right;\n",
       "    }\n",
       "</style>\n",
       "<table border=\"1\" class=\"dataframe\">\n",
       "  <thead>\n",
       "    <tr style=\"text-align: right;\">\n",
       "      <th></th>\n",
       "      <th>cohort_month</th>\n",
       "      <th>Conversion_0%</th>\n",
       "      <th>Conversion_1%</th>\n",
       "      <th>Conversion_2%</th>\n",
       "      <th>Conversion_7%</th>\n",
       "      <th>Conversion_14%</th>\n",
       "      <th>Conversion_30%</th>\n",
       "    </tr>\n",
       "  </thead>\n",
       "  <tbody>\n",
       "    <tr>\n",
       "      <th>0</th>\n",
       "      <td>2017-06</td>\n",
       "      <td>13.568142</td>\n",
       "      <td>13.982955</td>\n",
       "      <td>14.186590</td>\n",
       "      <td>14.827664</td>\n",
       "      <td>15.084094</td>\n",
       "      <td>15.257561</td>\n",
       "    </tr>\n",
       "    <tr>\n",
       "      <th>1</th>\n",
       "      <td>2017-07</td>\n",
       "      <td>11.643836</td>\n",
       "      <td>12.077626</td>\n",
       "      <td>12.351598</td>\n",
       "      <td>12.998478</td>\n",
       "      <td>13.432268</td>\n",
       "      <td>14.147641</td>\n",
       "    </tr>\n",
       "    <tr>\n",
       "      <th>2</th>\n",
       "      <td>2017-08</td>\n",
       "      <td>10.755329</td>\n",
       "      <td>11.010706</td>\n",
       "      <td>11.118751</td>\n",
       "      <td>11.629506</td>\n",
       "      <td>11.904528</td>\n",
       "      <td>12.385817</td>\n",
       "    </tr>\n",
       "    <tr>\n",
       "      <th>3</th>\n",
       "      <td>2017-09</td>\n",
       "      <td>11.781609</td>\n",
       "      <td>12.206657</td>\n",
       "      <td>12.434148</td>\n",
       "      <td>13.146552</td>\n",
       "      <td>13.505747</td>\n",
       "      <td>14.002634</td>\n",
       "    </tr>\n",
       "    <tr>\n",
       "      <th>4</th>\n",
       "      <td>2017-10</td>\n",
       "      <td>12.699696</td>\n",
       "      <td>13.138546</td>\n",
       "      <td>13.415714</td>\n",
       "      <td>14.212573</td>\n",
       "      <td>14.624475</td>\n",
       "      <td>15.217308</td>\n",
       "    </tr>\n",
       "  </tbody>\n",
       "</table>\n",
       "</div>"
      ],
      "text/plain": [
       "  cohort_month  Conversion_0%  Conversion_1%  Conversion_2%  Conversion_7%  \\\n",
       "0      2017-06      13.568142      13.982955      14.186590      14.827664   \n",
       "1      2017-07      11.643836      12.077626      12.351598      12.998478   \n",
       "2      2017-08      10.755329      11.010706      11.118751      11.629506   \n",
       "3      2017-09      11.781609      12.206657      12.434148      13.146552   \n",
       "4      2017-10      12.699696      13.138546      13.415714      14.212573   \n",
       "\n",
       "   Conversion_14%  Conversion_30%  \n",
       "0       15.084094       15.257561  \n",
       "1       13.432268       14.147641  \n",
       "2       11.904528       12.385817  \n",
       "3       13.505747       14.002634  \n",
       "4       14.624475       15.217308  "
      ]
     },
     "execution_count": 176,
     "metadata": {},
     "output_type": "execute_result"
    }
   ],
   "source": [
    "#merging all columns and remove duplicates one.\n",
    "new_conversion=pd.concat(new_conversion,axis=1)\n",
    "new_conversion = new_conversion.loc[:,~new_conversion.columns.duplicated()]\n",
    "new_conversion.head()"
   ]
  },
  {
   "cell_type": "code",
   "execution_count": 177,
   "metadata": {},
   "outputs": [
    {
     "data": {
      "image/png": "[encoded data removed]",
      "text/plain": [
       "<Figure size 432x288 with 1 Axes>"
      ]
     },
     "metadata": {},
     "output_type": "display_data"
    }
   ],
   "source": [
    "#Code added v.1\n",
    "#Distribution of conversion\n",
    "data_conversion['conversion']\n",
    "kwargs=dict(alpha=0.5,bins=30)\n",
    "plt.hist(data_conversion['conversion'],**kwargs, label='Conversion')\n",
    "plt.gca().set(title='Conversion')\n",
    "plt.ylabel('Count') \n",
    "plt.xlabel('Conversion Time in days') \n",
    "plt.legend()\n",
    "plt.show()"
   ]
  },
  {
   "cell_type": "markdown",
   "metadata": {},
   "source": [
    "#### Conclusion v.1\n",
    "Conversion% means how much % of users finally made purchase after their first visit. <br/>\n",
    "**Conversion_0%:**  means Conversion happens at 0 day. % of users made their first purchase at same day when they first visit the website. <br/>\n",
    "**Conversion_1%:** means Conversion happen at 1 day. % of users made their first purchase on 1st day after their first visit. <br/>\n",
    "If we see all retentions then we found that Retention is high for 0 day (Conversion_0%). and for rest of days it's increase with nominal %. like for the cohort '2017-06', 0 day conversion is 13.56% and 30 day conversion is 15.25% so in 30 days its increase by approx 2%. <br/> <br/>\n",
    "which means most of the users generally made purchase the same day on which they visit for the first time. This also depicts to us that may be website is selliing tickets for which users generally come to buy. \n"
   ]
  },
  {
   "cell_type": "code",
   "execution_count": 178,
   "metadata": {},
   "outputs": [
    {
     "data": {
      "text/plain": [
       "count    50415.000000\n",
       "mean        17.419677\n",
       "std         46.352290\n",
       "min          0.000000\n",
       "25%          0.000000\n",
       "50%          0.000000\n",
       "75%          4.000000\n",
       "max        363.000000\n",
       "Name: conversion, dtype: float64"
      ]
     },
     "execution_count": 178,
     "metadata": {},
     "output_type": "execute_result"
    }
   ],
   "source": [
    "data_conversion['conversion'].describe()"
   ]
  },
  {
   "cell_type": "markdown",
   "metadata": {},
   "source": [
    "#### Conclusion"
   ]
  },
  {
   "cell_type": "markdown",
   "metadata": {},
   "source": [
    "1. Maximum conversion takes place in 0 days.\n",
    "2. It seems from the conversion that the website sells something like tickets for which user generally come to buy something. "
   ]
  },
  {
   "cell_type": "markdown",
   "metadata": {},
   "source": [
    "### - How many orders do they make during a given period of time?"
   ]
  },
  {
   "cell_type": "code",
   "execution_count": 179,
   "metadata": {},
   "outputs": [
    {
     "name": "stdout",
     "output_type": "stream",
     "text": [
      "<class 'pandas.core.frame.DataFrame'>\n",
      "RangeIndex: 50415 entries, 0 to 50414\n",
      "Data columns (total 3 columns):\n",
      " #   Column   Non-Null Count  Dtype         \n",
      "---  ------   --------------  -----         \n",
      " 0   buy_ts   50415 non-null  datetime64[ns]\n",
      " 1   revenue  50415 non-null  float64       \n",
      " 2   uid      50415 non-null  uint64        \n",
      "dtypes: datetime64[ns](1), float64(1), uint64(1)\n",
      "memory usage: 1.2 MB\n"
     ]
    }
   ],
   "source": [
    "data_orders.info()"
   ]
  },
  {
   "cell_type": "code",
   "execution_count": 180,
   "metadata": {},
   "outputs": [],
   "source": [
    "#data_visits[['uid','source_id','first_activity_date']].drop_duplicates()"
   ]
  },
  {
   "cell_type": "code",
   "execution_count": 181,
   "metadata": {},
   "outputs": [],
   "source": [
    "data_orders=data_orders.rename(columns=({'buy_ts':'order_datetime'}))\n",
    "data_orders['order_year']=data_orders.order_datetime.dt.year\n",
    "data_orders['order_week']=data_orders.order_datetime.dt.week\n",
    "data_orders['order_date']=data_orders.order_datetime.dt.date"
   ]
  },
  {
   "cell_type": "code",
   "execution_count": 182,
   "metadata": {},
   "outputs": [
    {
     "name": "stdout",
     "output_type": "stream",
     "text": [
      "       order_datetime  revenue                   uid  order_year  order_week  \\\n",
      "0 2017-06-01 00:10:00    17.00  10329302124590727494        2017          22   \n",
      "1 2017-06-01 00:25:00     0.55  11627257723692907447        2017          22   \n",
      "2 2017-06-01 00:27:00     0.37  17903680561304213844        2017          22   \n",
      "3 2017-06-01 00:29:00     0.55  16109239769442553005        2017          22   \n",
      "4 2017-06-01 07:58:00     0.37  14200605875248379450        2017          22   \n",
      "5 2017-06-01 08:43:00     0.18  10402394430196413321        2017          22   \n",
      "6 2017-06-01 08:54:00     1.83  12464626743129688638        2017          22   \n",
      "7 2017-06-01 09:22:00     1.22   3644482766749211722        2017          22   \n",
      "8 2017-06-01 09:22:00     3.30  17542070709969841479        2017          22   \n",
      "9 2017-06-01 09:23:00     0.37   1074355127080856382        2017          22   \n",
      "\n",
      "   order_date    first_order_date first_order_month order_month  \n",
      "0  2017-06-01 2017-06-01 00:10:00        2017-06-01  2017-06-01  \n",
      "1  2017-06-01 2017-06-01 00:25:00        2017-06-01  2017-06-01  \n",
      "2  2017-06-01 2017-06-01 00:27:00        2017-06-01  2017-06-01  \n",
      "3  2017-06-01 2017-06-01 00:29:00        2017-06-01  2017-06-01  \n",
      "4  2017-06-01 2017-06-01 07:58:00        2017-06-01  2017-06-01  \n",
      "5  2017-06-01 2017-06-01 08:43:00        2017-06-01  2017-06-01  \n",
      "6  2017-06-01 2017-06-01 08:54:00        2017-06-01  2017-06-01  \n",
      "7  2017-06-01 2017-06-01 09:22:00        2017-06-01  2017-06-01  \n",
      "8  2017-06-01 2017-06-01 09:22:00        2017-06-01  2017-06-01  \n",
      "9  2017-06-01 2017-06-01 09:23:00        2017-06-01  2017-06-01  \n"
     ]
    }
   ],
   "source": [
    "first_order_date_by_customers = data_orders.groupby('uid')[ 'order_datetime'].min()\n",
    "first_order_date_by_customers.name = 'first_order_date'\n",
    "data_orders = data_orders.join(first_order_date_by_customers, on='uid')\n",
    "data_orders['first_order_month'] = data_orders['first_order_date'].astype('datetime64[M]')\n",
    "data_orders['order_month'] = data_orders['order_datetime'].astype('datetime64[M]')\n",
    "print(data_orders.head(10)) "
   ]
  },
  {
   "cell_type": "code",
   "execution_count": 183,
   "metadata": {},
   "outputs": [
    {
     "name": "stdout",
     "output_type": "stream",
     "text": [
      "            n_users  order_count\n",
      "order_date                      \n",
      "2017-06-01       86           96\n",
      "2017-06-02      101          111\n",
      "2017-06-03       61           67\n",
      "2017-06-04       59           66\n",
      "2017-06-05      146          161\n",
      "...             ...          ...\n",
      "2018-05-28      178          188\n",
      "2018-05-29      174          189\n",
      "2018-05-30      189          208\n",
      "2018-05-31      570          610\n",
      "2018-06-01        1            1\n",
      "\n",
      "[364 rows x 2 columns]\n",
      "    order_year  order_week  n_users  order_count\n",
      "0         2017          22      295          340\n",
      "1         2017          23      821          938\n",
      "2         2017          24      317          343\n",
      "3         2017          25      339          371\n",
      "4         2017          26      411          460\n",
      "..         ...         ...      ...          ...\n",
      "48        2018          18      502          547\n",
      "49        2018          19      540          635\n",
      "50        2018          20      842         1004\n",
      "51        2018          21      870         1027\n",
      "52        2018          22     1065         1196\n",
      "\n",
      "[53 rows x 4 columns]\n",
      "    order_year order_month  n_users  order_count\n",
      "0         2017  2017-06-01     2023         2354\n",
      "1         2017  2017-07-01     1984         2363\n",
      "2         2017  2017-08-01     1472         1807\n",
      "3         2017  2017-09-01     2750         3387\n",
      "4         2017  2017-10-01     4675         5679\n",
      "..         ...         ...      ...          ...\n",
      "8         2018  2018-02-01     4258         5281\n",
      "9         2018  2018-03-01     4181         5326\n",
      "10        2018  2018-04-01     2744         3273\n",
      "11        2018  2018-05-01     3544         4346\n",
      "12        2018  2018-06-01        1            1\n",
      "\n",
      "[13 rows x 4 columns]\n"
     ]
    }
   ],
   "source": [
    "\n",
    "DAU_order = data_orders.groupby('order_date').agg({'uid': 'nunique','order_datetime':'count'})\n",
    "WAU_order = data_orders.groupby(['order_year', 'order_week']).agg({'uid': 'nunique','order_datetime':'count'}).reset_index()\n",
    "MAU_order = data_orders.groupby(['order_year', 'order_month']).agg({'uid': 'nunique','order_datetime':'count'}).reset_index()\n",
    "DAU_order=DAU_order.rename(columns=({'uid':'n_users','order_datetime':'order_count'}))\n",
    "WAU_order=WAU_order.rename(columns=({'uid':'n_users','order_datetime':'order_count'}))\n",
    "MAU_order=MAU_order.rename(columns=({'uid':'n_users','order_datetime':'order_count'}))\n",
    "#print(int(dau_total))\n",
    "print(DAU_order)\n",
    "print(WAU_order)\n",
    "print(MAU_order) "
   ]
  },
  {
   "cell_type": "code",
   "execution_count": 184,
   "metadata": {},
   "outputs": [
    {
     "name": "stdout",
     "output_type": "stream",
     "text": [
      "The Average daily order made: 138.50\n",
      "The Average weekly order made: 951.23\n",
      "The Average monthly order made: 3878.08\n"
     ]
    }
   ],
   "source": [
    "#Finding Average order count year, month and weekly basis.\n",
    "print('The Average daily order made: {0:.2f}'.format(DAU_order.order_count.mean()))\n",
    "print('The Average weekly order made: {0:.2f}'.format( WAU_order.order_count.mean()))\n",
    "print('The Average monthly order made: {0:.2f}'.format( MAU_order.order_count.mean()))"
   ]
  },
  {
   "cell_type": "markdown",
   "metadata": {},
   "source": [
    "### What is the average purchase size?"
   ]
  },
  {
   "cell_type": "code",
   "execution_count": 185,
   "metadata": {},
   "outputs": [],
   "source": [
    "#data_orders.head(5)"
   ]
  },
  {
   "cell_type": "code",
   "execution_count": 186,
   "metadata": {},
   "outputs": [
    {
     "name": "stdout",
     "output_type": "stream",
     "text": [
      "Average purchase size: $ 5\n"
     ]
    }
   ],
   "source": [
    "print('Average purchase size: $',round(data_orders.revenue.mean()))"
   ]
  },
  {
   "cell_type": "markdown",
   "metadata": {},
   "source": [
    "### - How much money do they bring? (LTV)"
   ]
  },
  {
   "cell_type": "code",
   "execution_count": 187,
   "metadata": {},
   "outputs": [
    {
     "data": {
      "text/html": [
       "<div>\n",
       "<style scoped>\n",
       "    .dataframe tbody tr th:only-of-type {\n",
       "        vertical-align: middle;\n",
       "    }\n",
       "\n",
       "    .dataframe tbody tr th {\n",
       "        vertical-align: top;\n",
       "    }\n",
       "\n",
       "    .dataframe thead th {\n",
       "        text-align: right;\n",
       "    }\n",
       "</style>\n",
       "<table border=\"1\" class=\"dataframe\">\n",
       "  <thead>\n",
       "    <tr style=\"text-align: right;\">\n",
       "      <th></th>\n",
       "      <th>uid</th>\n",
       "      <th>revenue</th>\n",
       "      <th>buy_ts</th>\n",
       "      <th>first_visit</th>\n",
       "      <th>first_order</th>\n",
       "      <th>conversion</th>\n",
       "      <th>cohort_month</th>\n",
       "      <th>first_visit_month</th>\n",
       "      <th>order_month</th>\n",
       "    </tr>\n",
       "  </thead>\n",
       "  <tbody>\n",
       "    <tr>\n",
       "      <th>0</th>\n",
       "      <td>10329302124590727494</td>\n",
       "      <td>17.00</td>\n",
       "      <td>2017-06-01 00:10:00</td>\n",
       "      <td>2017-06-01 00:09:00</td>\n",
       "      <td>2017-06-01 00:10:00</td>\n",
       "      <td>0</td>\n",
       "      <td>2017-06</td>\n",
       "      <td>2017-06-01</td>\n",
       "      <td>2017-06-01</td>\n",
       "    </tr>\n",
       "    <tr>\n",
       "      <th>1</th>\n",
       "      <td>11627257723692907447</td>\n",
       "      <td>0.55</td>\n",
       "      <td>2017-06-01 00:25:00</td>\n",
       "      <td>2017-06-01 00:14:00</td>\n",
       "      <td>2017-06-01 00:25:00</td>\n",
       "      <td>0</td>\n",
       "      <td>2017-06</td>\n",
       "      <td>2017-06-01</td>\n",
       "      <td>2017-06-01</td>\n",
       "    </tr>\n",
       "    <tr>\n",
       "      <th>2</th>\n",
       "      <td>17903680561304213844</td>\n",
       "      <td>0.37</td>\n",
       "      <td>2017-06-01 00:27:00</td>\n",
       "      <td>2017-06-01 00:25:00</td>\n",
       "      <td>2017-06-01 00:27:00</td>\n",
       "      <td>0</td>\n",
       "      <td>2017-06</td>\n",
       "      <td>2017-06-01</td>\n",
       "      <td>2017-06-01</td>\n",
       "    </tr>\n",
       "    <tr>\n",
       "      <th>3</th>\n",
       "      <td>16109239769442553005</td>\n",
       "      <td>0.55</td>\n",
       "      <td>2017-06-01 00:29:00</td>\n",
       "      <td>2017-06-01 00:14:00</td>\n",
       "      <td>2017-06-01 00:29:00</td>\n",
       "      <td>0</td>\n",
       "      <td>2017-06</td>\n",
       "      <td>2017-06-01</td>\n",
       "      <td>2017-06-01</td>\n",
       "    </tr>\n",
       "    <tr>\n",
       "      <th>4</th>\n",
       "      <td>14200605875248379450</td>\n",
       "      <td>0.37</td>\n",
       "      <td>2017-06-01 07:58:00</td>\n",
       "      <td>2017-06-01 07:31:00</td>\n",
       "      <td>2017-06-01 07:58:00</td>\n",
       "      <td>0</td>\n",
       "      <td>2017-06</td>\n",
       "      <td>2017-06-01</td>\n",
       "      <td>2017-06-01</td>\n",
       "    </tr>\n",
       "  </tbody>\n",
       "</table>\n",
       "</div>"
      ],
      "text/plain": [
       "                    uid  revenue              buy_ts         first_visit  \\\n",
       "0  10329302124590727494    17.00 2017-06-01 00:10:00 2017-06-01 00:09:00   \n",
       "1  11627257723692907447     0.55 2017-06-01 00:25:00 2017-06-01 00:14:00   \n",
       "2  17903680561304213844     0.37 2017-06-01 00:27:00 2017-06-01 00:25:00   \n",
       "3  16109239769442553005     0.55 2017-06-01 00:29:00 2017-06-01 00:14:00   \n",
       "4  14200605875248379450     0.37 2017-06-01 07:58:00 2017-06-01 07:31:00   \n",
       "\n",
       "          first_order  conversion cohort_month first_visit_month order_month  \n",
       "0 2017-06-01 00:10:00           0      2017-06        2017-06-01  2017-06-01  \n",
       "1 2017-06-01 00:25:00           0      2017-06        2017-06-01  2017-06-01  \n",
       "2 2017-06-01 00:27:00           0      2017-06        2017-06-01  2017-06-01  \n",
       "3 2017-06-01 00:29:00           0      2017-06        2017-06-01  2017-06-01  \n",
       "4 2017-06-01 07:58:00           0      2017-06        2017-06-01  2017-06-01  "
      ]
     },
     "execution_count": 187,
     "metadata": {},
     "output_type": "execute_result"
    }
   ],
   "source": [
    "data_conversion['first_visit_month']=data_conversion['first_visit'].astype('datetime64[M]')\n",
    "data_conversion['order_month']=data_conversion['buy_ts'].astype('datetime64[M]')\n",
    "data_conversion.head()"
   ]
  },
  {
   "cell_type": "code",
   "execution_count": 188,
   "metadata": {},
   "outputs": [
    {
     "data": {
      "text/plain": [
       "\" \\ndata_conversion['cohort_age'] = (data_conversion['order_month'] - data_conversion['first_visit_month']) / np.timedelta64(1, 'M')\\ndata_conversion['cohort_age'] = data_conversion['cohort_age'].round().astype('int')\\ndata_conversion['cohort_month_ltv'] = data_conversion['first_visit_month'].dt.strftime('%Y-%m')\\ndata_conversion\\n\""
      ]
     },
     "execution_count": 188,
     "metadata": {},
     "output_type": "execute_result"
    }
   ],
   "source": [
    "#comment out below code after changes recommended by reviewer v.1\n",
    "''' \n",
    "data_conversion['cohort_age'] = (data_conversion['order_month'] - data_conversion['first_visit_month']) / np.timedelta64(1, 'M')\n",
    "data_conversion['cohort_age'] = data_conversion['cohort_age'].round().astype('int')\n",
    "data_conversion['cohort_month_ltv'] = data_conversion['first_visit_month'].dt.strftime('%Y-%m')\n",
    "data_conversion\n",
    "''' "
   ]
  },
  {
   "cell_type": "code",
   "execution_count": 189,
   "metadata": {
    "scrolled": false
   },
   "outputs": [
    {
     "data": {
      "text/plain": [
       "\" \\ntot_ltv=pd.pivot_table(data_conversion,index=data_conversion['cohort_month_ltv'],columns='cohort_age', values='revenue', aggfunc='sum')\\ntot_ltv\\n\""
      ]
     },
     "execution_count": 189,
     "metadata": {},
     "output_type": "execute_result"
    }
   ],
   "source": [
    "#comment out below code after changes recommended by reviewer v.1\n",
    "''' \n",
    "tot_ltv=pd.pivot_table(data_conversion,index=data_conversion['cohort_month_ltv'],columns='cohort_age', values='revenue', aggfunc='sum')\n",
    "tot_ltv\n",
    "''' "
   ]
  },
  {
   "cell_type": "code",
   "execution_count": 190,
   "metadata": {},
   "outputs": [
    {
     "data": {
      "text/plain": [
       "\" \\ntot_cum_ltv=pd.pivot_table(data_conversion,index=data_conversion['cohort_month_ltv'],columns='cohort_age', values='revenue', aggfunc='sum').cumsum(axis=1)\\ntot_cum_ltv\\n\""
      ]
     },
     "execution_count": 190,
     "metadata": {},
     "output_type": "execute_result"
    }
   ],
   "source": [
    "#comment out below code after changes recommended by reviewer v.1\n",
    "''' \n",
    "tot_cum_ltv=pd.pivot_table(data_conversion,index=data_conversion['cohort_month_ltv'],columns='cohort_age', values='revenue', aggfunc='sum').cumsum(axis=1)\n",
    "tot_cum_ltv\n",
    "''' "
   ]
  },
  {
   "cell_type": "code",
   "execution_count": 191,
   "metadata": {},
   "outputs": [
    {
     "data": {
      "text/plain": [
       "\" \\nAvg_ltv=pd.pivot_table(data_conversion,index=data_conversion['cohort_month_ltv'],columns='cohort_age', values='revenue', aggfunc='mean')\\nAvg_ltv\\n\""
      ]
     },
     "execution_count": 191,
     "metadata": {},
     "output_type": "execute_result"
    }
   ],
   "source": [
    "#comment out below code after changes recommended by reviewer v.1\n",
    "''' \n",
    "Avg_ltv=pd.pivot_table(data_conversion,index=data_conversion['cohort_month_ltv'],columns='cohort_age', values='revenue', aggfunc='mean')\n",
    "Avg_ltv\n",
    "''' "
   ]
  },
  {
   "cell_type": "code",
   "execution_count": 192,
   "metadata": {
    "scrolled": false
   },
   "outputs": [
    {
     "data": {
      "text/plain": [
       "\" \\nplt.figure(figsize=(15, 8))\\nplt.title('Average customer lifetime value (LTV)')\\nsns.heatmap(\\n    Avg_ltv,\\n    annot=True,\\n    fmt='.1f',\\n    linewidths=1,\\n    linecolor='gray',\\n) \\n\""
      ]
     },
     "execution_count": 192,
     "metadata": {},
     "output_type": "execute_result"
    }
   ],
   "source": [
    "#comment out below code after changes recommended by reviewer v.1\n",
    "''' \n",
    "plt.figure(figsize=(15, 8))\n",
    "plt.title('Average customer lifetime value (LTV)')\n",
    "sns.heatmap(\n",
    "    Avg_ltv,\n",
    "    annot=True,\n",
    "    fmt='.1f',\n",
    "    linewidths=1,\n",
    "    linecolor='gray',\n",
    ") \n",
    "'''"
   ]
  },
  {
   "cell_type": "code",
   "execution_count": 193,
   "metadata": {},
   "outputs": [
    {
     "data": {
      "text/html": [
       "<div>\n",
       "<style scoped>\n",
       "    .dataframe tbody tr th:only-of-type {\n",
       "        vertical-align: middle;\n",
       "    }\n",
       "\n",
       "    .dataframe tbody tr th {\n",
       "        vertical-align: top;\n",
       "    }\n",
       "\n",
       "    .dataframe thead th {\n",
       "        text-align: right;\n",
       "    }\n",
       "</style>\n",
       "<table border=\"1\" class=\"dataframe\">\n",
       "  <thead>\n",
       "    <tr style=\"text-align: right;\">\n",
       "      <th></th>\n",
       "      <th>first_order_month</th>\n",
       "      <th>order_month</th>\n",
       "      <th>revenue</th>\n",
       "      <th>uid</th>\n",
       "      <th>ltv</th>\n",
       "    </tr>\n",
       "  </thead>\n",
       "  <tbody>\n",
       "    <tr>\n",
       "      <th>0</th>\n",
       "      <td>2017-06-01</td>\n",
       "      <td>2017-06-01</td>\n",
       "      <td>9557.49</td>\n",
       "      <td>2023</td>\n",
       "      <td>4.724414</td>\n",
       "    </tr>\n",
       "    <tr>\n",
       "      <th>1</th>\n",
       "      <td>2017-06-01</td>\n",
       "      <td>2017-07-01</td>\n",
       "      <td>981.82</td>\n",
       "      <td>2023</td>\n",
       "      <td>0.485329</td>\n",
       "    </tr>\n",
       "    <tr>\n",
       "      <th>2</th>\n",
       "      <td>2017-06-01</td>\n",
       "      <td>2017-08-01</td>\n",
       "      <td>885.34</td>\n",
       "      <td>2023</td>\n",
       "      <td>0.437637</td>\n",
       "    </tr>\n",
       "    <tr>\n",
       "      <th>3</th>\n",
       "      <td>2017-06-01</td>\n",
       "      <td>2017-09-01</td>\n",
       "      <td>1931.30</td>\n",
       "      <td>2023</td>\n",
       "      <td>0.954671</td>\n",
       "    </tr>\n",
       "    <tr>\n",
       "      <th>4</th>\n",
       "      <td>2017-06-01</td>\n",
       "      <td>2017-10-01</td>\n",
       "      <td>2068.58</td>\n",
       "      <td>2023</td>\n",
       "      <td>1.022531</td>\n",
       "    </tr>\n",
       "  </tbody>\n",
       "</table>\n",
       "</div>"
      ],
      "text/plain": [
       "  first_order_month order_month  revenue   uid       ltv\n",
       "0        2017-06-01  2017-06-01  9557.49  2023  4.724414\n",
       "1        2017-06-01  2017-07-01   981.82  2023  0.485329\n",
       "2        2017-06-01  2017-08-01   885.34  2023  0.437637\n",
       "3        2017-06-01  2017-09-01  1931.30  2023  0.954671\n",
       "4        2017-06-01  2017-10-01  2068.58  2023  1.022531"
      ]
     },
     "execution_count": 193,
     "metadata": {},
     "output_type": "execute_result"
    }
   ],
   "source": [
    "#new code added v.1\n",
    "\n",
    "data_conversion['first_order_month']=data_conversion['first_order'].astype('datetime64[M]')\n",
    "cohort_sizes=data_conversion.groupby('first_order_month').agg({'uid':'nunique'})\n",
    "data_tot_revenue= data_conversion.groupby(['first_order_month','order_month']).agg({'revenue':'sum'}).reset_index()\n",
    "data_ltv=data_tot_revenue.merge(cohort_sizes,on='first_order_month')\n",
    "\n",
    "data_ltv['ltv']=data_ltv['revenue']/data_ltv['uid']\n",
    "data_ltv.head()"
   ]
  },
  {
   "cell_type": "code",
   "execution_count": 194,
   "metadata": {},
   "outputs": [
    {
     "data": {
      "text/html": [
       "<div>\n",
       "<style scoped>\n",
       "    .dataframe tbody tr th:only-of-type {\n",
       "        vertical-align: middle;\n",
       "    }\n",
       "\n",
       "    .dataframe tbody tr th {\n",
       "        vertical-align: top;\n",
       "    }\n",
       "\n",
       "    .dataframe thead th {\n",
       "        text-align: right;\n",
       "    }\n",
       "</style>\n",
       "<table border=\"1\" class=\"dataframe\">\n",
       "  <thead>\n",
       "    <tr style=\"text-align: right;\">\n",
       "      <th></th>\n",
       "      <th>first_order_month</th>\n",
       "      <th>order_month</th>\n",
       "      <th>revenue</th>\n",
       "      <th>uid</th>\n",
       "      <th>ltv</th>\n",
       "      <th>cohort_lifetime</th>\n",
       "      <th>cohort_month_ltv</th>\n",
       "    </tr>\n",
       "  </thead>\n",
       "  <tbody>\n",
       "    <tr>\n",
       "      <th>0</th>\n",
       "      <td>2017-06-01</td>\n",
       "      <td>2017-06-01</td>\n",
       "      <td>9557.49</td>\n",
       "      <td>2023</td>\n",
       "      <td>4.724414</td>\n",
       "      <td>0</td>\n",
       "      <td>2017-06</td>\n",
       "    </tr>\n",
       "    <tr>\n",
       "      <th>1</th>\n",
       "      <td>2017-06-01</td>\n",
       "      <td>2017-07-01</td>\n",
       "      <td>981.82</td>\n",
       "      <td>2023</td>\n",
       "      <td>0.485329</td>\n",
       "      <td>1</td>\n",
       "      <td>2017-06</td>\n",
       "    </tr>\n",
       "    <tr>\n",
       "      <th>2</th>\n",
       "      <td>2017-06-01</td>\n",
       "      <td>2017-08-01</td>\n",
       "      <td>885.34</td>\n",
       "      <td>2023</td>\n",
       "      <td>0.437637</td>\n",
       "      <td>2</td>\n",
       "      <td>2017-06</td>\n",
       "    </tr>\n",
       "    <tr>\n",
       "      <th>3</th>\n",
       "      <td>2017-06-01</td>\n",
       "      <td>2017-09-01</td>\n",
       "      <td>1931.30</td>\n",
       "      <td>2023</td>\n",
       "      <td>0.954671</td>\n",
       "      <td>3</td>\n",
       "      <td>2017-06</td>\n",
       "    </tr>\n",
       "    <tr>\n",
       "      <th>4</th>\n",
       "      <td>2017-06-01</td>\n",
       "      <td>2017-10-01</td>\n",
       "      <td>2068.58</td>\n",
       "      <td>2023</td>\n",
       "      <td>1.022531</td>\n",
       "      <td>4</td>\n",
       "      <td>2017-06</td>\n",
       "    </tr>\n",
       "  </tbody>\n",
       "</table>\n",
       "</div>"
      ],
      "text/plain": [
       "  first_order_month order_month  revenue   uid       ltv  cohort_lifetime  \\\n",
       "0        2017-06-01  2017-06-01  9557.49  2023  4.724414                0   \n",
       "1        2017-06-01  2017-07-01   981.82  2023  0.485329                1   \n",
       "2        2017-06-01  2017-08-01   885.34  2023  0.437637                2   \n",
       "3        2017-06-01  2017-09-01  1931.30  2023  0.954671                3   \n",
       "4        2017-06-01  2017-10-01  2068.58  2023  1.022531                4   \n",
       "\n",
       "  cohort_month_ltv  \n",
       "0          2017-06  \n",
       "1          2017-06  \n",
       "2          2017-06  \n",
       "3          2017-06  \n",
       "4          2017-06  "
      ]
     },
     "execution_count": 194,
     "metadata": {},
     "output_type": "execute_result"
    }
   ],
   "source": [
    "data_ltv['cohort_lifetime'] = (data_ltv['order_month'] - data_ltv['first_order_month']) / np.timedelta64(1, 'M')\n",
    "data_ltv['cohort_lifetime'] = data_ltv['cohort_lifetime'].round().astype('int')\n",
    "data_ltv['cohort_month_ltv'] = data_ltv['first_order_month'].dt.strftime('%Y-%m')\n",
    "data_ltv.head()"
   ]
  },
  {
   "cell_type": "code",
   "execution_count": 195,
   "metadata": {},
   "outputs": [
    {
     "data": {
      "text/html": [
       "<div>\n",
       "<style scoped>\n",
       "    .dataframe tbody tr th:only-of-type {\n",
       "        vertical-align: middle;\n",
       "    }\n",
       "\n",
       "    .dataframe tbody tr th {\n",
       "        vertical-align: top;\n",
       "    }\n",
       "\n",
       "    .dataframe thead th {\n",
       "        text-align: right;\n",
       "    }\n",
       "</style>\n",
       "<table border=\"1\" class=\"dataframe\">\n",
       "  <thead>\n",
       "    <tr style=\"text-align: right;\">\n",
       "      <th>cohort_lifetime</th>\n",
       "      <th>0</th>\n",
       "      <th>1</th>\n",
       "      <th>2</th>\n",
       "      <th>3</th>\n",
       "      <th>4</th>\n",
       "      <th>5</th>\n",
       "      <th>6</th>\n",
       "      <th>7</th>\n",
       "      <th>8</th>\n",
       "      <th>9</th>\n",
       "      <th>10</th>\n",
       "      <th>11</th>\n",
       "    </tr>\n",
       "    <tr>\n",
       "      <th>cohort_month_ltv</th>\n",
       "      <th></th>\n",
       "      <th></th>\n",
       "      <th></th>\n",
       "      <th></th>\n",
       "      <th></th>\n",
       "      <th></th>\n",
       "      <th></th>\n",
       "      <th></th>\n",
       "      <th></th>\n",
       "      <th></th>\n",
       "      <th></th>\n",
       "      <th></th>\n",
       "    </tr>\n",
       "  </thead>\n",
       "  <tbody>\n",
       "    <tr>\n",
       "      <th>2017-06</th>\n",
       "      <td>4.72</td>\n",
       "      <td>5.21</td>\n",
       "      <td>5.65</td>\n",
       "      <td>6.60</td>\n",
       "      <td>7.62</td>\n",
       "      <td>8.36</td>\n",
       "      <td>9.31</td>\n",
       "      <td>9.89</td>\n",
       "      <td>10.45</td>\n",
       "      <td>11.05</td>\n",
       "      <td>11.62</td>\n",
       "      <td>11.88</td>\n",
       "    </tr>\n",
       "    <tr>\n",
       "      <th>2017-07</th>\n",
       "      <td>6.01</td>\n",
       "      <td>6.35</td>\n",
       "      <td>6.97</td>\n",
       "      <td>7.33</td>\n",
       "      <td>7.50</td>\n",
       "      <td>7.66</td>\n",
       "      <td>7.78</td>\n",
       "      <td>7.92</td>\n",
       "      <td>8.08</td>\n",
       "      <td>8.23</td>\n",
       "      <td>8.39</td>\n",
       "      <td>NaN</td>\n",
       "    </tr>\n",
       "    <tr>\n",
       "      <th>2017-08</th>\n",
       "      <td>5.28</td>\n",
       "      <td>5.75</td>\n",
       "      <td>6.21</td>\n",
       "      <td>6.60</td>\n",
       "      <td>7.09</td>\n",
       "      <td>7.38</td>\n",
       "      <td>7.59</td>\n",
       "      <td>7.99</td>\n",
       "      <td>8.28</td>\n",
       "      <td>8.47</td>\n",
       "      <td>NaN</td>\n",
       "      <td>NaN</td>\n",
       "    </tr>\n",
       "    <tr>\n",
       "      <th>2017-09</th>\n",
       "      <td>5.64</td>\n",
       "      <td>6.76</td>\n",
       "      <td>7.28</td>\n",
       "      <td>11.26</td>\n",
       "      <td>11.66</td>\n",
       "      <td>12.31</td>\n",
       "      <td>13.01</td>\n",
       "      <td>13.25</td>\n",
       "      <td>13.44</td>\n",
       "      <td>NaN</td>\n",
       "      <td>NaN</td>\n",
       "      <td>NaN</td>\n",
       "    </tr>\n",
       "    <tr>\n",
       "      <th>2017-10</th>\n",
       "      <td>5.00</td>\n",
       "      <td>5.54</td>\n",
       "      <td>5.73</td>\n",
       "      <td>5.89</td>\n",
       "      <td>6.04</td>\n",
       "      <td>6.16</td>\n",
       "      <td>6.24</td>\n",
       "      <td>6.36</td>\n",
       "      <td>NaN</td>\n",
       "      <td>NaN</td>\n",
       "      <td>NaN</td>\n",
       "      <td>NaN</td>\n",
       "    </tr>\n",
       "    <tr>\n",
       "      <th>...</th>\n",
       "      <td>...</td>\n",
       "      <td>...</td>\n",
       "      <td>...</td>\n",
       "      <td>...</td>\n",
       "      <td>...</td>\n",
       "      <td>...</td>\n",
       "      <td>...</td>\n",
       "      <td>...</td>\n",
       "      <td>...</td>\n",
       "      <td>...</td>\n",
       "      <td>...</td>\n",
       "      <td>...</td>\n",
       "    </tr>\n",
       "    <tr>\n",
       "      <th>2018-02</th>\n",
       "      <td>4.16</td>\n",
       "      <td>4.44</td>\n",
       "      <td>4.51</td>\n",
       "      <td>4.59</td>\n",
       "      <td>NaN</td>\n",
       "      <td>NaN</td>\n",
       "      <td>NaN</td>\n",
       "      <td>NaN</td>\n",
       "      <td>NaN</td>\n",
       "      <td>NaN</td>\n",
       "      <td>NaN</td>\n",
       "      <td>NaN</td>\n",
       "    </tr>\n",
       "    <tr>\n",
       "      <th>2018-03</th>\n",
       "      <td>4.84</td>\n",
       "      <td>5.14</td>\n",
       "      <td>5.46</td>\n",
       "      <td>NaN</td>\n",
       "      <td>NaN</td>\n",
       "      <td>NaN</td>\n",
       "      <td>NaN</td>\n",
       "      <td>NaN</td>\n",
       "      <td>NaN</td>\n",
       "      <td>NaN</td>\n",
       "      <td>NaN</td>\n",
       "      <td>NaN</td>\n",
       "    </tr>\n",
       "    <tr>\n",
       "      <th>2018-04</th>\n",
       "      <td>4.66</td>\n",
       "      <td>5.19</td>\n",
       "      <td>NaN</td>\n",
       "      <td>NaN</td>\n",
       "      <td>NaN</td>\n",
       "      <td>NaN</td>\n",
       "      <td>NaN</td>\n",
       "      <td>NaN</td>\n",
       "      <td>NaN</td>\n",
       "      <td>NaN</td>\n",
       "      <td>NaN</td>\n",
       "      <td>NaN</td>\n",
       "    </tr>\n",
       "    <tr>\n",
       "      <th>2018-05</th>\n",
       "      <td>4.66</td>\n",
       "      <td>NaN</td>\n",
       "      <td>NaN</td>\n",
       "      <td>NaN</td>\n",
       "      <td>NaN</td>\n",
       "      <td>NaN</td>\n",
       "      <td>NaN</td>\n",
       "      <td>NaN</td>\n",
       "      <td>NaN</td>\n",
       "      <td>NaN</td>\n",
       "      <td>NaN</td>\n",
       "      <td>NaN</td>\n",
       "    </tr>\n",
       "    <tr>\n",
       "      <th>2018-06</th>\n",
       "      <td>3.42</td>\n",
       "      <td>NaN</td>\n",
       "      <td>NaN</td>\n",
       "      <td>NaN</td>\n",
       "      <td>NaN</td>\n",
       "      <td>NaN</td>\n",
       "      <td>NaN</td>\n",
       "      <td>NaN</td>\n",
       "      <td>NaN</td>\n",
       "      <td>NaN</td>\n",
       "      <td>NaN</td>\n",
       "      <td>NaN</td>\n",
       "    </tr>\n",
       "  </tbody>\n",
       "</table>\n",
       "<p>13 rows × 12 columns</p>\n",
       "</div>"
      ],
      "text/plain": [
       "cohort_lifetime     0     1     2      3      4      5      6      7      8   \\\n",
       "cohort_month_ltv                                                               \n",
       "2017-06           4.72  5.21  5.65   6.60   7.62   8.36   9.31   9.89  10.45   \n",
       "2017-07           6.01  6.35  6.97   7.33   7.50   7.66   7.78   7.92   8.08   \n",
       "2017-08           5.28  5.75  6.21   6.60   7.09   7.38   7.59   7.99   8.28   \n",
       "2017-09           5.64  6.76  7.28  11.26  11.66  12.31  13.01  13.25  13.44   \n",
       "2017-10           5.00  5.54  5.73   5.89   6.04   6.16   6.24   6.36    NaN   \n",
       "...                ...   ...   ...    ...    ...    ...    ...    ...    ...   \n",
       "2018-02           4.16  4.44  4.51   4.59    NaN    NaN    NaN    NaN    NaN   \n",
       "2018-03           4.84  5.14  5.46    NaN    NaN    NaN    NaN    NaN    NaN   \n",
       "2018-04           4.66  5.19   NaN    NaN    NaN    NaN    NaN    NaN    NaN   \n",
       "2018-05           4.66   NaN   NaN    NaN    NaN    NaN    NaN    NaN    NaN   \n",
       "2018-06           3.42   NaN   NaN    NaN    NaN    NaN    NaN    NaN    NaN   \n",
       "\n",
       "cohort_lifetime      9      10     11  \n",
       "cohort_month_ltv                       \n",
       "2017-06           11.05  11.62  11.88  \n",
       "2017-07            8.23   8.39    NaN  \n",
       "2017-08            8.47    NaN    NaN  \n",
       "2017-09             NaN    NaN    NaN  \n",
       "2017-10             NaN    NaN    NaN  \n",
       "...                 ...    ...    ...  \n",
       "2018-02             NaN    NaN    NaN  \n",
       "2018-03             NaN    NaN    NaN  \n",
       "2018-04             NaN    NaN    NaN  \n",
       "2018-05             NaN    NaN    NaN  \n",
       "2018-06             NaN    NaN    NaN  \n",
       "\n",
       "[13 rows x 12 columns]"
      ]
     },
     "execution_count": 195,
     "metadata": {},
     "output_type": "execute_result"
    }
   ],
   "source": [
    "output = data_ltv.pivot_table(\n",
    "    index='cohort_month_ltv',\n",
    "    columns='cohort_lifetime',\n",
    "    values='ltv',\n",
    "    aggfunc='mean')\n",
    "output = output.cumsum(axis=1).round(2)\n",
    "output"
   ]
  },
  {
   "cell_type": "code",
   "execution_count": 196,
   "metadata": {},
   "outputs": [
    {
     "data": {
      "text/plain": [
       "<AxesSubplot:title={'center':'Average customer lifetime value (LTV)'}, xlabel='cohort_lifetime', ylabel='cohort_month_ltv'>"
      ]
     },
     "execution_count": 196,
     "metadata": {},
     "output_type": "execute_result"
    },
    {
     "data": {
      "image/png": "[encoded data removed]",
      "text/plain": [
       "<Figure size 1080x576 with 2 Axes>"
      ]
     },
     "metadata": {},
     "output_type": "display_data"
    }
   ],
   "source": [
    "plt.figure(figsize=(15, 8))\n",
    "plt.title('Average customer lifetime value (LTV)')\n",
    "sns.heatmap(\n",
    "    output,\n",
    "    annot=True,\n",
    "    fmt='.1f',\n",
    "    linewidths=1,\n",
    "    linecolor='gray',\n",
    ") "
   ]
  },
  {
   "cell_type": "markdown",
   "metadata": {},
   "source": [
    "#### Conclusion\n",
    "1. LTV for september and June cohorts are the best among all cohorts.\n",
    "2. From 3rd month every cohort starts to pay except january and february."
   ]
  },
  {
   "cell_type": "code",
   "execution_count": 197,
   "metadata": {},
   "outputs": [],
   "source": [
    "#output[[0, 1, 2, 3, 4, 5, 6]].cumsum(axis=1).mean(axis=0) "
   ]
  },
  {
   "cell_type": "markdown",
   "metadata": {},
   "source": [
    "## Marketing"
   ]
  },
  {
   "cell_type": "markdown",
   "metadata": {},
   "source": [
    "### How much money was spent? Overall/per source/over time"
   ]
  },
  {
   "cell_type": "code",
   "execution_count": 198,
   "metadata": {},
   "outputs": [
    {
     "name": "stdout",
     "output_type": "stream",
     "text": [
      "<class 'pandas.core.frame.DataFrame'>\n",
      "RangeIndex: 2542 entries, 0 to 2541\n",
      "Data columns (total 3 columns):\n",
      " #   Column     Non-Null Count  Dtype         \n",
      "---  ------     --------------  -----         \n",
      " 0   source_id  2542 non-null   int64         \n",
      " 1   dt         2542 non-null   datetime64[ns]\n",
      " 2   costs      2542 non-null   float64       \n",
      "dtypes: datetime64[ns](1), float64(1), int64(1)\n",
      "memory usage: 59.7 KB\n"
     ]
    }
   ],
   "source": [
    "data_costs.info()"
   ]
  },
  {
   "cell_type": "code",
   "execution_count": 199,
   "metadata": {},
   "outputs": [
    {
     "data": {
      "text/html": [
       "<div>\n",
       "<style scoped>\n",
       "    .dataframe tbody tr th:only-of-type {\n",
       "        vertical-align: middle;\n",
       "    }\n",
       "\n",
       "    .dataframe tbody tr th {\n",
       "        vertical-align: top;\n",
       "    }\n",
       "\n",
       "    .dataframe thead th {\n",
       "        text-align: right;\n",
       "    }\n",
       "</style>\n",
       "<table border=\"1\" class=\"dataframe\">\n",
       "  <thead>\n",
       "    <tr style=\"text-align: right;\">\n",
       "      <th></th>\n",
       "      <th>source_id</th>\n",
       "      <th>dt</th>\n",
       "      <th>costs</th>\n",
       "    </tr>\n",
       "  </thead>\n",
       "  <tbody>\n",
       "    <tr>\n",
       "      <th>0</th>\n",
       "      <td>1</td>\n",
       "      <td>2017-06-01</td>\n",
       "      <td>75.20</td>\n",
       "    </tr>\n",
       "    <tr>\n",
       "      <th>1</th>\n",
       "      <td>1</td>\n",
       "      <td>2017-06-02</td>\n",
       "      <td>62.25</td>\n",
       "    </tr>\n",
       "    <tr>\n",
       "      <th>2</th>\n",
       "      <td>1</td>\n",
       "      <td>2017-06-03</td>\n",
       "      <td>36.53</td>\n",
       "    </tr>\n",
       "    <tr>\n",
       "      <th>3</th>\n",
       "      <td>1</td>\n",
       "      <td>2017-06-04</td>\n",
       "      <td>55.00</td>\n",
       "    </tr>\n",
       "    <tr>\n",
       "      <th>4</th>\n",
       "      <td>1</td>\n",
       "      <td>2017-06-05</td>\n",
       "      <td>57.08</td>\n",
       "    </tr>\n",
       "    <tr>\n",
       "      <th>...</th>\n",
       "      <td>...</td>\n",
       "      <td>...</td>\n",
       "      <td>...</td>\n",
       "    </tr>\n",
       "    <tr>\n",
       "      <th>2537</th>\n",
       "      <td>10</td>\n",
       "      <td>2018-05-27</td>\n",
       "      <td>9.92</td>\n",
       "    </tr>\n",
       "    <tr>\n",
       "      <th>2538</th>\n",
       "      <td>10</td>\n",
       "      <td>2018-05-28</td>\n",
       "      <td>21.26</td>\n",
       "    </tr>\n",
       "    <tr>\n",
       "      <th>2539</th>\n",
       "      <td>10</td>\n",
       "      <td>2018-05-29</td>\n",
       "      <td>11.32</td>\n",
       "    </tr>\n",
       "    <tr>\n",
       "      <th>2540</th>\n",
       "      <td>10</td>\n",
       "      <td>2018-05-30</td>\n",
       "      <td>33.15</td>\n",
       "    </tr>\n",
       "    <tr>\n",
       "      <th>2541</th>\n",
       "      <td>10</td>\n",
       "      <td>2018-05-31</td>\n",
       "      <td>17.60</td>\n",
       "    </tr>\n",
       "  </tbody>\n",
       "</table>\n",
       "<p>2542 rows × 3 columns</p>\n",
       "</div>"
      ],
      "text/plain": [
       "      source_id         dt  costs\n",
       "0             1 2017-06-01  75.20\n",
       "1             1 2017-06-02  62.25\n",
       "2             1 2017-06-03  36.53\n",
       "3             1 2017-06-04  55.00\n",
       "4             1 2017-06-05  57.08\n",
       "...         ...        ...    ...\n",
       "2537         10 2018-05-27   9.92\n",
       "2538         10 2018-05-28  21.26\n",
       "2539         10 2018-05-29  11.32\n",
       "2540         10 2018-05-30  33.15\n",
       "2541         10 2018-05-31  17.60\n",
       "\n",
       "[2542 rows x 3 columns]"
      ]
     },
     "execution_count": 199,
     "metadata": {},
     "output_type": "execute_result"
    }
   ],
   "source": [
    "data_costs"
   ]
  },
  {
   "cell_type": "code",
   "execution_count": 200,
   "metadata": {},
   "outputs": [
    {
     "data": {
      "text/html": [
       "<div>\n",
       "<style scoped>\n",
       "    .dataframe tbody tr th:only-of-type {\n",
       "        vertical-align: middle;\n",
       "    }\n",
       "\n",
       "    .dataframe tbody tr th {\n",
       "        vertical-align: top;\n",
       "    }\n",
       "\n",
       "    .dataframe thead th {\n",
       "        text-align: right;\n",
       "    }\n",
       "</style>\n",
       "<table border=\"1\" class=\"dataframe\">\n",
       "  <thead>\n",
       "    <tr style=\"text-align: right;\">\n",
       "      <th></th>\n",
       "      <th>source_id</th>\n",
       "      <th>cost_date</th>\n",
       "      <th>costs</th>\n",
       "    </tr>\n",
       "  </thead>\n",
       "  <tbody>\n",
       "    <tr>\n",
       "      <th>0</th>\n",
       "      <td>1</td>\n",
       "      <td>2017-06-01</td>\n",
       "      <td>75.20</td>\n",
       "    </tr>\n",
       "    <tr>\n",
       "      <th>1</th>\n",
       "      <td>1</td>\n",
       "      <td>2017-06-02</td>\n",
       "      <td>62.25</td>\n",
       "    </tr>\n",
       "    <tr>\n",
       "      <th>2</th>\n",
       "      <td>1</td>\n",
       "      <td>2017-06-03</td>\n",
       "      <td>36.53</td>\n",
       "    </tr>\n",
       "    <tr>\n",
       "      <th>3</th>\n",
       "      <td>1</td>\n",
       "      <td>2017-06-04</td>\n",
       "      <td>55.00</td>\n",
       "    </tr>\n",
       "    <tr>\n",
       "      <th>4</th>\n",
       "      <td>1</td>\n",
       "      <td>2017-06-05</td>\n",
       "      <td>57.08</td>\n",
       "    </tr>\n",
       "    <tr>\n",
       "      <th>...</th>\n",
       "      <td>...</td>\n",
       "      <td>...</td>\n",
       "      <td>...</td>\n",
       "    </tr>\n",
       "    <tr>\n",
       "      <th>2537</th>\n",
       "      <td>10</td>\n",
       "      <td>2018-05-27</td>\n",
       "      <td>9.92</td>\n",
       "    </tr>\n",
       "    <tr>\n",
       "      <th>2538</th>\n",
       "      <td>10</td>\n",
       "      <td>2018-05-28</td>\n",
       "      <td>21.26</td>\n",
       "    </tr>\n",
       "    <tr>\n",
       "      <th>2539</th>\n",
       "      <td>10</td>\n",
       "      <td>2018-05-29</td>\n",
       "      <td>11.32</td>\n",
       "    </tr>\n",
       "    <tr>\n",
       "      <th>2540</th>\n",
       "      <td>10</td>\n",
       "      <td>2018-05-30</td>\n",
       "      <td>33.15</td>\n",
       "    </tr>\n",
       "    <tr>\n",
       "      <th>2541</th>\n",
       "      <td>10</td>\n",
       "      <td>2018-05-31</td>\n",
       "      <td>17.60</td>\n",
       "    </tr>\n",
       "  </tbody>\n",
       "</table>\n",
       "<p>2542 rows × 3 columns</p>\n",
       "</div>"
      ],
      "text/plain": [
       "      source_id  cost_date  costs\n",
       "0             1 2017-06-01  75.20\n",
       "1             1 2017-06-02  62.25\n",
       "2             1 2017-06-03  36.53\n",
       "3             1 2017-06-04  55.00\n",
       "4             1 2017-06-05  57.08\n",
       "...         ...        ...    ...\n",
       "2537         10 2018-05-27   9.92\n",
       "2538         10 2018-05-28  21.26\n",
       "2539         10 2018-05-29  11.32\n",
       "2540         10 2018-05-30  33.15\n",
       "2541         10 2018-05-31  17.60\n",
       "\n",
       "[2542 rows x 3 columns]"
      ]
     },
     "execution_count": 200,
     "metadata": {},
     "output_type": "execute_result"
    }
   ],
   "source": [
    "#changing dt column datatype to datetime\n",
    "data_costs['dt']=pd.to_datetime(data_costs['dt'], format=\"%Y-%m-%d\")\n",
    "data_costs=data_costs.rename(columns={'dt':'cost_date'})\n",
    "data_costs"
   ]
  },
  {
   "cell_type": "code",
   "execution_count": 201,
   "metadata": {
    "scrolled": false
   },
   "outputs": [
    {
     "data": {
      "text/html": [
       "<div>\n",
       "<style scoped>\n",
       "    .dataframe tbody tr th:only-of-type {\n",
       "        vertical-align: middle;\n",
       "    }\n",
       "\n",
       "    .dataframe tbody tr th {\n",
       "        vertical-align: top;\n",
       "    }\n",
       "\n",
       "    .dataframe thead th {\n",
       "        text-align: right;\n",
       "    }\n",
       "</style>\n",
       "<table border=\"1\" class=\"dataframe\">\n",
       "  <thead>\n",
       "    <tr style=\"text-align: right;\">\n",
       "      <th></th>\n",
       "      <th>source_id</th>\n",
       "      <th>cost_date</th>\n",
       "      <th>costs</th>\n",
       "      <th>cost_month</th>\n",
       "    </tr>\n",
       "  </thead>\n",
       "  <tbody>\n",
       "    <tr>\n",
       "      <th>0</th>\n",
       "      <td>1</td>\n",
       "      <td>2017-06-01</td>\n",
       "      <td>75.20</td>\n",
       "      <td>2017-06-01</td>\n",
       "    </tr>\n",
       "    <tr>\n",
       "      <th>1</th>\n",
       "      <td>1</td>\n",
       "      <td>2017-06-02</td>\n",
       "      <td>62.25</td>\n",
       "      <td>2017-06-01</td>\n",
       "    </tr>\n",
       "    <tr>\n",
       "      <th>2</th>\n",
       "      <td>1</td>\n",
       "      <td>2017-06-03</td>\n",
       "      <td>36.53</td>\n",
       "      <td>2017-06-01</td>\n",
       "    </tr>\n",
       "    <tr>\n",
       "      <th>3</th>\n",
       "      <td>1</td>\n",
       "      <td>2017-06-04</td>\n",
       "      <td>55.00</td>\n",
       "      <td>2017-06-01</td>\n",
       "    </tr>\n",
       "    <tr>\n",
       "      <th>4</th>\n",
       "      <td>1</td>\n",
       "      <td>2017-06-05</td>\n",
       "      <td>57.08</td>\n",
       "      <td>2017-06-01</td>\n",
       "    </tr>\n",
       "    <tr>\n",
       "      <th>...</th>\n",
       "      <td>...</td>\n",
       "      <td>...</td>\n",
       "      <td>...</td>\n",
       "      <td>...</td>\n",
       "    </tr>\n",
       "    <tr>\n",
       "      <th>2537</th>\n",
       "      <td>10</td>\n",
       "      <td>2018-05-27</td>\n",
       "      <td>9.92</td>\n",
       "      <td>2018-05-01</td>\n",
       "    </tr>\n",
       "    <tr>\n",
       "      <th>2538</th>\n",
       "      <td>10</td>\n",
       "      <td>2018-05-28</td>\n",
       "      <td>21.26</td>\n",
       "      <td>2018-05-01</td>\n",
       "    </tr>\n",
       "    <tr>\n",
       "      <th>2539</th>\n",
       "      <td>10</td>\n",
       "      <td>2018-05-29</td>\n",
       "      <td>11.32</td>\n",
       "      <td>2018-05-01</td>\n",
       "    </tr>\n",
       "    <tr>\n",
       "      <th>2540</th>\n",
       "      <td>10</td>\n",
       "      <td>2018-05-30</td>\n",
       "      <td>33.15</td>\n",
       "      <td>2018-05-01</td>\n",
       "    </tr>\n",
       "    <tr>\n",
       "      <th>2541</th>\n",
       "      <td>10</td>\n",
       "      <td>2018-05-31</td>\n",
       "      <td>17.60</td>\n",
       "      <td>2018-05-01</td>\n",
       "    </tr>\n",
       "  </tbody>\n",
       "</table>\n",
       "<p>2542 rows × 4 columns</p>\n",
       "</div>"
      ],
      "text/plain": [
       "      source_id  cost_date  costs cost_month\n",
       "0             1 2017-06-01  75.20 2017-06-01\n",
       "1             1 2017-06-02  62.25 2017-06-01\n",
       "2             1 2017-06-03  36.53 2017-06-01\n",
       "3             1 2017-06-04  55.00 2017-06-01\n",
       "4             1 2017-06-05  57.08 2017-06-01\n",
       "...         ...        ...    ...        ...\n",
       "2537         10 2018-05-27   9.92 2018-05-01\n",
       "2538         10 2018-05-28  21.26 2018-05-01\n",
       "2539         10 2018-05-29  11.32 2018-05-01\n",
       "2540         10 2018-05-30  33.15 2018-05-01\n",
       "2541         10 2018-05-31  17.60 2018-05-01\n",
       "\n",
       "[2542 rows x 4 columns]"
      ]
     },
     "execution_count": 201,
     "metadata": {},
     "output_type": "execute_result"
    }
   ],
   "source": [
    "data_costs['cost_month'] = data_costs['cost_date'].astype('datetime64[M]') \n",
    "data_costs"
   ]
  },
  {
   "cell_type": "code",
   "execution_count": 202,
   "metadata": {},
   "outputs": [
    {
     "name": "stdout",
     "output_type": "stream",
     "text": [
      "Overall money spent :  329131.62\n"
     ]
    }
   ],
   "source": [
    "#How much money was spent? Overall\n",
    "print('Overall money spent : ',data_costs['costs'].sum())"
   ]
  },
  {
   "cell_type": "code",
   "execution_count": 203,
   "metadata": {},
   "outputs": [
    {
     "data": {
      "text/plain": [
       "Text(0, 0.5, 'Total Cost')"
      ]
     },
     "execution_count": 203,
     "metadata": {},
     "output_type": "execute_result"
    },
    {
     "data": {
      "image/png": "[encoded data removed]",
      "text/plain": [
       "<Figure size 720x360 with 1 Axes>"
      ]
     },
     "metadata": {},
     "output_type": "display_data"
    }
   ],
   "source": [
    "#How much money was spent? per source\n",
    "data_source_cost=data_costs.groupby('source_id')['costs'].sum().reset_index()\n",
    "data_source_cost.plot(kind=\"bar\", title='Source wise cost',x='source_id', y='costs', figsize=(10,5))\n",
    "plt.xlabel(\"Source\")\n",
    "plt.ylabel(\"Total Cost\")"
   ]
  },
  {
   "cell_type": "markdown",
   "metadata": {},
   "source": [
    "Money was spent mostly on source_id=3"
   ]
  },
  {
   "cell_type": "code",
   "execution_count": 204,
   "metadata": {},
   "outputs": [
    {
     "data": {
      "image/png": "[encoded data removed]",
      "text/plain": [
       "<Figure size 720x360 with 1 Axes>"
      ]
     },
     "metadata": {},
     "output_type": "display_data"
    }
   ],
   "source": [
    "\n",
    "#How much money was spent? over time\n",
    "data_cost_month=data_costs.groupby('cost_month')['costs'].sum().reset_index()\n",
    "data_cost_month\n",
    "plt.figure(figsize=(10,5))\n",
    "plt.plot(data_cost_month['cost_month'], data_cost_month['costs'],color='tab:red')\n",
    "plt.title('Cost by month')\n",
    "plt.xlabel('Year-Month')\n",
    "plt.ylabel('Total Cost')\n",
    "plt.show()"
   ]
  },
  {
   "cell_type": "markdown",
   "metadata": {},
   "source": [
    "#### Conclusion\n",
    "1. Cost is highest for source_id=3\n",
    "2. Cost starts to increase from september and reached to maximum in November and December. Later starts to decrease."
   ]
  },
  {
   "cell_type": "markdown",
   "metadata": {},
   "source": [
    "### How much did customer acquisition from each of the sources cost?"
   ]
  },
  {
   "cell_type": "code",
   "execution_count": 205,
   "metadata": {
    "scrolled": true
   },
   "outputs": [
    {
     "data": {
      "text/html": [
       "<div>\n",
       "<style scoped>\n",
       "    .dataframe tbody tr th:only-of-type {\n",
       "        vertical-align: middle;\n",
       "    }\n",
       "\n",
       "    .dataframe tbody tr th {\n",
       "        vertical-align: top;\n",
       "    }\n",
       "\n",
       "    .dataframe thead th {\n",
       "        text-align: right;\n",
       "    }\n",
       "</style>\n",
       "<table border=\"1\" class=\"dataframe\">\n",
       "  <thead>\n",
       "    <tr style=\"text-align: right;\">\n",
       "      <th></th>\n",
       "      <th>source_id</th>\n",
       "      <th>costs</th>\n",
       "      <th>uid</th>\n",
       "      <th>cost_per_user</th>\n",
       "    </tr>\n",
       "  </thead>\n",
       "  <tbody>\n",
       "    <tr>\n",
       "      <th>0</th>\n",
       "      <td>1</td>\n",
       "      <td>20833.27</td>\n",
       "      <td>18998</td>\n",
       "      <td>1.096603</td>\n",
       "    </tr>\n",
       "    <tr>\n",
       "      <th>1</th>\n",
       "      <td>2</td>\n",
       "      <td>42806.04</td>\n",
       "      <td>26244</td>\n",
       "      <td>1.631079</td>\n",
       "    </tr>\n",
       "    <tr>\n",
       "      <th>2</th>\n",
       "      <td>3</td>\n",
       "      <td>141321.63</td>\n",
       "      <td>74755</td>\n",
       "      <td>1.890464</td>\n",
       "    </tr>\n",
       "    <tr>\n",
       "      <th>3</th>\n",
       "      <td>4</td>\n",
       "      <td>61073.60</td>\n",
       "      <td>83523</td>\n",
       "      <td>0.731219</td>\n",
       "    </tr>\n",
       "    <tr>\n",
       "      <th>4</th>\n",
       "      <td>5</td>\n",
       "      <td>51757.10</td>\n",
       "      <td>56972</td>\n",
       "      <td>0.908466</td>\n",
       "    </tr>\n",
       "    <tr>\n",
       "      <th>5</th>\n",
       "      <td>9</td>\n",
       "      <td>5517.49</td>\n",
       "      <td>9264</td>\n",
       "      <td>0.595584</td>\n",
       "    </tr>\n",
       "    <tr>\n",
       "      <th>6</th>\n",
       "      <td>10</td>\n",
       "      <td>5822.49</td>\n",
       "      <td>8066</td>\n",
       "      <td>0.721856</td>\n",
       "    </tr>\n",
       "  </tbody>\n",
       "</table>\n",
       "</div>"
      ],
      "text/plain": [
       "   source_id      costs    uid  cost_per_user\n",
       "0          1   20833.27  18998       1.096603\n",
       "1          2   42806.04  26244       1.631079\n",
       "2          3  141321.63  74755       1.890464\n",
       "3          4   61073.60  83523       0.731219\n",
       "4          5   51757.10  56972       0.908466\n",
       "5          9    5517.49   9264       0.595584\n",
       "6         10    5822.49   8066       0.721856"
      ]
     },
     "execution_count": 205,
     "metadata": {},
     "output_type": "execute_result"
    }
   ],
   "source": [
    "#cost by source for each visitors\n",
    "data_cost_bySource=data_costs.groupby('source_id').agg({'costs':'sum'}).reset_index()\n",
    "data_visits_bySource=data_visits.groupby('source_id').agg({'uid':'nunique'})\n",
    "data_cac=data_cost_bySource.merge(data_visits_bySource, on='source_id', how='left')\n",
    "data_cac['cost_per_user']=data_cac['costs']/data_cac['uid']\n",
    "data_cac"
   ]
  },
  {
   "cell_type": "code",
   "execution_count": 206,
   "metadata": {},
   "outputs": [
    {
     "data": {
      "image/png": "[encoded data removed]",
      "text/plain": [
       "<Figure size 720x360 with 1 Axes>"
      ]
     },
     "metadata": {},
     "output_type": "display_data"
    }
   ],
   "source": [
    "#Bar chart for cost by source.\n",
    "data_cac.plot(kind=\"bar\", title='Source wise CAC-visitors',x='source_id', y='cost_per_user', figsize=(10,5))\n",
    "plt.xlabel(\"Source\")\n",
    "plt.ylabel(\"Cost Per User\")\n",
    "plt.show()"
   ]
  },
  {
   "cell_type": "markdown",
   "metadata": {},
   "source": [
    "CAC of visitors is highest for source_id=3"
   ]
  },
  {
   "cell_type": "code",
   "execution_count": 207,
   "metadata": {},
   "outputs": [
    {
     "data": {
      "text/html": [
       "<div>\n",
       "<style scoped>\n",
       "    .dataframe tbody tr th:only-of-type {\n",
       "        vertical-align: middle;\n",
       "    }\n",
       "\n",
       "    .dataframe tbody tr th {\n",
       "        vertical-align: top;\n",
       "    }\n",
       "\n",
       "    .dataframe thead th {\n",
       "        text-align: right;\n",
       "    }\n",
       "</style>\n",
       "<table border=\"1\" class=\"dataframe\">\n",
       "  <thead>\n",
       "    <tr style=\"text-align: right;\">\n",
       "      <th></th>\n",
       "      <th>index</th>\n",
       "      <th>uid</th>\n",
       "      <th>source_id</th>\n",
       "    </tr>\n",
       "  </thead>\n",
       "  <tbody>\n",
       "    <tr>\n",
       "      <th>0</th>\n",
       "      <td>0</td>\n",
       "      <td>11863502262781</td>\n",
       "      <td>3</td>\n",
       "    </tr>\n",
       "    <tr>\n",
       "      <th>1</th>\n",
       "      <td>1</td>\n",
       "      <td>49537067089222</td>\n",
       "      <td>2</td>\n",
       "    </tr>\n",
       "    <tr>\n",
       "      <th>2</th>\n",
       "      <td>2</td>\n",
       "      <td>297729379853735</td>\n",
       "      <td>3</td>\n",
       "    </tr>\n",
       "    <tr>\n",
       "      <th>3</th>\n",
       "      <td>3</td>\n",
       "      <td>313578113262317</td>\n",
       "      <td>2</td>\n",
       "    </tr>\n",
       "    <tr>\n",
       "      <th>4</th>\n",
       "      <td>4</td>\n",
       "      <td>325320750514679</td>\n",
       "      <td>5</td>\n",
       "    </tr>\n",
       "    <tr>\n",
       "      <th>...</th>\n",
       "      <td>...</td>\n",
       "      <td>...</td>\n",
       "      <td>...</td>\n",
       "    </tr>\n",
       "    <tr>\n",
       "      <th>228157</th>\n",
       "      <td>37714</td>\n",
       "      <td>18445407535914413204</td>\n",
       "      <td>3</td>\n",
       "    </tr>\n",
       "    <tr>\n",
       "      <th>228158</th>\n",
       "      <td>37715</td>\n",
       "      <td>18445456946869452085</td>\n",
       "      <td>3</td>\n",
       "    </tr>\n",
       "    <tr>\n",
       "      <th>228159</th>\n",
       "      <td>37716</td>\n",
       "      <td>18445601152732270159</td>\n",
       "      <td>2</td>\n",
       "    </tr>\n",
       "    <tr>\n",
       "      <th>228160</th>\n",
       "      <td>37717</td>\n",
       "      <td>18445884613277162497</td>\n",
       "      <td>1</td>\n",
       "    </tr>\n",
       "    <tr>\n",
       "      <th>228161</th>\n",
       "      <td>37718</td>\n",
       "      <td>18446156210226471712</td>\n",
       "      <td>1</td>\n",
       "    </tr>\n",
       "  </tbody>\n",
       "</table>\n",
       "<p>228162 rows × 3 columns</p>\n",
       "</div>"
      ],
      "text/plain": [
       "        index                   uid  source_id\n",
       "0           0        11863502262781          3\n",
       "1           1        49537067089222          2\n",
       "2           2       297729379853735          3\n",
       "3           3       313578113262317          2\n",
       "4           4       325320750514679          5\n",
       "...       ...                   ...        ...\n",
       "228157  37714  18445407535914413204          3\n",
       "228158  37715  18445456946869452085          3\n",
       "228159  37716  18445601152732270159          2\n",
       "228160  37717  18445884613277162497          1\n",
       "228161  37718  18446156210226471712          1\n",
       "\n",
       "[228162 rows x 3 columns]"
      ]
     },
     "execution_count": 207,
     "metadata": {},
     "output_type": "execute_result"
    }
   ],
   "source": [
    "#Calculate unique source for each user from the visit table.\n",
    "\n",
    "user_source_count=data_visits.groupby(['uid']).agg({'source_id':['count','nunique','min']}).reset_index()\n",
    "user_source_count.columns=['uid','source_count','source_unique','source_id_single']\n",
    "# Getting only those users who have single source\n",
    "user_source_single=user_source_count[user_source_count.source_unique==1]\n",
    "\n",
    "\n",
    "#Getting Users who have multiple sources and then find/update most common source for each user.\n",
    "user_source_multi=user_source_count[user_source_count.source_unique>1].merge(data_visits[['uid','source_id']], on='uid', how='inner')\n",
    "user_source_multi=user_source_multi.groupby(['uid'])['source_id'].agg(lambda x: x.mode()[0]).reset_index()\n",
    "\n",
    "#remove all duplicate record.\n",
    "user_source_single.rename(columns={'source_id_single':'source_id'},inplace=True)\n",
    "user_source_single=user_source_single[['uid','source_id']]\n",
    "user_source_single=user_source_single.drop_duplicates()\n",
    "#remove all duplicate record.\n",
    "user_source_multi=user_source_multi.drop_duplicates().reset_index()\n",
    "#append tables.\n",
    "user_source_final=user_source_single.append(user_source_multi)\n",
    "user_source_final=user_source_final[['uid','source_id']].drop_duplicates().reset_index()\n",
    "user_source_final\n"
   ]
  },
  {
   "cell_type": "code",
   "execution_count": 208,
   "metadata": {},
   "outputs": [
    {
     "data": {
      "text/html": [
       "<div>\n",
       "<style scoped>\n",
       "    .dataframe tbody tr th:only-of-type {\n",
       "        vertical-align: middle;\n",
       "    }\n",
       "\n",
       "    .dataframe tbody tr th {\n",
       "        vertical-align: top;\n",
       "    }\n",
       "\n",
       "    .dataframe thead th {\n",
       "        text-align: right;\n",
       "    }\n",
       "</style>\n",
       "<table border=\"1\" class=\"dataframe\">\n",
       "  <thead>\n",
       "    <tr style=\"text-align: right;\">\n",
       "      <th></th>\n",
       "      <th>source_id</th>\n",
       "      <th>costs</th>\n",
       "      <th>uid</th>\n",
       "      <th>cost_per_user</th>\n",
       "    </tr>\n",
       "  </thead>\n",
       "  <tbody>\n",
       "    <tr>\n",
       "      <th>0</th>\n",
       "      <td>1</td>\n",
       "      <td>20833.27</td>\n",
       "      <td>5058</td>\n",
       "      <td>4.118875</td>\n",
       "    </tr>\n",
       "    <tr>\n",
       "      <th>1</th>\n",
       "      <td>2</td>\n",
       "      <td>42806.04</td>\n",
       "      <td>5180</td>\n",
       "      <td>8.263714</td>\n",
       "    </tr>\n",
       "    <tr>\n",
       "      <th>2</th>\n",
       "      <td>3</td>\n",
       "      <td>141321.63</td>\n",
       "      <td>9317</td>\n",
       "      <td>15.168147</td>\n",
       "    </tr>\n",
       "    <tr>\n",
       "      <th>3</th>\n",
       "      <td>4</td>\n",
       "      <td>61073.60</td>\n",
       "      <td>9323</td>\n",
       "      <td>6.550853</td>\n",
       "    </tr>\n",
       "    <tr>\n",
       "      <th>4</th>\n",
       "      <td>5</td>\n",
       "      <td>51757.10</td>\n",
       "      <td>5640</td>\n",
       "      <td>9.176791</td>\n",
       "    </tr>\n",
       "    <tr>\n",
       "      <th>5</th>\n",
       "      <td>9</td>\n",
       "      <td>5517.49</td>\n",
       "      <td>1008</td>\n",
       "      <td>5.473700</td>\n",
       "    </tr>\n",
       "    <tr>\n",
       "      <th>6</th>\n",
       "      <td>10</td>\n",
       "      <td>5822.49</td>\n",
       "      <td>995</td>\n",
       "      <td>5.851749</td>\n",
       "    </tr>\n",
       "  </tbody>\n",
       "</table>\n",
       "</div>"
      ],
      "text/plain": [
       "   source_id      costs   uid  cost_per_user\n",
       "0          1   20833.27  5058       4.118875\n",
       "1          2   42806.04  5180       8.263714\n",
       "2          3  141321.63  9317      15.168147\n",
       "3          4   61073.60  9323       6.550853\n",
       "4          5   51757.10  5640       9.176791\n",
       "5          9    5517.49  1008       5.473700\n",
       "6         10    5822.49   995       5.851749"
      ]
     },
     "execution_count": 208,
     "metadata": {},
     "output_type": "execute_result"
    }
   ],
   "source": [
    "#changes v.1 - new code added  \n",
    "#cost by source for each depositor\n",
    "data_cost_bySource=data_costs.groupby('source_id').agg({'costs':'sum'}).reset_index()\n",
    "df_depositor_count=pd.merge(data_orders[['uid']],user_source_final, on='uid',how='inner')\n",
    "data_depositer_bySource=df_depositor_count.groupby('source_id').agg({'uid':'nunique'})\n",
    "data_cac_dep=data_cost_bySource.merge(data_depositer_bySource, on='source_id', how='left')\n",
    "data_cac_dep['cost_per_user']=data_cac_dep['costs']/data_cac_dep['uid']\n",
    "data_cac_dep"
   ]
  },
  {
   "cell_type": "code",
   "execution_count": 209,
   "metadata": {},
   "outputs": [],
   "source": [
    "#changes v.1 - code commented\n",
    "#cost by source for each depositor\n",
    "#data_cost_bySource=data_costs.groupby('source_id').agg({'costs':'sum'}).reset_index()\n",
    "#data_depositer_bySource=user_source_final.groupby('source_id').agg({'uid':'nunique'})\n",
    "#data_cac_dep=data_cost_bySource.merge(data_depositer_bySource, on='source_id', how='left')\n",
    "#data_cac_dep['cost_per_user']=data_cac_dep['costs']/data_cac_dep['uid']\n",
    "#data_cac_dep"
   ]
  },
  {
   "cell_type": "code",
   "execution_count": 210,
   "metadata": {},
   "outputs": [
    {
     "data": {
      "image/png": "[encoded data removed]",
      "text/plain": [
       "<Figure size 720x360 with 1 Axes>"
      ]
     },
     "metadata": {},
     "output_type": "display_data"
    }
   ],
   "source": [
    "#Bar chart for cost by source.\n",
    "data_cac_dep.plot(kind=\"bar\", title='Source wise CAC-depositor',x='source_id', y='cost_per_user', figsize=(10,5))\n",
    "plt.xlabel(\"Source\")\n",
    "plt.ylabel(\"Cost Per User\")\n",
    "plt.show()"
   ]
  },
  {
   "cell_type": "markdown",
   "metadata": {},
   "source": [
    "CAC for each depositer is high for source_id =3"
   ]
  },
  {
   "cell_type": "code",
   "execution_count": 211,
   "metadata": {},
   "outputs": [],
   "source": [
    "#changes v.1 - Existing code block commented\n",
    "#cost by month\n",
    "#data_cost_byMonth=data_costs.groupby('cost_month').agg({'costs':'sum'}).reset_index()\n",
    "#data_visit_bymonth=data_visits.groupby('start_ts_monthly').agg({'uid':'nunique'}).reset_index().rename(columns={'start_ts_monthly':'cost_month'})\n",
    "#data_cac_month=data_cost_byMonth.merge(data_visit_bymonth, on='cost_month', how='left')\n",
    "#data_cac_month['cost_per_user']=data_cac_month['costs']/data_cac_month['uid']\n",
    "#data_cac_month"
   ]
  },
  {
   "cell_type": "code",
   "execution_count": 212,
   "metadata": {},
   "outputs": [
    {
     "data": {
      "text/html": [
       "<div>\n",
       "<style scoped>\n",
       "    .dataframe tbody tr th:only-of-type {\n",
       "        vertical-align: middle;\n",
       "    }\n",
       "\n",
       "    .dataframe tbody tr th {\n",
       "        vertical-align: top;\n",
       "    }\n",
       "\n",
       "    .dataframe thead th {\n",
       "        text-align: right;\n",
       "    }\n",
       "</style>\n",
       "<table border=\"1\" class=\"dataframe\">\n",
       "  <thead>\n",
       "    <tr style=\"text-align: right;\">\n",
       "      <th></th>\n",
       "      <th>cost_month</th>\n",
       "      <th>costs</th>\n",
       "      <th>uid</th>\n",
       "      <th>cost_per_user_per_month</th>\n",
       "    </tr>\n",
       "  </thead>\n",
       "  <tbody>\n",
       "    <tr>\n",
       "      <th>0</th>\n",
       "      <td>2017-06-01</td>\n",
       "      <td>18015.00</td>\n",
       "      <td>2023</td>\n",
       "      <td>8.905091</td>\n",
       "    </tr>\n",
       "    <tr>\n",
       "      <th>1</th>\n",
       "      <td>2017-07-01</td>\n",
       "      <td>18240.59</td>\n",
       "      <td>1984</td>\n",
       "      <td>9.193846</td>\n",
       "    </tr>\n",
       "    <tr>\n",
       "      <th>2</th>\n",
       "      <td>2017-08-01</td>\n",
       "      <td>14790.54</td>\n",
       "      <td>1472</td>\n",
       "      <td>10.047921</td>\n",
       "    </tr>\n",
       "    <tr>\n",
       "      <th>3</th>\n",
       "      <td>2017-09-01</td>\n",
       "      <td>24368.91</td>\n",
       "      <td>2750</td>\n",
       "      <td>8.861422</td>\n",
       "    </tr>\n",
       "    <tr>\n",
       "      <th>4</th>\n",
       "      <td>2017-10-01</td>\n",
       "      <td>36322.88</td>\n",
       "      <td>4675</td>\n",
       "      <td>7.769600</td>\n",
       "    </tr>\n",
       "    <tr>\n",
       "      <th>...</th>\n",
       "      <td>...</td>\n",
       "      <td>...</td>\n",
       "      <td>...</td>\n",
       "      <td>...</td>\n",
       "    </tr>\n",
       "    <tr>\n",
       "      <th>7</th>\n",
       "      <td>2018-01-01</td>\n",
       "      <td>33518.52</td>\n",
       "      <td>3898</td>\n",
       "      <td>8.598902</td>\n",
       "    </tr>\n",
       "    <tr>\n",
       "      <th>8</th>\n",
       "      <td>2018-02-01</td>\n",
       "      <td>32723.03</td>\n",
       "      <td>4258</td>\n",
       "      <td>7.685070</td>\n",
       "    </tr>\n",
       "    <tr>\n",
       "      <th>9</th>\n",
       "      <td>2018-03-01</td>\n",
       "      <td>30415.27</td>\n",
       "      <td>4181</td>\n",
       "      <td>7.274640</td>\n",
       "    </tr>\n",
       "    <tr>\n",
       "      <th>10</th>\n",
       "      <td>2018-04-01</td>\n",
       "      <td>22289.38</td>\n",
       "      <td>2744</td>\n",
       "      <td>8.122952</td>\n",
       "    </tr>\n",
       "    <tr>\n",
       "      <th>11</th>\n",
       "      <td>2018-05-01</td>\n",
       "      <td>22224.27</td>\n",
       "      <td>3544</td>\n",
       "      <td>6.270957</td>\n",
       "    </tr>\n",
       "  </tbody>\n",
       "</table>\n",
       "<p>12 rows × 4 columns</p>\n",
       "</div>"
      ],
      "text/plain": [
       "   cost_month     costs   uid  cost_per_user_per_month\n",
       "0  2017-06-01  18015.00  2023                 8.905091\n",
       "1  2017-07-01  18240.59  1984                 9.193846\n",
       "2  2017-08-01  14790.54  1472                10.047921\n",
       "3  2017-09-01  24368.91  2750                 8.861422\n",
       "4  2017-10-01  36322.88  4675                 7.769600\n",
       "..        ...       ...   ...                      ...\n",
       "7  2018-01-01  33518.52  3898                 8.598902\n",
       "8  2018-02-01  32723.03  4258                 7.685070\n",
       "9  2018-03-01  30415.27  4181                 7.274640\n",
       "10 2018-04-01  22289.38  2744                 8.122952\n",
       "11 2018-05-01  22224.27  3544                 6.270957\n",
       "\n",
       "[12 rows x 4 columns]"
      ]
     },
     "execution_count": 212,
     "metadata": {},
     "output_type": "execute_result"
    }
   ],
   "source": [
    "#changes v.1 - new code added  \n",
    "#cost by month\n",
    "data_cost_byMonth=data_costs.groupby('cost_month').agg({'costs':'sum'}).reset_index()\n",
    "data_order_bymonth=data_orders.groupby('order_month').agg({'uid':'nunique'}).reset_index().rename(columns={'order_month':'cost_month'})\n",
    "data_cac_month=data_cost_byMonth.merge(data_order_bymonth, on='cost_month', how='left')\n",
    "data_cac_month['cost_per_user_per_month']=data_cac_month['costs']/data_cac_month['uid']\n",
    "data_cac_month"
   ]
  },
  {
   "cell_type": "code",
   "execution_count": 213,
   "metadata": {},
   "outputs": [],
   "source": [
    "#changes v.1 - code block commented\n",
    "#cost by source for each visitors\n",
    "#data_cost_bySource = data_costs.groupby('source_id').agg({'costs':'sum'}).reset_index()\n",
    "#source_id = data_visits.groupby('uid').agg({'source_id' : 'mean'}).reset_index()\n",
    "#data_visits_bySource = data_orders.merge(source_id, on = \"uid\")\n",
    "\n",
    "#data_visits_bySource"
   ]
  },
  {
   "cell_type": "code",
   "execution_count": 214,
   "metadata": {},
   "outputs": [
    {
     "data": {
      "image/png": "[encoded data removed]",
      "text/plain": [
       "<Figure size 720x360 with 1 Axes>"
      ]
     },
     "metadata": {},
     "output_type": "display_data"
    }
   ],
   "source": [
    "plt.figure(figsize=(10,5))\n",
    "plt.plot(data_cac_month['cost_month'],data_cac_month['cost_per_user_per_month'],color='tab:red')\n",
    "plt.title('Cost Per User-Monthly')\n",
    "plt.xlabel('Year-Month')\n",
    "plt.ylabel('Cost Per User')\n",
    "plt.show()"
   ]
  },
  {
   "cell_type": "markdown",
   "metadata": {},
   "source": [
    "Cost is highest in June, July and August.\n",
    "Cost suddenly increases in november, Janauary and April and then start to decrease."
   ]
  },
  {
   "cell_type": "markdown",
   "metadata": {},
   "source": [
    "### How worthwhile where the investments? (ROI)"
   ]
  },
  {
   "cell_type": "code",
   "execution_count": 215,
   "metadata": {
    "scrolled": true
   },
   "outputs": [
    {
     "data": {
      "text/html": [
       "<div>\n",
       "<style scoped>\n",
       "    .dataframe tbody tr th:only-of-type {\n",
       "        vertical-align: middle;\n",
       "    }\n",
       "\n",
       "    .dataframe tbody tr th {\n",
       "        vertical-align: top;\n",
       "    }\n",
       "\n",
       "    .dataframe thead th {\n",
       "        text-align: right;\n",
       "    }\n",
       "</style>\n",
       "<table border=\"1\" class=\"dataframe\">\n",
       "  <thead>\n",
       "    <tr style=\"text-align: right;\">\n",
       "      <th></th>\n",
       "      <th>source_id</th>\n",
       "      <th>revenue</th>\n",
       "      <th>n_buyers</th>\n",
       "      <th>ltv</th>\n",
       "      <th>cost_per_user</th>\n",
       "      <th>costs</th>\n",
       "      <th>romi</th>\n",
       "      <th>net_rev</th>\n",
       "    </tr>\n",
       "  </thead>\n",
       "  <tbody>\n",
       "    <tr>\n",
       "      <th>0</th>\n",
       "      <td>1</td>\n",
       "      <td>48606.65</td>\n",
       "      <td>5058</td>\n",
       "      <td>9.609856</td>\n",
       "      <td>4.118875</td>\n",
       "      <td>20833.27</td>\n",
       "      <td>2.333126</td>\n",
       "      <td>27773.38</td>\n",
       "    </tr>\n",
       "    <tr>\n",
       "      <th>1</th>\n",
       "      <td>2</td>\n",
       "      <td>74615.08</td>\n",
       "      <td>5180</td>\n",
       "      <td>14.404456</td>\n",
       "      <td>8.263714</td>\n",
       "      <td>42806.04</td>\n",
       "      <td>1.743097</td>\n",
       "      <td>31809.04</td>\n",
       "    </tr>\n",
       "    <tr>\n",
       "      <th>2</th>\n",
       "      <td>3</td>\n",
       "      <td>42473.70</td>\n",
       "      <td>9317</td>\n",
       "      <td>4.558731</td>\n",
       "      <td>15.168147</td>\n",
       "      <td>141321.63</td>\n",
       "      <td>0.300546</td>\n",
       "      <td>-98847.93</td>\n",
       "    </tr>\n",
       "    <tr>\n",
       "      <th>3</th>\n",
       "      <td>4</td>\n",
       "      <td>45707.94</td>\n",
       "      <td>9323</td>\n",
       "      <td>4.902707</td>\n",
       "      <td>6.550853</td>\n",
       "      <td>61073.60</td>\n",
       "      <td>0.748407</td>\n",
       "      <td>-15365.66</td>\n",
       "    </tr>\n",
       "    <tr>\n",
       "      <th>4</th>\n",
       "      <td>5</td>\n",
       "      <td>33046.69</td>\n",
       "      <td>5640</td>\n",
       "      <td>5.859342</td>\n",
       "      <td>9.176791</td>\n",
       "      <td>51757.10</td>\n",
       "      <td>0.638496</td>\n",
       "      <td>-18710.41</td>\n",
       "    </tr>\n",
       "    <tr>\n",
       "      <th>5</th>\n",
       "      <td>7</td>\n",
       "      <td>1.22</td>\n",
       "      <td>1</td>\n",
       "      <td>1.220000</td>\n",
       "      <td>NaN</td>\n",
       "      <td>NaN</td>\n",
       "      <td>NaN</td>\n",
       "      <td>NaN</td>\n",
       "    </tr>\n",
       "    <tr>\n",
       "      <th>6</th>\n",
       "      <td>9</td>\n",
       "      <td>4528.10</td>\n",
       "      <td>1008</td>\n",
       "      <td>4.492163</td>\n",
       "      <td>5.473700</td>\n",
       "      <td>5517.49</td>\n",
       "      <td>0.820681</td>\n",
       "      <td>-989.39</td>\n",
       "    </tr>\n",
       "    <tr>\n",
       "      <th>7</th>\n",
       "      <td>10</td>\n",
       "      <td>3074.40</td>\n",
       "      <td>995</td>\n",
       "      <td>3.089849</td>\n",
       "      <td>5.851749</td>\n",
       "      <td>5822.49</td>\n",
       "      <td>0.528022</td>\n",
       "      <td>-2748.09</td>\n",
       "    </tr>\n",
       "  </tbody>\n",
       "</table>\n",
       "</div>"
      ],
      "text/plain": [
       "   source_id   revenue  n_buyers        ltv  cost_per_user      costs  \\\n",
       "0          1  48606.65      5058   9.609856       4.118875   20833.27   \n",
       "1          2  74615.08      5180  14.404456       8.263714   42806.04   \n",
       "2          3  42473.70      9317   4.558731      15.168147  141321.63   \n",
       "3          4  45707.94      9323   4.902707       6.550853   61073.60   \n",
       "4          5  33046.69      5640   5.859342       9.176791   51757.10   \n",
       "5          7      1.22         1   1.220000            NaN        NaN   \n",
       "6          9   4528.10      1008   4.492163       5.473700    5517.49   \n",
       "7         10   3074.40       995   3.089849       5.851749    5822.49   \n",
       "\n",
       "       romi   net_rev  \n",
       "0  2.333126  27773.38  \n",
       "1  1.743097  31809.04  \n",
       "2  0.300546 -98847.93  \n",
       "3  0.748407 -15365.66  \n",
       "4  0.638496 -18710.41  \n",
       "5       NaN       NaN  \n",
       "6  0.820681   -989.39  \n",
       "7  0.528022  -2748.09  "
      ]
     },
     "execution_count": 215,
     "metadata": {},
     "output_type": "execute_result"
    }
   ],
   "source": [
    "data_conversion=data_conversion.merge(user_source_final,on='uid',how='inner')\n",
    "data_conversion_ltv=data_conversion.groupby(['source_id']).agg({'revenue':'sum', 'uid':'nunique'}).reset_index()\n",
    "data_conversion_ltv.columns=['source_id','revenue','n_buyers']\n",
    "data_conversion_ltv['ltv']= data_conversion_ltv['revenue'] / data_conversion_ltv['n_buyers']\n",
    "data_romi=data_conversion_ltv.merge(data_cac_dep[['source_id','cost_per_user','costs']],on='source_id',how='outer')\n",
    "data_romi['romi'] = data_romi['ltv'] / data_romi['cost_per_user']\n",
    "data_romi['net_rev']=data_romi['revenue'] - data_romi['costs']\n",
    "data_romi"
   ]
  },
  {
   "cell_type": "markdown",
   "metadata": {},
   "source": [
    "## Conclusion\n"
   ]
  },
  {
   "cell_type": "markdown",
   "metadata": {},
   "source": [
    "1. After analysing the above metric I'll recomend the market department should invest in source_id 1 and 2 as rest of the sources's net revenue are not paying. They are in loss.\n",
    "2. We should discard source 3 as it has the highest cost.\n",
    "3. Cost of sources starts to increase from september and reached to maximum in November and December. Later starts to decrease.\n",
    "3. As we can see the retention is very low and conversion is very high for 0 days. So with that we can say that the website sells something like tickets etc. for which users gerenrally come to purchase on the same day. \n",
    "4. After grouping the data by device wise, we can say large portion of users still uses desktop than touch devices. which may be because the website is not that much user friendly for touch/mobile devices so we can ask the team to check the cause for this. \n",
    "5. After looking at DAU and MAU, we can say that daily and monthly users visits are maximum in November and December and at at minimum in june, july, august and september.\n",
    "6. Overall june, september and december cohort are better with respect LTV.\n",
    "7. June cohort overall retention rate is better as compared to other cohort."
   ]
  }
 ],
 "metadata": {
  "kernelspec": {
   "display_name": "Python 3",
   "language": "python",
   "name": "python3"
  },
  "language_info": {
   "codemirror_mode": {
    "name": "ipython",
    "version": 3
   },
   "file_extension": ".py",
   "mimetype": "text/x-python",
   "name": "python",
   "nbconvert_exporter": "python",
   "pygments_lexer": "ipython3",
   "version": "3.8.5"
  },
  "toc": {
   "base_numbering": 1,
   "nav_menu": {},
   "number_sections": true,
   "sideBar": true,
   "skip_h1_title": true,
   "title_cell": "Table of Contents",
   "title_sidebar": "Contents",
   "toc_cell": false,
   "toc_position": {},
   "toc_section_display": true,
   "toc_window_display": false
  }
 },
 "nbformat": 4,
 "nbformat_minor": 4
}
